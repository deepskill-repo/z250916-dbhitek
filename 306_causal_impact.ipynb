{
 "cells": [
  {
   "cell_type": "markdown",
   "metadata": {},
   "source": [
    "# Causal Impact"
   ]
  },
  {
   "cell_type": "code",
   "execution_count": null,
   "metadata": {},
   "outputs": [],
   "source": [
    "# !pip install pycausalimpact"
   ]
  },
  {
   "cell_type": "markdown",
   "metadata": {},
   "source": [
    "## 1. 데이터 준비\n",
    "먼저, 데이터를 로드하고 날짜 형식을 변환합니다."
   ]
  },
  {
   "cell_type": "code",
   "execution_count": null,
   "metadata": {},
   "outputs": [],
   "source": [
    "import pandas as pd\n",
    "import matplotlib.pyplot as plt\n",
    "from causalimpact import CausalImpact\n",
    "\n",
    "# 데이터 로드\n",
    "data = pd.read_csv(\"time-series.csv\")\n",
    "data['date'] = pd.to_datetime(data['date'])\n",
    "\n",
    "treatment_date = pd.to_datetime('2023-06-30')"
   ]
  },
  {
   "cell_type": "markdown",
   "metadata": {},
   "source": [
    "## 2. CausalImpact 분석을 위한 데이터 준비"
   ]
  },
  {
   "cell_type": "code",
   "execution_count": null,
   "metadata": {},
   "outputs": [],
   "source": [
    "# Factory A와 B의 데이터 분리\n",
    "factory_a = data[data['factory'] == 'Factory A'].set_index('date')['productivity']\n",
    "factory_b = data[data['factory'] == 'Factory B'].set_index('date')['productivity']\n",
    "\n",
    "# CausalImpact 분석을 위한 데이터 준비\n",
    "impact_data = pd.concat([factory_a, factory_b], axis=1)\n",
    "impact_data.columns = ['Factory_A', 'Factory_B']\n",
    "\n",
    "impact_data.head()"
   ]
  },
  {
   "cell_type": "markdown",
   "metadata": {},
   "source": [
    "## 3. 분석 기간 설정\n",
    "분석 기간을 설정합니다. pre_period는 조치 이전의 기간을, post_period는 조치 이후의 기간을 나타냅니다."
   ]
  },
  {
   "cell_type": "code",
   "execution_count": null,
   "metadata": {},
   "outputs": [],
   "source": [
    "# 분석 기간 설정\n",
    "pre_period = [str(impact_data.index.min().date()), str((impact_data.index[impact_data.index < treatment_date].max().date()))]\n",
    "post_period = [str(treatment_date.date()), str(impact_data.index.max().date())]"
   ]
  },
  {
   "cell_type": "markdown",
   "metadata": {},
   "source": [
    "## 4. CausalImpact 분석 실행\n"
   ]
  },
  {
   "cell_type": "markdown",
   "metadata": {},
   "source": [
    "`CausalImpact`는 구글에서 개발한 R 패키지로, 특정 시점에 발생한 조치나 이벤트의 영향을 시계열 데이터를 통해 분석하는 도구입니다. 이 패키지는 이후에 Python으로도 이식되어 동일한 기능을 제공합니다. 주요 기능은 다음과 같습니다:\n",
    "\n",
    "- **전처리 및 후처리 구간의 설정**: 조치 전후의 데이터를 비교하여 효과를 추정합니다.\n",
    "- **상관 관계를 활용한 조정**: 여러 시계열 데이터를 활용하여 분석의 정확성을 높입니다.\n",
    "- **베이지안 구조적 시계열 모델**: 베이지안 접근법을 통해 불확실성을 반영한 예측과 추정을 제공합니다.\n",
    "\n",
    "`CausalImpact`는 두 가지 주요 단계를 통해 조치의 영향을 평가합니다:\n",
    "1. **사전(Pre) 기간 설정**: 조치가 시행되기 전의 기간을 설정합니다.\n",
    "2. **사후(Post) 기간 설정**: 조치가 시행된 후의 기간을 설정합니다.\n",
    "\n",
    "이를 통해 조치 전후의 변화를 분석하여 조치의 효과를 추정할 수 있습니다."
   ]
  },
  {
   "cell_type": "code",
   "execution_count": null,
   "metadata": {},
   "outputs": [],
   "source": [
    "# CausalImpact 분석 실행\n",
    "ci = CausalImpact(impact_data, pre_period, post_period)"
   ]
  },
  {
   "cell_type": "markdown",
   "metadata": {},
   "source": [
    "위의 코드에서 `CausalImpact` 객체를 생성할 때, `impact_data`, `pre_period`, `post_period` 세 가지 인수를 전달합니다.\n",
    "- `impact_data`: 분석할 시계열 데이터입니다. 여기서는 Factory A와 Factory B의 생산성 데이터를 포함합니다.\n",
    "- `pre_period`: 조치가 시행되기 전의 기간입니다. 이 기간 동안의 데이터를 사용하여 모델을 학습하고, 조치가 없었을 때의 예측값을 생성합니다.\n",
    "- `post_period`: 조치가 시행된 후의 기간입니다. 이 기간 동안의 실제 데이터를 사용하여 조치의 효과를 평가합니다."
   ]
  },
  {
   "cell_type": "code",
   "execution_count": null,
   "metadata": {},
   "outputs": [],
   "source": [
    "# 결과 출력\n",
    "print(ci.summary())\n",
    "print(ci.summary(output='report'))"
   ]
  },
  {
   "cell_type": "markdown",
   "metadata": {},
   "source": [
    "`CausalImpact` 객체의 `summary` 메소드는 분석 결과의 요약을 출력합니다. `summary(output='report')` 메소드는 더 자세한 보고서를 출력합니다.\n",
    "\n",
    "- `ci.summary()`: 조치의 전반적인 영향을 요약합니다. 주요 통계치와 추정된 효과가 포함됩니다.\n",
    "- `ci.summary(output='report')`: 조치의 영향을 보다 자세히 설명하는 보고서를 출력합니다. 이 보고서는 분석 방법, 데이터 설명, 결과 해석 등을 포함합니다.\n",
    "\n",
    "이 두 개의 출력은 조치의 효과를 이해하는 데 중요한 정보를 제공합니다. 요약 정보는 빠르게 전체적인 결과를 파악하는 데 유용하고, 자세한 보고서는 심층적인 분석과 설명을 제공합니다."
   ]
  },
  {
   "cell_type": "markdown",
   "metadata": {},
   "source": [
    "## 5. 결과 시각화\n",
    "분석 결과를 시각화합니다."
   ]
  },
  {
   "cell_type": "code",
   "execution_count": null,
   "metadata": {},
   "outputs": [],
   "source": [
    "ci.plot()\n",
    "plt.show()"
   ]
  },
  {
   "cell_type": "code",
   "execution_count": null,
   "metadata": {},
   "outputs": [],
   "source": [
    "# 원본 데이터 시각화\n",
    "plt.figure(figsize=(12, 6))\n",
    "plt.plot(factory_a.index, factory_a.values, label='Factory A')\n",
    "plt.plot(factory_b.index, factory_b.values, label='Factory B')\n",
    "plt.axvline(treatment_date, color='r', linestyle='--', label='Treatment Date')\n",
    "plt.legend()\n",
    "plt.title('Factory Productivity Over Time')\n",
    "plt.xlabel('Date')\n",
    "plt.ylabel('Productivity')\n",
    "plt.show()"
   ]
  },
  {
   "cell_type": "markdown",
   "metadata": {},
   "source": [
    "### 추가 참고 자료\n",
    "\n",
    "[Causal Impact 좀 더 정확한 효과 측정을 위한 방법론](https://hweejin.tistory.com/entry/Causal-Impact-%EC%A2%80-%EB%8D%94-%EC%A0%95%ED%99%95%ED%95%9C-%ED%9A%A8%EA%B3%BC-%EC%B8%A1%EC%A0%95%EC%9D%84-%EC%9C%84%ED%95%9C-%EB%B0%A9%EB%B2%95%EB%A1%A0)\n",
    "\n",
    "[CausalImpact로 COVID-19 데이터를 분석해보자](https://playinpap.github.io/causalimpact-covid19/)\n",
    "\n",
    "[Causal Impact - Getting Started](https://nbviewer.org/github/jamalsenouci/causalimpact/blob/master/GettingStarted.ipynb)\n",
    "\n",
    "\n"
   ]
  }
 ],
 "metadata": {
  "kernelspec": {
   "display_name": "Python 3",
   "language": "python",
   "name": "python3"
  },
  "language_info": {
   "codemirror_mode": {
    "name": "ipython",
    "version": 3
   },
   "file_extension": ".py",
   "mimetype": "text/x-python",
   "name": "python",
   "nbconvert_exporter": "python",
   "pygments_lexer": "ipython3",
   "version": "3.11.7"
  },
  "orig_nbformat": 4
 },
 "nbformat": 4,
 "nbformat_minor": 2
}
