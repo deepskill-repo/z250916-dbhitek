{
 "cells": [
  {
   "cell_type": "markdown",
   "id": "53747dc8",
   "metadata": {},
   "source": [
    "# 하이퍼파라메터 튜닝을 통한 모델 정교화"
   ]
  },
  {
   "cell_type": "markdown",
   "id": "b24bb115",
   "metadata": {},
   "source": [
    "시작점이 되는 기준 모델(baseline model)을 만듭니다."
   ]
  },
  {
   "cell_type": "code",
   "execution_count": null,
   "id": "8702aa98",
   "metadata": {},
   "outputs": [],
   "source": [
    "import tensorflow as tf\n",
    "from sklearn.datasets import load_iris\n",
    "from sklearn.model_selection import train_test_split\n",
    "import numpy as np\n",
    "\n",
    "\n",
    "iris = load_iris()\n",
    "X, y = iris.data, iris.target\n",
    "\n",
    "X_train, X_test, y_train, y_test = train_test_split(X, y, test_size=0.2, random_state=42)\n",
    "\n",
    "# 간단한 신경망 모델을 만듭니다\n",
    "model = tf.keras.Sequential([\n",
    "    tf.keras.layers.Dense(10, activation='relu', input_shape=(4,)),\n",
    "    tf.keras.layers.Dense(3, activation='softmax')\n",
    "])\n",
    "model.compile(optimizer='adam', loss='sparse_categorical_crossentropy', metrics=['accuracy'])\n",
    "\n",
    "model.fit(X_train, y_train, epochs=100, validation_split=0.2, verbose=0)\n",
    "\n",
    "test_loss, test_accuracy = model.evaluate(X_test, y_test)\n",
    "print(f\"Test accuracy: {test_accuracy:.4f}\")"
   ]
  },
  {
   "attachments": {
    "image.png": {
     "image/png": "[encoded data removed]"
    }
   },
   "cell_type": "markdown",
   "id": "df38b543",
   "metadata": {},
   "source": [
    "## 1. Cross Validation\n",
    "\n",
    "Train/test split을 통해 overfitting을 막을 수 있지만, split이 어떻게 되는지에 따라 이 결과가 달라질 수 있겠죠. 그래서 이걸 더 강건하게 하는 것이 Cross validation입니다. 즉, split을 여러 차례 다른 방식으로 하는 것이죠.\n",
    "\n",
    "![image.png](attachment:image.png)"
   ]
  },
  {
   "cell_type": "code",
   "execution_count": null,
   "id": "15081a56",
   "metadata": {},
   "outputs": [],
   "source": [
    "# Cross validation\n",
    "from sklearn.model_selection import KFold\n",
    "\n",
    "def create_model():\n",
    "    model = tf.keras.Sequential([\n",
    "        tf.keras.layers.Dense(10, activation='relu', input_shape=(4,)),\n",
    "        tf.keras.layers.Dense(3, activation='softmax')\n",
    "    ])\n",
    "    model.compile(optimizer='adam', loss='sparse_categorical_crossentropy', metrics=['accuracy'])\n",
    "    return model\n",
    "\n",
    "kfold = KFold(n_splits=5, shuffle=True, random_state=42)\n",
    "cv_scores = []\n",
    "\n",
    "for train, test in kfold.split(X):\n",
    "    model = create_model()\n",
    "    model.fit(X[train], y[train], epochs=100, verbose=0)\n",
    "    scores = model.evaluate(X[test], y[test], verbose=0)\n",
    "    cv_scores.append(scores[1])  # scores[1] is accuracy\n",
    "\n",
    "cv_scores = np.array(cv_scores)\n",
    "print(f\"Cross-validation scores: {cv_scores}\")\n",
    "print(f\"Mean CV accuracy: {cv_scores.mean():.4f}\")"
   ]
  },
  {
   "cell_type": "markdown",
   "id": "d8c8597e",
   "metadata": {},
   "source": [
    "- 교차 검증을 사용하여 모델의 성능을 평가합니다.\n",
    "- `cross_val_score` 함수를 사용하여 5-폴드 교차 검증을 수행합니다.\n",
    "- 각 폴드의 정확도를 출력하고, 평균 정확도를 계산합니다."
   ]
  },
  {
   "cell_type": "markdown",
   "id": "6cc61ff6",
   "metadata": {},
   "source": [
    "## Hyperparameter Tuning\n",
    "\n",
    "모델에 들어가는 옵션들이 있었죠. 예를 들면 랜덤포레스트에서는 트리의 갯수나 깊이에 해당할 것이고, 신경망에서는 optimizer 등이 있었습니다. 이들 중 최적값을 찾는 과정입니다."
   ]
  },
  {
   "cell_type": "markdown",
   "id": "4875fa0f",
   "metadata": {},
   "source": [
    "### GridSearch"
   ]
  },
  {
   "cell_type": "code",
   "execution_count": null,
   "id": "2ce6b7e9",
   "metadata": {},
   "outputs": [],
   "source": [
    "from sklearn.model_selection import ParameterGrid, ParameterSampler\n",
    "from scipy.stats import randint\n",
    "\n",
    "def create_model(optimizer='adam'):\n",
    "    model = tf.keras.Sequential([\n",
    "        tf.keras.layers.Dense(10, activation='relu', input_shape=(4,)),\n",
    "        tf.keras.layers.Dense(3, activation='softmax')\n",
    "    ])\n",
    "    model.compile(optimizer=optimizer, loss='sparse_categorical_crossentropy', metrics=['accuracy'])\n",
    "    return model\n",
    "\n",
    "param_grid = {\n",
    "    'epochs': [50, 100],\n",
    "    'optimizer': ['adam', 'sgd']\n",
    "}\n",
    "\n",
    "param_grid"
   ]
  },
  {
   "cell_type": "code",
   "execution_count": null,
   "id": "46e885dd",
   "metadata": {},
   "outputs": [],
   "source": [
    "# 실행 (주의: 시간이 오래 소요될 수 있습니다)\n",
    "best_score = 0\n",
    "best_params = {}\n",
    "\n",
    "for params in ParameterGrid(param_grid):\n",
    "    kfold = KFold(n_splits=3, shuffle=True, random_state=42)\n",
    "    scores = []\n",
    "\n",
    "    for train, test in kfold.split(X):\n",
    "        model = create_model(optimizer=params['optimizer'])\n",
    "        model.fit(X[train], y[train], epochs=params['epochs'], batch_size=16, verbose=0)\n",
    "        score = model.evaluate(X[test], y[test], verbose=0)[1]\n",
    "        scores.append(score)\n",
    "\n",
    "    mean_score = np.mean(scores)\n",
    "    if mean_score > best_score:\n",
    "        best_score = mean_score\n",
    "        best_params = params\n",
    "\n",
    "print(\"Best parameters found by GridSearch:\")\n",
    "print(best_params)\n",
    "print(f\"Best score: {best_score:.4f}\")"
   ]
  },
  {
   "cell_type": "markdown",
   "id": "9e014270",
   "metadata": {},
   "source": [
    "### RandomSearch"
   ]
  },
  {
   "cell_type": "code",
   "execution_count": null,
   "id": "08aa22b3",
   "metadata": {},
   "outputs": [],
   "source": [
    "param_dist = {\n",
    "    'epochs': randint(50, 150),\n",
    "    'batch_size': randint(16, 64),\n",
    "    'optimizer': ['adam', 'sgd', 'rmsprop']\n",
    "}\n",
    "\n",
    "best_score = 0\n",
    "best_params = {}\n",
    "\n",
    "param_list = list(ParameterSampler(param_dist, n_iter=10, random_state=42))"
   ]
  },
  {
   "cell_type": "code",
   "execution_count": null,
   "id": "14221f2e",
   "metadata": {},
   "outputs": [],
   "source": [
    "# 실행 (주의: 시간이 오래 소요될 수 있습니다)\n",
    "for params in param_list:\n",
    "    kfold = KFold(n_splits=3, shuffle=True, random_state=42)\n",
    "    scores = []\n",
    "\n",
    "    for train, test in kfold.split(X):\n",
    "        model = create_model(optimizer=params['optimizer'])\n",
    "        model.fit(X[train], y[train], epochs=params['epochs'], batch_size=params['batch_size'], verbose=0)\n",
    "        score = model.evaluate(X[test], y[test], verbose=0)[1]\n",
    "        scores.append(score)\n",
    "\n",
    "    mean_score = np.mean(scores)\n",
    "    if mean_score > best_score:\n",
    "        best_score = mean_score\n",
    "        best_params = params\n",
    "\n",
    "print(\"Best parameters found by RandomSearch:\")\n",
    "print(best_params)\n",
    "print(f\"Best score: {best_score:.4f}\")"
   ]
  },
  {
   "cell_type": "markdown",
   "id": "2924633d",
   "metadata": {},
   "source": [
    "- `GridSearchCV`와 `RandomizedSearchCV`를 사용하여 모델의 최적 하이퍼파라미터를 찾습니다.\n",
    "- `param_grid`와 `param_dist`를 정의하여 각각의 검색 방법을 설정합니다.\n",
    "- 각 방법으로 찾은 최적의 하이퍼파라미터를 출력합니다."
   ]
  },
  {
   "cell_type": "markdown",
   "id": "380c4849",
   "metadata": {},
   "source": [
    "## AutoML (feat. H2O)\n",
    "\n",
    "H2O AutoML을 사용한 자동 머신러닝"
   ]
  },
  {
   "cell_type": "markdown",
   "id": "dd80c417",
   "metadata": {},
   "source": [
    "H2O를 사용하려면 데이터를 H2OFrame이라는 특별한 형식으로 바꿔야 합니다. "
   ]
  },
  {
   "cell_type": "code",
   "execution_count": null,
   "id": "4de913ec",
   "metadata": {},
   "outputs": [],
   "source": [
    "# H2O를 이용한 AutoML\n",
    "import h2o\n",
    "from h2o.automl import H2OAutoML\n",
    "\n",
    "h2o.init()\n",
    "\n",
    "# 데이터를 H2OFrame\n",
    "iris_h2o = h2o.H2OFrame(iris.data)\n",
    "iris_h2o['species'] = h2o.H2OFrame(iris.target)\n",
    "\n",
    "# Train/test\n",
    "train, test = iris_h2o.split_frame(ratios=[0.8])"
   ]
  },
  {
   "cell_type": "markdown",
   "id": "810bb3b1",
   "metadata": {},
   "source": [
    "H2O AutoML을 사용하여 자동으로 최적의 모델을 찾습니다. (3분 전후로 소요됩니다)"
   ]
  },
  {
   "cell_type": "code",
   "execution_count": null,
   "id": "ba7b0b67",
   "metadata": {},
   "outputs": [],
   "source": [
    "aml = H2OAutoML(max_runtime_secs=120, seed=1)\n",
    "aml.train(x=list(range(4)), y='species', training_frame=train)"
   ]
  },
  {
   "cell_type": "markdown",
   "id": "4a328c27",
   "metadata": {},
   "source": [
    "모델들 간의 비교 평가를 보여주는 리더보드를 출력합니다."
   ]
  },
  {
   "cell_type": "code",
   "execution_count": null,
   "id": "c59dc49d",
   "metadata": {},
   "outputs": [],
   "source": [
    "lb = aml.leaderboard\n",
    "print(lb.head())"
   ]
  },
  {
   "cell_type": "markdown",
   "id": "78ae4a23",
   "metadata": {},
   "source": [
    "리더보드에서 최적의 모델을 선택하고, 테스트 세트에서 성능을 평가합니다."
   ]
  },
  {
   "cell_type": "code",
   "execution_count": null,
   "id": "a05f9d61",
   "metadata": {},
   "outputs": [],
   "source": [
    "# Evaluate best model\n",
    "best_model = aml.leader\n",
    "performance = best_model.model_performance(test)\n",
    "print(performance)"
   ]
  },
  {
   "cell_type": "markdown",
   "id": "6f81748b",
   "metadata": {},
   "source": [
    "H2O 작업이 끝났으므로 H2O와의 연결을 종료합니다."
   ]
  },
  {
   "cell_type": "code",
   "execution_count": null,
   "id": "33975758",
   "metadata": {},
   "outputs": [],
   "source": [
    "h2o.shutdown()"
   ]
  }
 ],
 "metadata": {
  "kernelspec": {
   "display_name": "base",
   "language": "python",
   "name": "python3"
  },
  "language_info": {
   "codemirror_mode": {
    "name": "ipython",
    "version": 3
   },
   "file_extension": ".py",
   "mimetype": "text/x-python",
   "name": "python",
   "nbconvert_exporter": "python",
   "pygments_lexer": "ipython3",
   "version": "3.11.7"
  }
 },
 "nbformat": 4,
 "nbformat_minor": 5
}
