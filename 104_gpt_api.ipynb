{
 "cells": [
  {
   "cell_type": "markdown",
   "metadata": {},
   "source": [
    "# GPT API를 통한 데이터 정제 예시"
   ]
  },
  {
   "cell_type": "markdown",
   "metadata": {},
   "source": [
    "참조 자료: [OpenAI의 공식 문서](https://platform.openai.com/docs/guides/gpt)"
   ]
  },
  {
   "cell_type": "code",
   "execution_count": null,
   "metadata": {},
   "outputs": [],
   "source": [
    "# !pip install openai"
   ]
  },
  {
   "cell_type": "markdown",
   "metadata": {},
   "source": [
    "**Key 생성 방법**\n",
    "\n",
    "- OpenAI Platform의 API Key 화면에 접속: https://platform.openai.com/api-keys\n",
    "- \"Create new secret key\" 클릭해서 생성\n",
    "- 생성한 API 키는 다시 확인이 되지 않으므로 창을 닫기 전에 복사, 저장해 둘것\n",
    "- 타인에게 절대로 노출 시키지 말것 $\\rightarrow$ 쓴 만큼 돈 나감"
   ]
  },
  {
   "cell_type": "code",
   "execution_count": null,
   "metadata": {},
   "outputs": [],
   "source": [
    "# 4.1\n",
    "from openai import OpenAI\n",
    "client = OpenAI(api_key=\"별도 제공 예정\")"
   ]
  },
  {
   "cell_type": "markdown",
   "metadata": {},
   "source": [
    "## 주소 분류하기"
   ]
  },
  {
   "cell_type": "code",
   "execution_count": null,
   "metadata": {},
   "outputs": [],
   "source": [
    "# 4.2 [TASK] \"address_data.csv\"를 불러옵니다\n"
   ]
  },
  {
   "cell_type": "code",
   "execution_count": null,
   "metadata": {},
   "outputs": [],
   "source": [
    "# 4.3 사전에 정의된 함수\n",
    "def get_region(location):\n",
    "    PROMPT = f\"\"\"\n",
    "    {location}: 이 주소를 다음 중 하나로 분류하면? 부연 없이 분류 결과만 말해줘\n",
    "    서울, 부산, 대구, 인천, 광주, 대전, 울산, 세종, 경기, 강원, 충북, 충남, 전북, 전남, 경북, 경남, 제주\n",
    "    \"\"\"\n",
    "    response = client.chat.completions.create(\n",
    "        model=\"gpt-4.1-2025-04-14\",\n",
    "        messages=[{\"role\": \"user\", \"content\": PROMPT}],\n",
    "        temperature=0\n",
    "    )\n",
    "    return response.choices[0].message.content"
   ]
  },
  {
   "cell_type": "code",
   "execution_count": null,
   "metadata": {},
   "outputs": [],
   "source": [
    "get_region(\"부천시청역\")"
   ]
  },
  {
   "cell_type": "markdown",
   "metadata": {},
   "source": [
    "_**주의: 이 과정은 모든 분들이 한꺼번에 실행할 경우 오류 가능성이 높습니다.**_\n",
    "\n",
    "여기서는 첫 5줄만 시험 삼아 해보도록 합니다. 만약 에러가 날 경우, 나중에 다시 실행해보시기를 권장합니다. 실습 후 업무 시 활용 방안을 위해 아래 2개 링크를 첨부합니다.\n",
    "\n",
    "GPT 3.5 기준으로 아래 59개 주소를 처리하기 위한 비용은 약 $0.01(10~15원)입니다.\n",
    "\n",
    "유사하게 사용 시, 민감한 정보는 전송되지 않도록 유의해주세요."
   ]
  },
  {
   "cell_type": "code",
   "execution_count": null,
   "metadata": {},
   "outputs": [],
   "source": [
    "# 4.4 OpenAI API 적용\n",
    "address_data_test = address_data.head()\n",
    "address_data_test[\"region\"] = address_data_test[\"location\"].apply(get_region)\n",
    "address_data_test"
   ]
  },
  {
   "cell_type": "markdown",
   "metadata": {},
   "source": [
    "## 고장 내역 데이터 처리하기"
   ]
  },
  {
   "cell_type": "code",
   "execution_count": null,
   "metadata": {},
   "outputs": [],
   "source": [
    "# 4.5 [TASK] \"ng_data.csv\"를 불러옵니다\n"
   ]
  },
  {
   "cell_type": "code",
   "execution_count": null,
   "metadata": {},
   "outputs": [],
   "source": [
    "# 4.6\n",
    "def categorize_ng(text):\n",
    "    PROMPT = f\"\"\"\n",
    "    '{text}'\n",
    "    가상의 고장 내역이야.\n",
    "    부품불량, 오염, 장비고장 중 하나로 분류해줘. 부연 없이 정해진 분류만 답해줘.\n",
    "    \"\"\"\n",
    "    response = client.chat.completions.create(\n",
    "        model=\"gpt-4.1-2025-04-14\",\n",
    "        messages=[{\"role\": \"user\", \"content\": PROMPT}],\n",
    "        temperature=0\n",
    "    )\n",
    "    return response.choices[0].message.content"
   ]
  },
  {
   "cell_type": "code",
   "execution_count": null,
   "metadata": {},
   "outputs": [],
   "source": [
    "# 4.7\n",
    "ng_test = ng_data[\"ng\"][1]\n",
    "print(ng_test)\n",
    "categorize_ng(ng_test)"
   ]
  },
  {
   "cell_type": "code",
   "execution_count": null,
   "metadata": {},
   "outputs": [],
   "source": [
    "# 4.8\n",
    "ng_data_test = ng_data.head()\n",
    "ng_data_test[\"category\"] = ng_data_test[\"ng\"].apply(categorize_ng)\n",
    "ng_data_test"
   ]
  }
 ],
 "metadata": {
  "kernelspec": {
   "display_name": "Python 3",
   "language": "python",
   "name": "python3"
  },
  "language_info": {
   "codemirror_mode": {
    "name": "ipython",
    "version": 3
   },
   "file_extension": ".py",
   "mimetype": "text/x-python",
   "name": "python",
   "nbconvert_exporter": "python",
   "pygments_lexer": "ipython3",
   "version": "3.11.7"
  },
  "orig_nbformat": 4
 },
 "nbformat": 4,
 "nbformat_minor": 2
}
