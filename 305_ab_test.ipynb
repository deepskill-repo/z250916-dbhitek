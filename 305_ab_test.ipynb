{
 "cells": [
  {
   "cell_type": "markdown",
   "metadata": {},
   "source": [
    "\n",
    "# 제조업 A/B 테스트 실습 (t-테스트 활용)\n",
    "\n",
    "제조업 환경에서 A/B 테스트를 수행하는 방법을 단계별로 수행합니다. A/B 테스트는 두 그룹 간의 차이를 비교하기 위한 통계적 방법입니다. 여기서는 두 생산 라인의 불량률을 비교합니다.\n",
    "\n",
    "## 1. 데이터 준비\n",
    "먼저, 데이터 엑셀 파일을 불러옵니다."
   ]
  },
  {
   "cell_type": "code",
   "execution_count": null,
   "metadata": {},
   "outputs": [],
   "source": [
    "import pandas as pd\n",
    "\n",
    "# 엑셀 파일에서 데이터를 읽어옵니다. (예제 파일: ab-test.xlsx)\n",
    "test_cases = pd.read_excel(\"ab-test.xlsx\", sheet_name=None)\n",
    "\n",
    "# 데이터 확인\n",
    "for case_name, data in test_cases.items():\n",
    "    print(f\"--- {case_name} ---\")\n",
    "    display(data.head())"
   ]
  },
  {
   "cell_type": "markdown",
   "metadata": {},
   "source": [
    "## 2. 데이터 요약\n",
    "각 생산 라인의 불량률을 계산합니다. 불량률은 총 생산량 대비 불량품의 비율입니다."
   ]
  },
  {
   "cell_type": "code",
   "execution_count": null,
   "metadata": {},
   "outputs": [],
   "source": [
    "# 각 케이스별 불량률 계산 함수\n",
    "def calculate_defect_stats(data):\n",
    "    mean_a = data['line_a'].mean()\n",
    "    std_a = data['line_a'].std()\n",
    "    mean_b = data['line_b'].mean()\n",
    "    std_b = data['line_b'].std()\n",
    "    return mean_a, std_a, mean_b, std_b\n",
    "\n",
    "# 각 케이스에 대해 불량률 계산\n",
    "defect_stats = {case: calculate_defect_stats(data) for case, data in test_cases.items()}\n",
    "\n",
    "for case, stats in defect_stats.items():\n",
    "    print(f\"---<{case}>---\")\n",
    "    print(f\"생산 라인 A의 불량률: 평균={stats[0]:.2%}, 표준편차={stats[1]:.2%}\")\n",
    "    print(f\"생산 라인 B의 불량률: 평균={stats[2]:.2%}, 표준편차={stats[3]:.2%}\")\n"
   ]
  },
  {
   "cell_type": "markdown",
   "metadata": {},
   "source": [
    "## 3. t-테스트 수행\n",
    "t-테스트를 사용하여 두 생산 라인의 불량률 차이가 통계적으로 유의미한지 검정합니다."
   ]
  },
  {
   "cell_type": "code",
   "execution_count": null,
   "metadata": {},
   "outputs": [],
   "source": [
    "# t-테스트를 사용하여 두 생산 라인의 불량률 차이가 통계적으로 유의미한지 검정합니다.\n",
    "from scipy import stats\n",
    "\n",
    "# 각 케이스별 t-테스트 수행 함수\n",
    "def perform_t_test(data):\n",
    "    t_stat, p_value = stats.ttest_ind(data['line_a'], data['line_b'])\n",
    "    return t_stat, p_value\n",
    "\n",
    "# 각 케이스에 대해 t-테스트 수행\n",
    "t_test_results = {case: perform_t_test(data) for case, data in test_cases.items()}\n",
    "\n",
    "for case, results in t_test_results.items():\n",
    "    print(f\"p-값: {results[1]:.4f}\")"
   ]
  },
  {
   "cell_type": "markdown",
   "metadata": {},
   "source": [
    "## 4. 결과 해석\n",
    "유의수준을 설정하고, p-값을 기준으로 두 생산 라인의 불량률 차이가 유의미한지 판단합니다."
   ]
  },
  {
   "cell_type": "code",
   "execution_count": null,
   "metadata": {},
   "outputs": [],
   "source": [
    "# 유의수준 설정 (예: 0.05)\n",
    "alpha = 0.05\n",
    "\n",
    "for case, results in t_test_results.items():\n",
    "    if results[1] < alpha:\n",
    "        print(f\"{case} - 두 생산 라인의 불량률 차이는 통계적으로 유의미합니다.\")\n",
    "    else:\n",
    "        print(f\"{case} - 두 생산 라인의 불량률 차이는 통계적으로 유의미하지 않습니다.\")"
   ]
  },
  {
   "cell_type": "markdown",
   "metadata": {},
   "source": [
    "## 5. 데이터 시각화\n",
    "히스토그램을 사용하여 두 생산 라인의 불량률을 시각화합니다."
   ]
  },
  {
   "cell_type": "code",
   "execution_count": null,
   "metadata": {},
   "outputs": [],
   "source": [
    "import seaborn as sns\n",
    "import matplotlib.pyplot as plt\n",
    "\n",
    "# 각 케이스별 불량률 히스토그램 시각화 함수\n",
    "def plot_defect_density(data, case_name):\n",
    "    sns.kdeplot(data['line_a'], fill=True, label='Line A', bw_adjust=0.5)\n",
    "    sns.kdeplot(data['line_b'], fill=True, label='Line B', bw_adjust=0.5)\n",
    "    plt.legend(loc='upper right')\n",
    "    plt.title(f'{case_name} - Defect Rate Density Comparison')\n",
    "    plt.xlabel('Product Status (0: Normal, 1: Defective)')\n",
    "    plt.ylabel('Density')\n",
    "    plt.xlim(-0.02, 0.13)  # x축 범위 고정\n",
    "    plt.show()\n",
    "\n",
    "# 각 케이스에 대해 히스토그램 시각화\n",
    "for case_name, data in test_cases.items():\n",
    "    plot_defect_density(data, case_name)"
   ]
  },
  {
   "cell_type": "markdown",
   "metadata": {},
   "source": [
    "# 베이시안 A/B 테스트 실습\n",
    "\n",
    "베이시안 방식으로 A/B 테스트를 수행하는 방법을 단계별로 진행합니다.\n",
    "\n",
    "## 1. 데이터 준비"
   ]
  },
  {
   "cell_type": "code",
   "execution_count": null,
   "metadata": {},
   "outputs": [],
   "source": [
    "import pandas as pd\n",
    "\n",
    "# 엑셀 파일에서 데이터를 읽어옵니다. (예제 파일: ab-test.xlsx)\n",
    "test_cases = pd.read_excel(\"ab-test.xlsx\", sheet_name=None)"
   ]
  },
  {
   "cell_type": "markdown",
   "metadata": {},
   "source": [
    "## 2. 베이시안 A/B 테스트 수행\n",
    "\n",
    "베이시안 접근법은 사전 확률(Prior Probability)과 관측 데이터를 결합하여 사후 확률(Posterior Probability)을 계산합니다. 사전 확률은 우리가 사전에 알고 있는 지식이나 믿음을 나타내며, 관측 데이터를 통해 이를 업데이트합니다."
   ]
  },
  {
   "cell_type": "code",
   "execution_count": null,
   "metadata": {},
   "outputs": [],
   "source": [
    "# !pip install pymc"
   ]
  },
  {
   "cell_type": "markdown",
   "metadata": {},
   "source": [
    "아래 과정은 두 생산 라인의 불량률을 베이시안 접근 방식을 사용하여 비교합니다. 각 생산 라인의 불량률에 대한 사전 확률 분포를 설정하고, 관측된 데이터를 사용하여 사후 확률 분포를 계산합니다. 그 후, 두 생산 라인의 불량률 차이에 대한 사후 확률 분포를 분석하고 시각화합니다.\n",
    "\n",
    "구체적인 단계는 다음과 같습니다:\n",
    "1. 각 생산 라인의 불량품 수와 총 샘플 수를 계산합니다.\n",
    "2. 베이시안 모델을 설정하여 각 생산 라인의 불량률에 대한 사전 확률 분포를 정의합니다.\n",
    "3. 관측된 데이터를 기반으로 불량률에 대한 우도 함수를 정의합니다.\n",
    "4. MCMC 방법을 사용하여 사후 확률 분포를 샘플링합니다.\n",
    "5. 두 생산 라인의 불량률 차이에 대한 사후 확률 분포를 분석하고, B 라인이 A 라인보다 나을 확률을 계산합니다.\n",
    "6. 결과를 시각화하여 불량률 차이에 대한 신뢰 구간과 확률 분포를 보여줍니다."
   ]
  },
  {
   "cell_type": "code",
   "execution_count": null,
   "metadata": {},
   "outputs": [],
   "source": [
    "import pymc as pm\n",
    "import numpy as np\n",
    "import arviz as az\n",
    "\n",
    "def perform_bayesian_ab_test(data):\n",
    "    defects_a = data['line_a'].sum()\n",
    "    defects_b = data['line_b'].sum()\n",
    "    total_a = len(data['line_a'])\n",
    "    total_b = len(data['line_b'])\n",
    "\n",
    "    with pm.Model() as model:\n",
    "        # 사전 확률 정의\n",
    "        p_a = pm.Beta('p_a', alpha=1, beta=1)\n",
    "        p_b = pm.Beta('p_b', alpha=1, beta=1)\n",
    "        \n",
    "        # 우도 정의\n",
    "        obs_a = pm.Binomial('obs_a', n=total_a, p=p_a, observed=defects_a)\n",
    "        obs_b = pm.Binomial('obs_b', n=total_b, p=p_b, observed=defects_b)\n",
    "        \n",
    "        # 차이 계산\n",
    "        diff = pm.Deterministic('diff', p_b - p_a)\n",
    "        \n",
    "        # 샘플링\n",
    "        trace = pm.sample(2000, return_inferencedata=True)\n",
    "\n",
    "    # 결과 분석\n",
    "    diff_samples = trace.posterior['diff'].values.flatten()\n",
    "    prob_b_better = np.mean(diff_samples < 0)\n",
    "\n",
    "    print(\"\\n베이시안 A/B 테스트 결과:\")\n",
    "    print(f\"B가 A보다 나을 확률: {prob_b_better:.2%}\")\n",
    "    print(f\"차이의 95% 신뢰구간: [{np.percentile(diff_samples, 2.5):.4f}, {np.percentile(diff_samples, 97.5):.4f}]\")\n",
    "\n",
    "    # 결과 시각화\n",
    "    az.plot_posterior(trace, var_names=['diff'], ref_val=0)\n",
    "    \n",
    "    return trace"
   ]
  },
  {
   "cell_type": "code",
   "execution_count": null,
   "metadata": {},
   "outputs": [],
   "source": [
    "perform_bayesian_ab_test(test_cases['case1'])"
   ]
  },
  {
   "cell_type": "code",
   "execution_count": null,
   "metadata": {},
   "outputs": [],
   "source": [
    "perform_bayesian_ab_test(test_cases['case2'])"
   ]
  },
  {
   "cell_type": "code",
   "execution_count": null,
   "metadata": {},
   "outputs": [],
   "source": [
    "perform_bayesian_ab_test(test_cases['case3'])"
   ]
  }
 ],
 "metadata": {
  "kernelspec": {
   "display_name": "base",
   "language": "python",
   "name": "python3"
  },
  "language_info": {
   "codemirror_mode": {
    "name": "ipython",
    "version": 3
   },
   "file_extension": ".py",
   "mimetype": "text/x-python",
   "name": "python",
   "nbconvert_exporter": "python",
   "pygments_lexer": "ipython3",
   "version": "3.11.7"
  }
 },
 "nbformat": 4,
 "nbformat_minor": 2
}
