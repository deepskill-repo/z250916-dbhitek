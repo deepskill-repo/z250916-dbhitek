{
  "cells": [
    {
      "cell_type": "markdown",
      "metadata": {
        "id": "kyaj1xiyadVu"
      },
      "source": [
        "이번 노트에서 사용한 데이터와 유사한 데이터를 사용해 복습해 보겠습니다.\n",
        "\n",
        "다음 데이터셋은 미국 시애틀 King County 지역의 2014년 5월 ~ 2015년 5월 주택 판매 가격 데이터입니다.\n",
        "   - [House Sales in King County, USA](https://www.kaggle.com/harlfoxem/housesalesprediction?select=kc_house_data.csv)\n",
        "\n",
        "이 데이터를 사용해 다음 과제를 마크다운과 코드를 활용하여 진행해 주세요."
      ]
    },
    {
      "cell_type": "markdown",
      "metadata": {
        "id": "-EH6j1Mxatdo"
      },
      "source": [
        "## **Part 1. Linear Regression**"
      ]
    },
    {
      "cell_type": "markdown",
      "metadata": {
        "id": "fHV5Zvxna19n"
      },
      "source": [
        "### **1-1. 데이터 준비하기**\n",
        "\n",
        "- 데이터셋을 불러오세요.\n",
        "- 특성들과 타겟(price) 간의 상관계수를 계산하고, 상관계수가 가장 높은 특성을 찾으세요.\n",
        "- 상관계수가 가장 높은 특성과 타겟을 scatter plot으로 시각화 하세요.\n",
        "  - x축은 특성, y축은 타겟을 나타내야 합니다."
      ]
    },
    {
      "cell_type": "markdown",
      "metadata": {
        "id": "QeD9J3amrOFo"
      },
      "source": [
        "##### **Q1. 타겟과 상관계수가 가장 높은 특성의 이름을 적어 주세요.**"
      ]
    },
    {
      "cell_type": "code",
      "execution_count": null,
      "metadata": {
        "colab": {
          "base_uri": "https://localhost:8080/",
          "height": 256
        },
        "id": "OIZcF8pLpv1-",
        "outputId": "4f49075b-e3bd-4d2c-9360-a20f5aa0f167"
      },
      "outputs": [],
      "source": [
        "# 데이터셋을 불러옵니다.\n",
        "\n",
        "import pandas as pd\n",
        "\n",
        "df = pd.read_csv('https://ds-lecture-data.s3.ap-northeast-2.amazonaws.com/kc_house_data/kc_house_data.csv')\n",
        "df.head()"
      ]
    },
    {
      "cell_type": "code",
      "execution_count": null,
      "metadata": {
        "id": "nJdziGZuY7s1"
      },
      "outputs": [],
      "source": [
        "## Q1. 타겟과 상관계수가 가장 높은 특성의 이름을 적어 주세요\n"
      ]
    },
    {
      "cell_type": "markdown",
      "metadata": {
        "id": "SjNNzi1HsKpj"
      },
      "source": [
        "### **1-2. 기준모델**\n",
        "\n",
        "- `sqft_living`과 `price`의 scatter plot을 그리고, 평균 기준모델을 시각화 하세요."
      ]
    },
    {
      "cell_type": "markdown",
      "metadata": {
        "id": "-GRjVxmx25OC"
      },
      "source": [
        "##### **Q2. 기준모델에서 사용한 평균값을 적어 주세요. (소수점 이하 반올림)**"
      ]
    },
    {
      "cell_type": "code",
      "execution_count": null,
      "metadata": {
        "id": "oS5ByX5_ZFxX"
      },
      "outputs": [],
      "source": [
        "## Q2. 기준모델에서 사용한 평균값을 적어 주세요. (소수점 이하 반올림)"
      ]
    },
    {
      "cell_type": "markdown",
      "metadata": {
        "id": "uJ7MDEotsMmg"
      },
      "source": [
        "### **1-3. Simple Linear Regression**\n",
        "\n",
        "- Scikit-Learn 라이브러리를 사용하여 단순선형회귀 모델을 만드세요.\n",
        "  - 특성은 `sqft_living`이고, 타겟은 `price`입니다.\n",
        "- 모델 학습 후, 특성 `sqft_living`에 대한 타겟 `price`의 예측값을 구하세요."
      ]
    },
    {
      "cell_type": "markdown",
      "metadata": {
        "id": "2avtyXI_Qd-Y"
      },
      "source": [
        "##### **Q3. 단순선형회귀 모델이 예측한 결과에서 index가 0인 값을 적어 주세요. (소수점 이하 반올림)**"
      ]
    },
    {
      "cell_type": "code",
      "execution_count": null,
      "metadata": {
        "id": "Zq91qf8LZI9i"
      },
      "outputs": [],
      "source": [
        "## Q3. 단순선형회귀 모델이 예측한 결과에서 index가 0인 값을 적어 주세요."
      ]
    },
    {
      "cell_type": "markdown",
      "metadata": {
        "id": "HAkS8RCmsPvE"
      },
      "source": [
        "### **1-4. Multiple Linear Regression**\n",
        "\n",
        "- Scikit-Learn 라이브러리를 사용하여 다중선형회귀 모델을 만드세요.\n",
        "  - 특성은 `sqft_living`, `bathrooms`이고, 타겟은 `price`입니다.\n",
        "- 모델 학습 후, 두 특성 `sqft_living`, `bathrooms`에 대한 타겟 `price`의 예측값을 구하세요."
      ]
    },
    {
      "cell_type": "markdown",
      "metadata": {
        "id": "uwBaFGsve0FJ"
      },
      "source": [
        "##### **Q4. 다중선형회귀 모델이 예측한 결과에서 index가 0인 값을 적어 주세요. (소수점 이하 반올림)**"
      ]
    },
    {
      "cell_type": "code",
      "execution_count": null,
      "metadata": {
        "id": "QQImIaHAZL16"
      },
      "outputs": [],
      "source": [
        "## Q4. 다중선형회귀 모델이 예측한 결과에서 index가 0인 값을 적어 주세요."
      ]
    },
    {
      "cell_type": "markdown",
      "metadata": {
        "id": "AIqkafZkaxMu"
      },
      "source": [
        "## **Part 2. 평가지표**\n",
        "\n",
        "**Part 1**에서 구한 기준모델, 단순선형회귀, 다중선형회귀의 성능을 평가해 봅니다.\n",
        "- 각 모델의 mse, rmse, mae, $R^2$ 값을 구하세요.\n",
        "- 위에서 구한 평가지표를 비교해 보고, 어느 모델의 성능이 가장 좋을지 생각해 보세요."
      ]
    },
    {
      "cell_type": "markdown",
      "metadata": {
        "id": "11i-s50ajR5a"
      },
      "source": [
        "##### **Q5. 다중선형회귀 모델의 $R^2$을 반올림하여 소수점 첫째 자리까지 구한 값을 적어 주세요.**"
      ]
    },
    {
      "cell_type": "code",
      "execution_count": null,
      "metadata": {
        "id": "yLioGb2qZNgK"
      },
      "outputs": [],
      "source": [
        "## Q5. 다중선형회귀 모델의 R-squared를 반올림하여 소수점 첫째 자리까지 구한 값을 적어 주세요."
      ]
    },
    {
      "cell_type": "markdown",
      "metadata": {
        "id": "zeyFt7NR6PC5"
      },
      "source": [
        "##### **Q6. 단순선형회귀, 다중선형회귀 모델의 성능이 기준모델보다 나아졌나요?**"
      ]
    },
    {
      "cell_type": "code",
      "execution_count": null,
      "metadata": {
        "id": "98kbGEdPZQc9"
      },
      "outputs": [],
      "source": [
        "## Q6. 단순선형회귀, 다중선형회귀 모델의 성능이 기준모델보다 나아졌나요?"
      ]
    },
    {
      "cell_type": "markdown",
      "metadata": {
        "id": "V-gRmXYeazVZ"
      },
      "source": [
        "## **Part 3. 모델 해석**\n",
        "\n",
        "`LinearRegression` 객체의 `coef_`와 `intercept_` 속성을 사용하여 모델 식을 구합니다.\n",
        "- 단순선형회귀식을 구하세요.\n",
        "- 다중선형회귀식을 구하세요."
      ]
    },
    {
      "cell_type": "markdown",
      "metadata": {
        "id": "7PBooVwvmHGs"
      },
      "source": [
        "##### **Q7. 단순선형회귀 모델의 coefficient를 적어 주세요. (소수점 이하 반올림)**"
      ]
    },
    {
      "cell_type": "code",
      "execution_count": null,
      "metadata": {
        "id": "69Rf54YyZXcH"
      },
      "outputs": [],
      "source": [
        "## Q7. 단순선형회귀 모델의 coefficient를 적어 주세요."
      ]
    },
    {
      "cell_type": "markdown",
      "metadata": {
        "id": "qZrWauXymK-X"
      },
      "source": [
        "##### **Q8. 다중선형회귀 모델의 `sqft_living`의 coefficient를 적어 주세요. (소수점 이하 반올림)**"
      ]
    },
    {
      "cell_type": "code",
      "execution_count": null,
      "metadata": {
        "id": "9eCNcES6ZYvs"
      },
      "outputs": [],
      "source": [
        "## Q8. 다중선형회귀 모델의 `sqft_living`의 coefficient를 적어 주세요."
      ]
    },
    {
      "cell_type": "markdown",
      "metadata": {
        "id": "DzXLbbvH_PkY"
      },
      "source": [
        "## **Part 4. Linear Regression - Advanced**"
      ]
    },
    {
      "cell_type": "markdown",
      "metadata": {
        "id": "Q_ocrefl_WwK"
      },
      "source": [
        "### **4-1. Discussion**\n",
        "\n",
        "- 단순선형회귀 모델을 만들기 위해 전제되어야 하는 조건들에 대해 설명해 보세요."
      ]
    },
    {
      "cell_type": "code",
      "execution_count": null,
      "metadata": {
        "id": "bK2U4mZJInb4"
      },
      "outputs": [],
      "source": [
        "# 구글 검색, 챗GPT를 통해 이해해보세요"
      ]
    },
    {
      "cell_type": "markdown",
      "metadata": {
        "id": "MiMyhgfm_h98"
      },
      "source": [
        "### **4-2. Simple Linear Regression**\n",
        "\n",
        "- Scikit-Learn 라이브러리를 사용하여 단순선형회귀 모델을 만드세요.\n",
        "  - **기본 과제**에서 사용한 특성 외에 다른 특성을 사용합니다.\n",
        "  - 타겟은 `price` 입니다.\n",
        "- 모델 학습 후, 사용한 특성에 대한 타겟 `price`의 예측값을 구하세요."
      ]
    },
    {
      "cell_type": "code",
      "execution_count": null,
      "metadata": {
        "id": "Mfn_8k-jIoPw"
      },
      "outputs": [],
      "source": []
    },
    {
      "cell_type": "markdown",
      "metadata": {
        "id": "Bp17v2l1A60_"
      },
      "source": [
        "### **4-3. Multiple Linear Regression**\n",
        "\n",
        "- Scikit-Learn 라이브러리를 사용하여 다중선형회귀 모델을 만드세요.\n",
        "  - 3가지 이상의 특성을 사용합니다.\n",
        "  - 타겟은 `price`입니다.\n",
        "- 모델 학습 후, 사용한 특성들에 대한 타겟 `price`의 예측값을 구하세요."
      ]
    },
    {
      "cell_type": "code",
      "execution_count": null,
      "metadata": {
        "id": "BipaD4mrIo1r"
      },
      "outputs": [],
      "source": []
    },
    {
      "cell_type": "markdown",
      "metadata": {
        "id": "FrbvAM7LHs6j"
      },
      "source": [
        "### **4-4. 평가지표**\n",
        "\n",
        "**4-2**, **4-3**에서 구한 단순선형회귀, 다중선형회귀의 성능을 평가해 봅니다.\n",
        "- 각 모델의 mse, rmse, mae, $R^2$ 값을 구하세요.\n",
        "- 위에서 구한 평가지표와 **Part 1**에서 구한 평가지표 스코어에 대하여, 해당 결과를 통해 얻을 수 있는 인사이트는 어떤 것이 있는지 설명해 보세요."
      ]
    },
    {
      "cell_type": "code",
      "execution_count": null,
      "metadata": {
        "id": "4KO_17l8IpYV"
      },
      "outputs": [],
      "source": []
    }
  ],
  "metadata": {
    "colab": {
      "provenance": [],
      "toc_visible": true
    },
    "kernelspec": {
      "display_name": ".venv",
      "language": "python",
      "name": "python3"
    },
    "language_info": {
      "codemirror_mode": {
        "name": "ipython",
        "version": 3
      },
      "file_extension": ".py",
      "mimetype": "text/x-python",
      "name": "python",
      "nbconvert_exporter": "python",
      "pygments_lexer": "ipython3",
      "version": "3.11.5"
    }
  },
  "nbformat": 4,
  "nbformat_minor": 0
}
