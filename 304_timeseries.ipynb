{
 "cells": [
  {
   "cell_type": "markdown",
   "metadata": {},
   "source": [
    "# 시계열 예측\n",
    "\n",
    "(출처: [Kaggle](https://www.kaggle.com/code/prashant111/complete-guide-on-time-series-analysis-in-python))\n",
    "\n",
    "(참고 문헌: [Rob J Hyndman](https://otexts.com/fpp3/))\n",
    "\n"
   ]
  },
  {
   "cell_type": "code",
   "execution_count": null,
   "metadata": {},
   "outputs": [],
   "source": [
    "import pandas as pd\n",
    "import numpy as np\n",
    "import matplotlib.pyplot as plt\n",
    "import seaborn as sns\n",
    "import warnings\n",
    "warnings.filterwarnings('ignore')\n",
    "\n",
    "# customize the style\n",
    "pd.options.display.float_format = '{:.5f}'.format\n",
    "pd.options.display.max_rows = 12\n",
    "\n",
    "# load the data\n",
    "df = pd.read_csv('https://raw.githubusercontent.com/selva86/datasets/master/AirPassengers.csv')\n",
    "df.head()"
   ]
  },
  {
   "cell_type": "markdown",
   "metadata": {},
   "source": [
    "## 시계열 데이터 탐색"
   ]
  },
  {
   "cell_type": "code",
   "execution_count": null,
   "metadata": {},
   "outputs": [],
   "source": [
    "df = df.set_index('date')\n",
    "df.index = pd.to_datetime(df.index)"
   ]
  },
  {
   "cell_type": "code",
   "execution_count": null,
   "metadata": {},
   "outputs": [],
   "source": [
    "df.plot(style='-', figsize=(15, 5), title='Number of Air Passengers')\n",
    "plt.show()"
   ]
  },
  {
   "cell_type": "code",
   "execution_count": null,
   "metadata": {},
   "outputs": [],
   "source": [
    "# ACT, PACF\n",
    "from statsmodels.graphics.tsaplots import plot_acf, plot_pacf\n",
    "fig, (ax1, ax2) = plt.subplots(2, 1, figsize=(12, 8))\n",
    "plot_acf(df, ax=ax1, lags=50)\n",
    "plot_pacf(df, ax=ax2, lags=50)\n",
    "plt.tight_layout()\n",
    "plt.show()"
   ]
  },
  {
   "cell_type": "code",
   "execution_count": null,
   "metadata": {},
   "outputs": [],
   "source": [
    "# 시계열 분해\n",
    "from statsmodels.tsa.seasonal import seasonal_decompose\n",
    "result = seasonal_decompose(df, model='additive', period=12)\n",
    "result.plot()\n",
    "plt.tight_layout()\n",
    "plt.show()"
   ]
  },
  {
   "cell_type": "code",
   "execution_count": null,
   "metadata": {},
   "outputs": [],
   "source": [
    "# 월에 따른 항공 여객 수 추이를 확인합니다\n",
    "df2 = df.copy()\n",
    "df2['month'] = df.index.month\n",
    "fig, ax = plt.subplots(figsize=(10, 8))\n",
    "sns.boxplot(data=df2, x='month', y='value')\n",
    "ax.set_title('Passengers by Month')\n",
    "plt.show()"
   ]
  },
  {
   "cell_type": "markdown",
   "metadata": {},
   "source": [
    "## 모델링"
   ]
  },
  {
   "cell_type": "code",
   "execution_count": null,
   "metadata": {},
   "outputs": [],
   "source": [
    "# 시계열 데이터의 train/test 분할\n",
    "train_size = int(len(df) * 0.8)\n",
    "train, test = df[:train_size], df[train_size:]"
   ]
  },
  {
   "cell_type": "code",
   "execution_count": null,
   "metadata": {},
   "outputs": [],
   "source": [
    "from sklearn.metrics import mean_squared_error\n",
    "from math import sqrt\n",
    "\n",
    "# Naive 모델\n",
    "naive_forecast = test.shift(1)\n",
    "naive_rmse = sqrt(mean_squared_error(test[1:], naive_forecast[1:]))\n",
    "print(f\"Naive 모델 RMSE: {naive_rmse}\")"
   ]
  },
  {
   "cell_type": "code",
   "execution_count": null,
   "metadata": {},
   "outputs": [],
   "source": [
    "# ARIMA 모델\n",
    "from statsmodels.tsa.statespace.sarimax import SARIMAX\n",
    "model = SARIMAX(train['value'], order=(1,1,1), seasonal_order=(1,1,1,12))\n",
    "model_fit = model.fit()\n",
    "arima_forecast = model_fit.forecast(steps=len(test))\n",
    "arima_rmse = sqrt(mean_squared_error(test['value'], arima_forecast))\n",
    "print(f\"ARIMA 모델 RMSE: {arima_rmse}\")"
   ]
  },
  {
   "cell_type": "code",
   "execution_count": null,
   "metadata": {},
   "outputs": [],
   "source": [
    "# 딥러닝 모델 (LSTM 레이어 이용)\n",
    "import tensorflow as tf\n",
    "from tensorflow.keras.models import Sequential\n",
    "from tensorflow.keras.layers import LSTM, Dense\n",
    "from sklearn.preprocessing import MinMaxScaler\n",
    "from sklearn.metrics import mean_squared_error\n",
    "import matplotlib.pyplot as plt\n",
    "\n",
    "scaler = MinMaxScaler()\n",
    "df['scaled_value'] = scaler.fit_transform(df[['value']])\n",
    "def create_dataset(dataset, time_step=1, future_steps=1):\n",
    "    X, y = [], []\n",
    "    for i in range(len(dataset) - time_step - future_steps + 1):\n",
    "        a = dataset[i:(i + time_step), 0]\n",
    "        X.append(a)\n",
    "        y.append(dataset[(i + time_step):(i + time_step + future_steps), 0])\n",
    "    return np.array(X), np.array(y)\n",
    "\n",
    "train, test = df[:train_size], df[train_size:]\n",
    "time_step = 12\n",
    "future_steps = 3  # 3개월 후까지 예측\n",
    "X_train, y_train = create_dataset(train[['scaled_value']].values, time_step, future_steps)\n",
    "X_test, y_test = create_dataset(test[['scaled_value']].values, time_step, future_steps)\n",
    "X_train = X_train.reshape(X_train.shape[0], X_train.shape[1], 1)\n",
    "X_test = X_test.reshape(X_test.shape[0], X_test.shape[1], 1)\n",
    "\n",
    "model = Sequential([\n",
    "    LSTM(512, return_sequences=True, input_shape=(time_step, 1)),\n",
    "    LSTM(256, return_sequences=True),\n",
    "    LSTM(128, return_sequences=True),\n",
    "    LSTM(64),\n",
    "    Dense(future_steps)\n",
    "])\n",
    "model.compile(optimizer='adam', loss='mean_squared_error')\n",
    "model.fit(X_train, y_train, validation_split=0.2, epochs=30, batch_size=32, verbose=1)\n",
    "X_full = []\n",
    "for i in range(len(df) - time_step - future_steps + 1):\n",
    "    X_full.append(df['scaled_value'].values[i:(i + time_step)])\n",
    "X_full = np.array(X_full).reshape(-1, time_step, 1)\n",
    "full_predict = model.predict(X_full)\n",
    "full_predict = scaler.inverse_transform(full_predict)\n",
    "lstm_forecast = full_predict[:, -1]\n",
    "lstm_forecast_series = pd.Series(lstm_forecast, index=df.index[time_step+future_steps-1:])\n",
    "lstm_forecast_full = pd.Series(df['value'].values[:time_step+future_steps-1], index=df.index[:time_step+future_steps-1])\n",
    "lstm_forecast_full = pd.concat([lstm_forecast_full, lstm_forecast_series])\n",
    "lstm_forecast = lstm_forecast_full[test.index]\n",
    "lstm_rmse = np.sqrt(mean_squared_error(test['value'], lstm_forecast))\n",
    "print(f\"LSTM 모델 RMSE: {lstm_rmse}\")"
   ]
  },
  {
   "cell_type": "code",
   "execution_count": null,
   "metadata": {},
   "outputs": [],
   "source": [
    "# 최종 결과 시각화\n",
    "import matplotlib.pyplot as plt\n",
    "\n",
    "test_index = test.index\n",
    "\n",
    "naive_forecast_series = pd.Series(naive_forecast['value'].values, index=test_index)\n",
    "arima_forecast_series = pd.Series(arima_forecast.values, index=test_index)\n",
    "lstm_forecast_array = np.array(lstm_forecast).flatten()\n",
    "\n",
    "lstm_index = test_index[-len(lstm_forecast_array):]\n",
    "\n",
    "end_date = test_index[-1]\n",
    "start_date = end_date - pd.Timedelta(days=3)\n",
    "\n",
    "plt.figure(figsize=(12, 6))\n",
    "\n",
    "plt.plot(df.index, df['value'], label='Actual value')\n",
    "\n",
    "# Naive forecast\n",
    "plt.plot(naive_forecast_series.index, naive_forecast_series, label='Naive Forecast')\n",
    "\n",
    "# ARIMA forecast\n",
    "plt.plot(arima_forecast_series.index, arima_forecast_series, label='ARIMA Forecast')\n",
    "\n",
    "# LSTM forecast\n",
    "plt.plot(lstm_index, lstm_forecast_array, label='LSTM Forecast')\n",
    "\n",
    "plt.legend()\n",
    "plt.title('Model Forecast Comparison with Actual Values')\n",
    "plt.xlabel('Date')\n",
    "plt.xticks(rotation=45)\n",
    "plt.tight_layout()\n",
    "plt.show()\n"
   ]
  }
 ],
 "metadata": {
  "kernelspec": {
   "display_name": ".venv",
   "language": "python",
   "name": "python3"
  },
  "language_info": {
   "codemirror_mode": {
    "name": "ipython",
    "version": 3
   },
   "file_extension": ".py",
   "mimetype": "text/x-python",
   "name": "python",
   "nbconvert_exporter": "python",
   "pygments_lexer": "ipython3",
   "version": "3.11.5"
  }
 },
 "nbformat": 4,
 "nbformat_minor": 2
}
