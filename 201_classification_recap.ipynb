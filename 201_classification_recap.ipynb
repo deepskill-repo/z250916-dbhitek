{
 "cells": [
  {
   "cell_type": "markdown",
   "metadata": {},
   "source": [
    "# 분류 모델 복습: Titanic 생존자 예측\n",
    "\n",
    "Titanic 데이터셋은 1912년 침몰한 타이타닉 호의 승객 정보를 담고 있습니다. 이 데이터를 사용하여 승객의 생존 여부를 예측하는 분류 모델을 만들어 보겠습니다."
   ]
  },
  {
   "cell_type": "markdown",
   "metadata": {},
   "source": [
    "#### 데이터 로드"
   ]
  },
  {
   "cell_type": "code",
   "execution_count": null,
   "metadata": {},
   "outputs": [],
   "source": [
    "import seaborn as sns\n",
    "df = sns.load_dataset('titanic')\n",
    "# 사용하지 않을 열을 제거합니다.\n",
    "df = df.drop(['deck', 'embark_town', 'alive', 'who'], axis=1)\n",
    "# 결측치를 처리합니다. 'age'는 중앙값으로, 'embarked'는 최빈값으로 채웁니다.\n",
    "df['age'].fillna(df['age'].median(), inplace=True)\n",
    "df['embarked'].fillna(df['embarked'].mode()[0], inplace=True)\n",
    "\n",
    "df.head()"
   ]
  },
  {
   "cell_type": "markdown",
   "metadata": {},
   "source": [
    "#### Q1. 범주형 변수를 One-hot encoding(`pd.get_dummies`)하세요\n",
    "\n",
    "'sex', 'embarked', 'class' 열에 대해 One-hot encoding을 적용하세요."
   ]
  },
  {
   "cell_type": "code",
   "execution_count": null,
   "metadata": {},
   "outputs": [],
   "source": []
  },
  {
   "cell_type": "markdown",
   "metadata": {},
   "source": [
    "#### Q2. 모델링을 위해 데이터에서 X와 y(\"survived\")를 분리합니다"
   ]
  },
  {
   "cell_type": "code",
   "execution_count": null,
   "metadata": {},
   "outputs": [],
   "source": []
  },
  {
   "cell_type": "markdown",
   "metadata": {},
   "source": [
    "#### Q3. StandardScaler를 사용하여 X값을 스케일링하세요."
   ]
  },
  {
   "cell_type": "code",
   "execution_count": null,
   "metadata": {},
   "outputs": [],
   "source": []
  },
  {
   "cell_type": "markdown",
   "metadata": {},
   "source": [
    "#### Q4. Train/test 데이터를 분리합니다"
   ]
  },
  {
   "cell_type": "code",
   "execution_count": null,
   "metadata": {},
   "outputs": [],
   "source": []
  },
  {
   "cell_type": "markdown",
   "metadata": {},
   "source": [
    "#### Q5. 랜덤 포레스트 모델을 학습시키세요"
   ]
  },
  {
   "cell_type": "code",
   "execution_count": null,
   "metadata": {},
   "outputs": [],
   "source": []
  },
  {
   "cell_type": "markdown",
   "metadata": {},
   "source": [
    "#### Q6. 모델 성능을 평가합니다"
   ]
  },
  {
   "cell_type": "code",
   "execution_count": null,
   "metadata": {},
   "outputs": [],
   "source": []
  },
  {
   "cell_type": "markdown",
   "metadata": {},
   "source": [
    "#### Q7. Feature Importance를 확인합니다"
   ]
  },
  {
   "cell_type": "code",
   "execution_count": null,
   "metadata": {},
   "outputs": [],
   "source": []
  },
  {
   "cell_type": "markdown",
   "metadata": {},
   "source": [
    "<추가 설명>\n",
    "\n",
    "추가로 참고할 수 있는 성능 지표들은 아래를 참고하세요.\n",
    "\n",
    "#### F1 Score\n",
    "\n",
    "F1 Score는 Precision(정밀도)과 Recall(재현율)의 조화평균입니다. 이 두 지표를 균형있게 고려하여 모델의 성능을 평가합니다.\n",
    "\n",
    "F1 = 2 * (Precision * Recall) / (Precision + Recall)\n",
    "\n",
    "```python\n",
    "from sklearn.metrics import f1_score\n",
    "f1 = f1_score(y_true, y_pred)\n",
    "```\n",
    "\n",
    "#### AUC/ROC (Area Under the Curve / Receiver Operating Characteristic)\n",
    "\n",
    "[참고](https://mlu-explain.github.io/roc-auc/)\n",
    "\n",
    "방금까지의 예측 값은 예측 확률을 0.5를 기준으로 0/1을 구분했습니다. 하지만 이는 바뀔 수 있죠. 이 임계값(threshold)을 변경해가며 모델의 성능 변화를 종합적으로 평가합니다.\n",
    "\n",
    "**ROC 곡선**: \n",
    "- X축: False Positive Rate (1 - Specificity)\n",
    "- Y축: True Positive Rate (Sensitivity 또는 Recall)\n",
    "- 임계값을 변경해가며 이 두 값의 변화를 그래프로 나타냅니다.\n",
    "\n",
    "```python\n",
    "from sklearn.metrics import roc_auc_score, roc_curve\n",
    "auc = roc_auc_score(y_true, y_pred_proba)\n",
    "fpr, tpr, thresholds = roc_curve(y_true, y_pred_proba)\n",
    "```"
   ]
  }
 ],
 "metadata": {
  "kernelspec": {
   "display_name": "base",
   "language": "python",
   "name": "python3"
  },
  "language_info": {
   "codemirror_mode": {
    "name": "ipython",
    "version": 3
   },
   "file_extension": ".py",
   "mimetype": "text/x-python",
   "name": "python",
   "nbconvert_exporter": "python",
   "pygments_lexer": "ipython3",
   "version": "3.11.7"
  }
 },
 "nbformat": 4,
 "nbformat_minor": 2
}
