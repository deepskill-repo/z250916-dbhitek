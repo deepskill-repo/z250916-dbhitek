{
  "cells": [
    {
      "cell_type": "markdown",
      "metadata": {
        "id": "Floqm6KJlkZw"
      },
      "source": [
        "## 인공신경망(Artificial Neural Networks)"
      ]
    },
    {
      "cell_type": "markdown",
      "metadata": {
        "id": "GDRH-ep1xz1Z"
      },
      "source": [
        "<img src=\"https://i.imgur.com/EtpSmaG.png\" width=\"600\">"
      ]
    },
    {
      "cell_type": "markdown",
      "metadata": {
        "id": "ziN9Vc4QQCXz"
      },
      "source": [
        "여기서는 딥러닝 프레임워크(Framework)인 **텐서플로우(Tensorflow)**와 그 상위 API인 **케라스(Keras)**를 사용할 것입니다.<br/>\n",
        "익숙한 데이터인 붓꽃(Iris) 데이터, 기본 예제인 손글씨 MNIST 예제를 통해 텐서플로우와 케라스의 사용법을 알아보겠습니다.\n",
        "\n",
        "코드는 여러 번 반복해보고 여러 데이터에 적용해보는 것이 중요합니다.<br/>\n",
        "예제 이외에도 여러 데이터를 Tensorflow 와 Keras 로 풀어본다면 익숙해질 것입니다."
      ]
    },
    {
      "cell_type": "markdown",
      "metadata": {
        "id": "zL3Sog6xktHL"
      },
      "source": [
        "### Iris 데이터 분류하기"
      ]
    },
    {
      "cell_type": "markdown",
      "metadata": {
        "id": "E30-tn4Eq4QB"
      },
      "source": [
        "분류 문제에서 예시로 자주 활용되는 **붓꽃(Iris) 데이터**에 신경망을 적용하여 봅시다.\n",
        "\n",
        "전체 특성 중 2개의 특성(**`sepal length, petal length`**)만 선택하여 사용하고,<br/>\n",
        "150개의 데이터 중 Setosa(50), Versicolor(50)만 추출하여 100개의 데이터에 대해서 **이진 분류(Binary classification)**를 진행해 보겠습니다."
      ]
    },
    {
      "cell_type": "markdown",
      "metadata": {
        "id": "v16WbAN6uAFq"
      },
      "source": [
        "1. **먼저 필요한 패키지와 라이브러리를 불러옵니다.**"
      ]
    },
    {
      "cell_type": "code",
      "execution_count": null,
      "metadata": {
        "id": "voWNcJ_HQjt6"
      },
      "outputs": [],
      "source": [
        "import pandas as pd\n",
        "import numpy as np\n",
        "import matplotlib.pyplot as plt\n",
        "import tensorflow as tf"
      ]
    },
    {
      "cell_type": "markdown",
      "metadata": {
        "id": "r1ilB2G-uAuE"
      },
      "source": [
        "2. **시드(Seed)를 고정합니다.**"
      ]
    },
    {
      "cell_type": "code",
      "execution_count": null,
      "metadata": {
        "id": "n29iFXPeqGa3"
      },
      "outputs": [],
      "source": [
        "np.random.seed(42) # numpy 랜덤 시드 고정\n",
        "tf.random.set_seed(42) # tensorflow 랜덤 시드 고정"
      ]
    },
    {
      "cell_type": "markdown",
      "metadata": {
        "id": "LmTeoBByuH0q"
      },
      "source": [
        "3. **Iris 데이터셋을 DataFrame 형태로 불러온 후 데이터 형태를 살펴봅니다.**"
      ]
    },
    {
      "cell_type": "code",
      "execution_count": null,
      "metadata": {
        "id": "kNF6T9JHQlez"
      },
      "outputs": [],
      "source": [
        "df = pd.read_csv('https://archive.ics.uci.edu/ml/machine-learning-databases/iris/iris.data', header=None)"
      ]
    },
    {
      "cell_type": "code",
      "execution_count": null,
      "metadata": {
        "colab": {
          "base_uri": "https://localhost:8080/",
          "height": 206
        },
        "id": "38grEXYdQuSw",
        "outputId": "24dd61b4-7119-4378-bd29-3700aaae60b0"
      },
      "outputs": [],
      "source": [
        "df.head()"
      ]
    },
    {
      "cell_type": "code",
      "execution_count": null,
      "metadata": {
        "colab": {
          "base_uri": "https://localhost:8080/"
        },
        "id": "F4sTeedHQ1mV",
        "outputId": "b86aaae0-32cf-4ed4-8556-86ff1929d282"
      },
      "outputs": [],
      "source": [
        "df.shape"
      ]
    },
    {
      "cell_type": "markdown",
      "metadata": {
        "id": "ETrmfsCauTw3"
      },
      "source": [
        "4. **Setosa, Versicolor 데이터만 추출하여 전처리해 줍니다.**"
      ]
    },
    {
      "cell_type": "code",
      "execution_count": null,
      "metadata": {
        "colab": {
          "base_uri": "https://localhost:8080/"
        },
        "id": "L1OrBojyQ31v",
        "outputId": "c7fb10cf-4632-4d51-ccc1-740d73f1e70e"
      },
      "outputs": [],
      "source": [
        "label = df.iloc[0:100, 4].values # 4 번째 column의 값(=label)만 추출\n",
        "label"
      ]
    },
    {
      "cell_type": "markdown",
      "metadata": {
        "id": "CtSQ7B2pr2hI"
      },
      "source": [
        "타겟 레이블을 setosa = 0, versicolor = 1 로 변경해줍니다."
      ]
    },
    {
      "cell_type": "code",
      "execution_count": null,
      "metadata": {
        "colab": {
          "base_uri": "https://localhost:8080/"
        },
        "id": "W_kdoWQ_Q5aS",
        "outputId": "9c7e6c8a-6d54-4a18-b367-f7be35bffee8"
      },
      "outputs": [],
      "source": [
        "label = np.where(label == 'Iris-setosa', 0, 1) # 값이 'Iris-setosa'인 경우 0으로 변경하고 아니면 1로 변경\n",
        "label"
      ]
    },
    {
      "cell_type": "markdown",
      "metadata": {
        "id": "LPCt4c1-yM0f"
      },
      "source": [
        "5. **데이터가 어떤 분포를 가지고 있는지 시각화를 통해 알아봅시다.**"
      ]
    },
    {
      "cell_type": "code",
      "execution_count": null,
      "metadata": {
        "colab": {
          "base_uri": "https://localhost:8080/"
        },
        "id": "YHH7uhJtQ6wy",
        "outputId": "0e31bddd-ebeb-4ea1-cb9d-effed4bc4ff6"
      },
      "outputs": [],
      "source": [
        "features = df.iloc[0:100, [0,2]].values\n",
        "features.shape"
      ]
    },
    {
      "cell_type": "code",
      "execution_count": null,
      "metadata": {
        "colab": {
          "base_uri": "https://localhost:8080/",
          "height": 449
        },
        "id": "7tT9FqkqyNSw",
        "outputId": "9ed8ec3d-45b4-4996-ec19-434d6ff2d374"
      },
      "outputs": [],
      "source": [
        "plt.scatter(features[:50, 0], features[:50, 1], color='red', marker='o', label='setosa')\n",
        "plt.scatter(features[50:100, 0], features[50:100, 1], color='blue', marker='x', label='versicolor')\n",
        "plt.xlabel('sepal length')\n",
        "plt.ylabel('petal length')\n",
        "plt.legend(loc='upper left')\n",
        "plt.show()"
      ]
    },
    {
      "cell_type": "markdown",
      "metadata": {
        "id": "4H93KOFxwRvq"
      },
      "source": [
        "5. **학습 데이터셋(Train Dataset)과 시험 데이터셋(Test Dataset)으로 나누어(Split)줍니다.**"
      ]
    },
    {
      "cell_type": "code",
      "execution_count": null,
      "metadata": {
        "id": "mWbS6gluwN9e"
      },
      "outputs": [],
      "source": [
        "from sklearn.model_selection import train_test_split\n",
        "\n",
        "X_train, X_test, y_train, y_test = train_test_split(features, label, test_size=0.2, random_state=42)"
      ]
    },
    {
      "cell_type": "markdown",
      "metadata": {
        "id": "Kxd8difcSCe1"
      },
      "source": [
        "6. **신경망 모델을 구축하고 컴파일(complie)한 후 학습합니다.**\n",
        "\n",
        "이번 예제에서는 단층, 즉 **은닉층 없이 출력층으로만** 모델을 구성할 예정입니다.<br/>\n",
        "그렇다면 입력층은 어디에 있을까요? 그리고 입력층의 노드 개수는 몇 개가 될까요?"
      ]
    },
    {
      "cell_type": "code",
      "execution_count": null,
      "metadata": {
        "id": "B633_C64Q8dp"
      },
      "outputs": [],
      "source": [
        "# Sequential: 레이어를 순차적으로 연결하여 신경망을 구성하는 방법\n",
        "\n",
        "model = tf.keras.models.Sequential([\n",
        "    tf.keras.layers.Dense(1, activation='sigmoid'),\n",
        "    tf.keras.layers.Dense(1, activation='sigmoid'),\n",
        "    tf.keras.layers.Dense(1, activation='sigmoid')\n",
        "])"
      ]
    },
    {
      "cell_type": "markdown",
      "metadata": {
        "id": "UEtqi3EoSVJs"
      },
      "source": [
        "**`.compile`** 에서는 신경망에서 사용할 옵티마이저(**`optimizer`**), 손실 함수(**`loss`**), 지표(**`metrics`**)를 설정합니다."
      ]
    },
    {
      "cell_type": "code",
      "execution_count": null,
      "metadata": {},
      "outputs": [],
      "source": [
        "from tensorflow.keras.metrics import Precision\n",
        "\n",
        "model.compile(optimizer='sgd',\n",
        "              loss='binary_crossentropy',\n",
        "              metrics=[tf.keras.metrics.Precision()])"
      ]
    },
    {
      "cell_type": "code",
      "execution_count": null,
      "metadata": {
        "id": "xp9FdaEIRLPI"
      },
      "outputs": [],
      "source": [
        "# # .compile() : 신경망을 구성한 다음 신경망의 학습 방법을 결정해줍니다.\n",
        "\n",
        "# model.compile(optimizer='sgd',\n",
        "#               loss='binary_crossentropy',\n",
        "#               metrics=['accuracy']) # 학습 지표를 정확도로 설정합니다."
      ]
    },
    {
      "cell_type": "markdown",
      "metadata": {
        "id": "LZnjSIiOTPIX"
      },
      "source": [
        "**`.fit`** 은 실제로 신경망 학습이 진행되는 부분입니다.<br/>\n",
        "에포크(`epochs`)를 조정하면 학습 횟수를 조정할 수 있습니다."
      ]
    },
    {
      "cell_type": "code",
      "execution_count": null,
      "metadata": {
        "colab": {
          "base_uri": "https://localhost:8080/"
        },
        "id": "5LioxpwWRN67",
        "outputId": "ab2e9613-e527-42b6-ba68-48c978b6675a"
      },
      "outputs": [],
      "source": [
        "model.fit(X_train, y_train, epochs=30)"
      ]
    },
    {
      "cell_type": "markdown",
      "metadata": {
        "id": "_cD59Zh1WnMG"
      },
      "source": [
        "7. **학습한 신경망 모델을 사용하여 평가합니다.**"
      ]
    },
    {
      "cell_type": "code",
      "execution_count": null,
      "metadata": {
        "colab": {
          "base_uri": "https://localhost:8080/"
        },
        "id": "N1R-uCCdRPxD",
        "outputId": "4fe69c67-0a28-4b7f-8d05-370c8ec06482"
      },
      "outputs": [],
      "source": [
        "model.evaluate(X_test, y_test, verbose=2)"
      ]
    },
    {
      "cell_type": "markdown",
      "metadata": {
        "id": "6a5OzCt5CMQ-"
      },
      "source": [
        "붓꽃 데이터 예제 코드에서\n",
        "\n",
        "    > ❓ 1. 입력층의 노드 수는 몇 개일까요? (Hint : 입력 데이터의 특성 수)  \n",
        "    > ❓ 2. **`Dense`** 층의 숫자는 왜 **1** 일까요?  \n",
        "    > ❓ 3. **`Dense`** 층의 **`activation`** 은 왜 **`sigmoid`** 로 해주었을까요?  \n",
        "    \n"
      ]
    },
    {
      "cell_type": "markdown",
      "metadata": {
        "id": "kX9AU0Ya2CH2"
      },
      "source": [
        "### 손글씨 MNIST 예제\n",
        "\n"
      ]
    },
    {
      "cell_type": "markdown",
      "metadata": {
        "id": "Kiu2-zZlq5N4"
      },
      "source": [
        "MNIST 손글씨 예제는 가장 기본적인 이미지 분류(Image Classification) 예제입니다.<br/>\n",
        "사람이 **0-9까지 쓴 흑백 손글씨 숫자 이미지를 각 클래스로 분류**합니다.<br/>\n",
        "데이터는 가로, 세로 28픽셀(pixels)로 구성된 정사각형 이미지입니다.\n",
        "\n",
        "실제 데이터가 어떻게 생겼고 어떻게 분류되어야 할 지 이미지를 통해 알아보겠습니다."
      ]
    },
    {
      "cell_type": "markdown",
      "metadata": {
        "id": "I5UQvXpGq5lU"
      },
      "source": [
        "<img src=\"https://abpaudel.com/assets/img/posts/mnist.png\" width=500>"
      ]
    },
    {
      "cell_type": "markdown",
      "metadata": {
        "id": "OJEAiXAz88hM"
      },
      "source": [
        "> ❓ *그렇다면 MNIST 예제는 이진 분류, 다중 분류, 회귀 중 어디에 속할까요?*  \n",
        "> **<font color=\"ff6f61\">항상 문제를 풀기 전에 자신이 풀고자 하는 문제가 어디에 속하는 지 생각</font>해보도록 합시다.**"
      ]
    },
    {
      "cell_type": "markdown",
      "metadata": {
        "id": "gUjBSQtB9Fo_"
      },
      "source": [
        "1. **먼저 필요한 패키지와 라이브러리를 불러옵니다.**"
      ]
    },
    {
      "cell_type": "code",
      "execution_count": null,
      "metadata": {
        "id": "4jVtVqIp9JtE"
      },
      "outputs": [],
      "source": [
        "import pandas as pd\n",
        "import tensorflow as tf"
      ]
    },
    {
      "cell_type": "markdown",
      "metadata": {
        "id": "Glc0ohHs9IPw"
      },
      "source": [
        "2. **데이터셋을 불러온 후 학습 데이터셋(Train Dataset)과 시험 데이터셋(Test Dataset)으로 나누어(Split)주고 픽셀값을 정규화 하여줍니다.**"
      ]
    },
    {
      "cell_type": "code",
      "execution_count": null,
      "metadata": {
        "colab": {
          "base_uri": "https://localhost:8080/"
        },
        "id": "ua6p5z159YL9",
        "outputId": "d74d9a2a-3d97-4dd1-dcbd-b7b80e7561f1"
      },
      "outputs": [],
      "source": [
        "# keras에서 제공하는 예제 데이터셋을 불러옵니다.\n",
        "mnist = tf.keras.datasets.mnist\n",
        "\n",
        "# .load_data()를 통해 각 형태에 맞게 데이터를 불러올 수 있습니다.\n",
        "(x_train, y_train), (x_test, y_test) = mnist.load_data()"
      ]
    },
    {
      "cell_type": "markdown",
      "metadata": {
        "id": "SMmF-JWM9msg"
      },
      "source": [
        "이미지 데이터에서는 정규화하는 과정이 중요합니다. 빼먹지 않도록 주의해주세요!"
      ]
    },
    {
      "cell_type": "code",
      "execution_count": null,
      "metadata": {
        "id": "XNL0nv5L9jtm"
      },
      "outputs": [],
      "source": [
        "# 이미지 데이터는 색의 명암을 0 ~ 255 사이의 숫자를 통해 표현합니다.\n",
        "# 따라서 데이터가 0 ~ 255 사이의 숫자로 구성되어 있으니 이를 0 ~ 1 사이의 숫자로 normalization 해줍니다.\n",
        "\n",
        "x_train, x_test = x_train / 255.0, x_test / 255.0"
      ]
    },
    {
      "cell_type": "markdown",
      "metadata": {
        "id": "QzJ9Wejf9Xst"
      },
      "source": [
        "3. **레이블이 어떻게 구성되어 있는 지 확인해봅니다.**\n",
        "\n",
        "    데이터의 레이블 구성 형태를 살펴봅니다.<br/>\n",
        "    처음보는 데이터의 경우 데이터 자체를 디스플레이 하여 보면 도움이 됩니다."
      ]
    },
    {
      "cell_type": "code",
      "execution_count": null,
      "metadata": {
        "colab": {
          "base_uri": "https://localhost:8080/"
        },
        "id": "HOKNf_559eye",
        "outputId": "79bd109b-81ea-4cb9-a2c6-2d0fce49c30e"
      },
      "outputs": [],
      "source": [
        "pd.unique(y_train)"
      ]
    },
    {
      "cell_type": "markdown",
      "metadata": {
        "id": "yCCLTvqu98bE"
      },
      "source": [
        "4. **이제 본격적으로 신경망 모델을 구축해보겠습니다.**\n",
        "\n",
        "이번 예제에서는 1개의 은닉층과 1개의 출력층으로만 모델을 구성할 예정입니다.<br/>\n",
        "그렇다면 입력층의 노드 수는 몇 개가 될까요?"
      ]
    },
    {
      "cell_type": "code",
      "execution_count": null,
      "metadata": {
        "id": "e0LVdBzF98J3"
      },
      "outputs": [],
      "source": [
        "model = tf.keras.models.Sequential([\n",
        "  tf.keras.layers.Flatten(input_shape=(28, 28)),\n",
        "  tf.keras.layers.Dense(100, activation='relu'),\n",
        "  tf.keras.layers.Dense(10, activation='softmax')\n",
        "])"
      ]
    },
    {
      "cell_type": "code",
      "execution_count": null,
      "metadata": {
        "id": "vf6aFN52sN3b"
      },
      "outputs": [],
      "source": [
        "# 위 코드와 동일한 역할을 수행하는 다른 코드입니다.\n",
        "# 다른 사람의 코드를 보고 이해할 수 있도록 아래 방식에도 익숙해져 보도록 합시다.\n",
        "\n",
        "model = tf.keras.models.Sequential()\n",
        "model.add(tf.keras.layers.Flatten(input_shape=(28, 28)))\n",
        "model.add(tf.keras.layers.Dense(100, activation='relu'))\n",
        "model.add(tf.keras.layers.Dense(10, activation='softmax'))"
      ]
    },
    {
      "cell_type": "markdown",
      "metadata": {
        "id": "CjeOUrq-t6bk"
      },
      "source": [
        "이전 예제에서는 `Flatten` 함수가 없었는데요. 해당 함수는 왜 사용되는 것일까요?\n",
        "\n"
      ]
    },
    {
      "cell_type": "code",
      "execution_count": null,
      "metadata": {
        "id": "5TQq6Z16-NSE"
      },
      "outputs": [],
      "source": [
        "model.compile(optimizer='adam',\n",
        "              loss='sparse_categorical_crossentropy',\n",
        "              metrics=['accuracy'])"
      ]
    },
    {
      "cell_type": "code",
      "execution_count": null,
      "metadata": {
        "colab": {
          "base_uri": "https://localhost:8080/"
        },
        "id": "Ce49C91l-TuM",
        "outputId": "66da24c1-7f92-4584-d8b5-c50141bc4335"
      },
      "outputs": [],
      "source": [
        "model.fit(x_train, y_train, epochs=5)"
      ]
    },
    {
      "cell_type": "markdown",
      "metadata": {
        "id": "knPbosgK-xtc"
      },
      "source": [
        "5. **학습한 신경망 모델을 사용하여 평가합니다.**"
      ]
    },
    {
      "cell_type": "code",
      "execution_count": null,
      "metadata": {
        "colab": {
          "base_uri": "https://localhost:8080/"
        },
        "id": "90hFOU1XBA82",
        "outputId": "003dfd5d-7624-4dd4-eab0-1e5f05dbaaf8"
      },
      "outputs": [],
      "source": [
        "model.evaluate(x_test,  y_test, verbose=2)"
      ]
    },
    {
      "cell_type": "markdown",
      "metadata": {
        "id": "mW8-Lo93-FuZ"
      },
      "source": [
        "손글씨 MNIST 예제 코드에서\n",
        "\n",
        "    > ❓ 1. 입력층의 노드 수는 몇 개일까요? (Hint : 입력 데이터의 특성 수)  \n",
        "    > ❓ 2. `Flatten` 은 어떤 역할을 할까요?  \n",
        "    > ❓ 3. 마지막 `Dense` 층의 숫자는 왜 10 일까요?  \n",
        "    > ❓ 4. 마지막 `Dense` 층의 `activation` 은 왜 `softmax` 로 해주었을까요?  \n",
        "   \n"
      ]
    }
  ],
  "metadata": {
    "accelerator": "GPU",
    "colab": {
      "provenance": [],
      "toc_visible": true
    },
    "kernelspec": {
      "display_name": ".venv",
      "language": "python",
      "name": "python3"
    },
    "language_info": {
      "codemirror_mode": {
        "name": "ipython",
        "version": 3
      },
      "file_extension": ".py",
      "mimetype": "text/x-python",
      "name": "python",
      "nbconvert_exporter": "python",
      "pygments_lexer": "ipython3",
      "version": "3.11.5"
    }
  },
  "nbformat": 4,
  "nbformat_minor": 0
}
