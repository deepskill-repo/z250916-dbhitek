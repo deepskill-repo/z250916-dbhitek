{
 "cells": [
  {
   "cell_type": "markdown",
   "metadata": {},
   "source": [
    "## 파이썬 200% 활용 위한 One-point lesson\n",
    "\n",
    "이 실습은 아래의 질문에 답하기 위한 목적입니다.\n",
    "\n",
    "1. 언제는 `()`, 언제는 `[]`, 언제는 `{}` 인지?\n",
    "3. 자료 구조(data type)은 어떤 것이 있고 어떻게 다루면 되는지?\n",
    "4. 작업 중간 결과물을 저장하려면?\n",
    "4. 프로젝트 버전 관리는 어떻게?\n",
    "\n",
    "관련 내용은 매우 방대하지만, 주요 포인트 위주로 담았습니다.\n",
    "\n",
    "추천 서적: [Python for Data Analysis](https://wesmckinney.com/book/)\n",
    "\n",
    "총 정리: [Python Cheat Sheet](https://gto76.github.io/python-cheatsheet/)"
   ]
  },
  {
   "cell_type": "markdown",
   "metadata": {},
   "source": [
    "### 1. 언제는 `()`, 언제는 `[]`, 언제는 `{}` 인지?"
   ]
  },
  {
   "cell_type": "code",
   "execution_count": null,
   "metadata": {},
   "outputs": [],
   "source": [
    "# 1.1 리스트\n",
    "machine_list = [\"장비 1\", \"장비 2\", \"장비 3\", \"장비 4\", \"장비 5\"]\n",
    "type(machine_list)"
   ]
  },
  {
   "cell_type": "code",
   "execution_count": null,
   "metadata": {},
   "outputs": [],
   "source": [
    "# 1.2 리스트\n",
    "# machine_list[0]\n",
    "# machine_list[0:2]\n",
    "# machine_list[2:3]\n",
    "machine_list[-3:]"
   ]
  },
  {
   "cell_type": "code",
   "execution_count": null,
   "metadata": {},
   "outputs": [],
   "source": [
    "# 1.3 딕셔너리\n",
    "machine_dict = {\"장비 1\": 1, \"장비 2\": 2, \"장비 3\": 3, \"장비 4\": 4, \"장비 5\": 5}\n",
    "# machine_dict\n",
    "type(machine_dict)"
   ]
  },
  {
   "cell_type": "code",
   "execution_count": null,
   "metadata": {},
   "outputs": [],
   "source": [
    "# 1.4 딕셔너리\n",
    "# machine_dict[\"장비 1\"]\n",
    "machine_dict[0]"
   ]
  },
  {
   "cell_type": "code",
   "execution_count": null,
   "metadata": {},
   "outputs": [],
   "source": [
    "# 1.5 리스트 & 딕셔너리 & 데이터프레임\n",
    "import pandas as pd\n",
    "df = pd.DataFrame({\n",
    "    \"장비 1\": [1, 2, 3], \n",
    "    \"장비 2\": [9, None, 3], \n",
    "    \"장비 3\": [3, 2, 3]\n",
    "})\n",
    "df"
   ]
  },
  {
   "cell_type": "code",
   "execution_count": null,
   "metadata": {},
   "outputs": [],
   "source": [
    "# 1.6 어레이(array)\n",
    "import numpy as np\n",
    "np.array([1, 2, 3])"
   ]
  },
  {
   "cell_type": "code",
   "execution_count": null,
   "metadata": {},
   "outputs": [],
   "source": [
    "# 1.7 어레이\n",
    "np.array(df)"
   ]
  },
  {
   "cell_type": "code",
   "execution_count": null,
   "metadata": {},
   "outputs": [],
   "source": [
    "# 1.8 어레이 vs 리스트\n",
    "[\"a\", 2, 3]"
   ]
  },
  {
   "cell_type": "code",
   "execution_count": null,
   "metadata": {},
   "outputs": [],
   "source": [
    "np.array([\"a\", 2, 3])"
   ]
  },
  {
   "cell_type": "markdown",
   "metadata": {},
   "source": [
    "### 2. 자료 구조(data type)는 어떤 것이 있고 어떻게 다루면 되는지?"
   ]
  },
  {
   "cell_type": "code",
   "execution_count": null,
   "metadata": {},
   "outputs": [],
   "source": [
    "# 2.1 논리형(boolean)\n",
    "boolean_var = True\n",
    "type(boolean_var)"
   ]
  },
  {
   "cell_type": "code",
   "execution_count": null,
   "metadata": {},
   "outputs": [],
   "source": [
    "# 2.2 정수(int)\n",
    "int_var = 1\n",
    "type(int_var)"
   ]
  },
  {
   "cell_type": "code",
   "execution_count": null,
   "metadata": {},
   "outputs": [],
   "source": [
    "# 2.3 논리형 & 정수\n",
    "0 == True"
   ]
  },
  {
   "cell_type": "code",
   "execution_count": null,
   "metadata": {},
   "outputs": [],
   "source": [
    "# 2.4 실수(float)\n",
    "float_var = 1.2\n",
    "type(float_var)"
   ]
  },
  {
   "cell_type": "code",
   "execution_count": null,
   "metadata": {},
   "outputs": [],
   "source": [
    "# 2.5 텍스트(str)\n",
    "str_var = \"a\"\n",
    "type(str_var)"
   ]
  },
  {
   "cell_type": "code",
   "execution_count": null,
   "metadata": {},
   "outputs": [],
   "source": [
    "# 2.6 텍스트(str) - 타입 바꾸기\n",
    "# int(\"1\")\n",
    "float(\"1.2\")"
   ]
  },
  {
   "cell_type": "code",
   "execution_count": null,
   "metadata": {},
   "outputs": [],
   "source": [
    "# 2.7 텍스트(str)\n",
    "# \"abcde\"[1:3]\n",
    "# \"abc\" + \" | \" + \"def\"\n",
    "\" / \".join([\"a\", \"b\", \"c\"])"
   ]
  },
  {
   "cell_type": "code",
   "execution_count": null,
   "metadata": {},
   "outputs": [],
   "source": [
    "\"\"\"\n",
    "줄1\n",
    "줄2\n",
    "줄3\n",
    "줄4\n",
    "\"\"\""
   ]
  },
  {
   "cell_type": "code",
   "execution_count": null,
   "metadata": {},
   "outputs": [],
   "source": [
    "# 2.8 텍스트(str) - 여러 줄이 있을 때\n",
    "long_text = \"\"\"\n",
    "-------------\n",
    "x1 | x2 | x3\n",
    "-------------\n",
    "1  | 2  | 3\n",
    "1  | 2  | 3\n",
    "-------------\n",
    "\"\"\"\n",
    "long_text\n"
   ]
  },
  {
   "cell_type": "code",
   "execution_count": null,
   "metadata": {},
   "outputs": [],
   "source": [
    "# 2.9 [TASK] 위의 long_text를 데이터프레임으로 정리해보세요\n"
   ]
  },
  {
   "cell_type": "code",
   "execution_count": null,
   "metadata": {},
   "outputs": [],
   "source": [
    "# 2.10 텍스트(str) - f스트링\n",
    "x = 1\n",
    "f\"{x}번째 장비\"\n",
    "\n",
    "\n",
    "voc = \"불만사항...\"\n",
    "f\"\"\"\n",
    "{voc}\n",
    "가상의 고객 클레임이야\n",
    "\"\"\""
   ]
  },
  {
   "cell_type": "code",
   "execution_count": null,
   "metadata": {},
   "outputs": [],
   "source": [
    "# 2.11 텍스트(str) - regex\n",
    "import re\n",
    "\n",
    "emails = [\n",
    "    \"example1@domain1.com\",\n",
    "    \"example2@domain2.org\",\n",
    "    \"xxe3@domain3.net\"\n",
    "]\n",
    "\n",
    "# 도메인 부분을 추출하기 위한 정규 표현식\n",
    "pattern = r\"@([a-zA-Z0-9.-]+)\"\n",
    "\n",
    "for email in emails:\n",
    "    match = re.search(pattern, email)\n",
    "    if match:\n",
    "        print(match.group(1))"
   ]
  },
  {
   "cell_type": "code",
   "execution_count": null,
   "metadata": {},
   "outputs": [],
   "source": [
    "# 2.12 [TASK] 아래의 전화번호에서 지역번호만 뽑아보세요\n",
    "phone_numbers = [\n",
    "    \"(02) 123-5678\",\n",
    "    \"(032) 2345-6789\",\n",
    "    \"(033) 345-7890\",\n",
    "    \"(042) 4567-8901\",\n",
    "    \"(051) 567-9012\"    \n",
    "]"
   ]
  },
  {
   "cell_type": "markdown",
   "metadata": {},
   "source": [
    "### 3. 작업 중간 결과물을 저장하려면?"
   ]
  },
  {
   "cell_type": "code",
   "execution_count": null,
   "metadata": {},
   "outputs": [],
   "source": [
    "# 3.1 pickle\n",
    "import pickle\n",
    "\n",
    "class OvenFactory():\n",
    "    is_door_open = False\n",
    "    temperature = 100\n",
    "    \n",
    "    def open_door(self):\n",
    "        self.is_door_open = True\n",
    "        \n",
    "\n",
    "# 객체를 pickle 파일에 저장\n",
    "with open('OvenFactory.pkl', 'wb') as file:\n",
    "    pickle.dump(OvenFactory, file)\n",
    "\n",
    "# pickle 파일에서 객체를 불러오기\n",
    "with open('OvenFactory.pkl', 'rb') as file:\n",
    "    OvenFactory2 = pickle.load(file)\n",
    "\n",
    "# 불러온 객체 사용 예시\n",
    "new_oven = OvenFactory2()"
   ]
  },
  {
   "cell_type": "code",
   "execution_count": null,
   "metadata": {},
   "outputs": [],
   "source": [
    "# 3.2 JSON\n",
    "import json\n",
    "\n",
    "# 사전을 JSON 파일로 저장\n",
    "with open(\"machine_dict.json\", \"w\", encoding=\"utf-8\") as json_file:\n",
    "    json.dump(machine_dict, json_file, ensure_ascii=False, indent=4)\n",
    "\n",
    "# JSON 파일에서 사전 불러오기\n",
    "with open(\"machine_dict.json\", \"r\") as json_file:\n",
    "    machine_dict2 = json.load(json_file)\n",
    "\n",
    "# 불러온 사전 사용 예시\n",
    "machine_dict2"
   ]
  },
  {
   "cell_type": "markdown",
   "metadata": {},
   "source": [
    "### 4. 프로젝트 버전 관리는 어떻게?"
   ]
  },
  {
   "cell_type": "markdown",
   "metadata": {},
   "source": [
    "1. **Git 설치**: 먼저, 컴퓨터에 [Git](https://git-scm.com/downloads)을 설치합니다.\n",
    "\n",
    "2. **GitHub 계정 생성**: GitHub 계정이 없다면 [GitHub 웹사이트](https://github.com/)에서 계정을 생성합니다.\n",
    "\n",
    "3. **GitHub 저장소 생성**: GitHub 웹사이트에서 새로운 저장소(repository)를 생성합니다. 저장소 이름, 설명 등을 설정할 수 있습니다.\n",
    "\n",
    "4. **VS Code 설정**: VS Code를 열고, 왼쪽 사이드바에서 \"Source Control\" 아이콘(플러그 아이콘)을 클릭한 후 \"Initialize Repository\"를 선택합니다. 이후 GitHub 계정 정보를 입력하고 저장소를 연결합니다.\n",
    "\n",
    "5. **코드 작성 및 변경**: 프로젝트를 VS Code에서 열고 코드를 작성 또는 변경합니다.\n",
    "\n",
    "6. **변경 내용 커밋**: 변경된 코드를 커밋(commit)하여 로컬 저장소에 저장합니다. 이를 위해 왼쪽 사이드바에서 \"Source Control\" 아이콘을 클릭하고 변경 내용을 스테이징(stage)하고 커밋 메시지를 작성합니다.\n",
    "\n",
    "7. **원격 저장소에 푸시**: 로컬 저장소에 커밋한 내용을 GitHub 원격 저장소에 푸시(push)합니다. 이를 위해 VS Code에서 \"...\"(더보기) 버튼을 클릭하고 \"Push\"를 선택합니다.\n",
    "\n",
    "8. **GitHub에서 확인**: GitHub 웹사이트로 돌아가서 변경 내용이 원격 저장소에 반영되었는지 확인합니다.\n",
    "\n",
    "이제 코드를 GitHub에 공유하고, 협업자들과 함께 작업할 수 있습니다. Git과 GitHub의 자세한 사용 방법 및 기능은 공식 문서와 튜토리얼을 참고하여 더 알아보세요.\n"
   ]
  }
 ],
 "metadata": {
  "kernelspec": {
   "display_name": "base",
   "language": "python",
   "name": "python3"
  },
  "language_info": {
   "codemirror_mode": {
    "name": "ipython",
    "version": 3
   },
   "file_extension": ".py",
   "mimetype": "text/x-python",
   "name": "python",
   "nbconvert_exporter": "python",
   "pygments_lexer": "ipython3",
   "version": "3.11.4"
  },
  "orig_nbformat": 4
 },
 "nbformat": 4,
 "nbformat_minor": 2
}
