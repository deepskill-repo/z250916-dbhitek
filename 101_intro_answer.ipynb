{
 "cells": [
  {
   "cell_type": "markdown",
   "metadata": {},
   "source": [
    "# 파이썬 기본 recap"
   ]
  },
  {
   "cell_type": "code",
   "execution_count": 1,
   "metadata": {},
   "outputs": [],
   "source": [
    "# 1.1 math 패키지 불러오기\n",
    "import math\n",
    "\n",
    "# 새로운 패키지 설치\n",
    "# !pip install <새로운 패키지>"
   ]
  },
  {
   "cell_type": "code",
   "execution_count": null,
   "metadata": {},
   "outputs": [],
   "source": [
    "# 1.2 [TASK] pandas 패키지 불러오기\n",
    "import ____"
   ]
  },
  {
   "cell_type": "code",
   "execution_count": null,
   "metadata": {},
   "outputs": [],
   "source": [
    "# 1.3 엑셀 파일 불러오기\n",
    "pandas.read_excel(\"sales.xlsx\")"
   ]
  },
  {
   "cell_type": "code",
   "execution_count": null,
   "metadata": {},
   "outputs": [],
   "source": [
    "# 1.4 패키지 이름 축약\n",
    "import pandas as pd\n",
    "pd.read_excel(\"sales.xlsx\")"
   ]
  },
  {
   "cell_type": "code",
   "execution_count": null,
   "metadata": {},
   "outputs": [],
   "source": [
    "# 1.5 변수로 저장\n",
    "import pandas as pd\n",
    "sales = pd.read_excel(\"sales.xlsx\")"
   ]
  },
  {
   "cell_type": "code",
   "execution_count": 2,
   "metadata": {},
   "outputs": [
    {
     "data": {
      "text/html": [
       "<div>\n",
       "<style scoped>\n",
       "    .dataframe tbody tr th:only-of-type {\n",
       "        vertical-align: middle;\n",
       "    }\n",
       "\n",
       "    .dataframe tbody tr th {\n",
       "        vertical-align: top;\n",
       "    }\n",
       "\n",
       "    .dataframe thead th {\n",
       "        text-align: right;\n",
       "    }\n",
       "</style>\n",
       "<table border=\"1\" class=\"dataframe\">\n",
       "  <thead>\n",
       "    <tr style=\"text-align: right;\">\n",
       "      <th></th>\n",
       "      <th>customer</th>\n",
       "      <th>product</th>\n",
       "      <th>quantity</th>\n",
       "      <th>price</th>\n",
       "    </tr>\n",
       "  </thead>\n",
       "  <tbody>\n",
       "    <tr>\n",
       "      <th>0</th>\n",
       "      <td>테라바이트 벤처스</td>\n",
       "      <td>SiP</td>\n",
       "      <td>43</td>\n",
       "      <td>200</td>\n",
       "    </tr>\n",
       "    <tr>\n",
       "      <th>1</th>\n",
       "      <td>에코스피어 기술</td>\n",
       "      <td>범핑</td>\n",
       "      <td>28</td>\n",
       "      <td>80</td>\n",
       "    </tr>\n",
       "    <tr>\n",
       "      <th>2</th>\n",
       "      <td>사이퍼실크 시스템</td>\n",
       "      <td>범핑</td>\n",
       "      <td>59</td>\n",
       "      <td>220</td>\n",
       "    </tr>\n",
       "    <tr>\n",
       "      <th>3</th>\n",
       "      <td>테라바이트 벤처스</td>\n",
       "      <td>WLP</td>\n",
       "      <td>35</td>\n",
       "      <td>80</td>\n",
       "    </tr>\n",
       "    <tr>\n",
       "      <th>4</th>\n",
       "      <td>양자지수 주식회사</td>\n",
       "      <td>SiP</td>\n",
       "      <td>16</td>\n",
       "      <td>70</td>\n",
       "    </tr>\n",
       "  </tbody>\n",
       "</table>\n",
       "</div>"
      ],
      "text/plain": [
       "    customer product  quantity  price\n",
       "0  테라바이트 벤처스     SiP        43    200\n",
       "1   에코스피어 기술      범핑        28     80\n",
       "2  사이퍼실크 시스템      범핑        59    220\n",
       "3  테라바이트 벤처스     WLP        35     80\n",
       "4  양자지수 주식회사     SiP        16     70"
      ]
     },
     "execution_count": 2,
     "metadata": {},
     "output_type": "execute_result"
    }
   ],
   "source": [
    "# 1.6 출력 후 확인\n",
    "import pandas as pd\n",
    "sales = pd.read_excel(\"sales.xlsx\")\n",
    "sales.head()"
   ]
  },
  {
   "cell_type": "code",
   "execution_count": null,
   "metadata": {},
   "outputs": [],
   "source": [
    "# 1.7 데이터 확인\n",
    "# .head()\n",
    "# .info()\n",
    "# .describe()\n",
    "# 위 기능 등을 확인해보세요 예를 들어..\n",
    "sales.head()"
   ]
  },
  {
   "cell_type": "code",
   "execution_count": 3,
   "metadata": {},
   "outputs": [
    {
     "data": {
      "text/plain": [
       "0        SiP\n",
       "1         범핑\n",
       "2         범핑\n",
       "3        WLP\n",
       "4        SiP\n",
       "        ... \n",
       "10319    WLP\n",
       "10320    SiP\n",
       "10321    SiP\n",
       "10322    SiP\n",
       "10323     범핑\n",
       "Name: product, Length: 10324, dtype: object"
      ]
     },
     "execution_count": 3,
     "metadata": {},
     "output_type": "execute_result"
    }
   ],
   "source": [
    "# 1.8 열 선택\n",
    "sales[\"product\"]"
   ]
  },
  {
   "cell_type": "markdown",
   "metadata": {},
   "source": [
    "참고: 비교 연산자(comparison)\n",
    "\n",
    "* `==` (같음)\n",
    "* `!=` (같지 않음)\n",
    "* `<` (적음)\n",
    "* `>` (큼)\n",
    "* `<=` (적거나 같음)\n",
    "* `>=` (크거나 같음)"
   ]
  },
  {
   "cell_type": "code",
   "execution_count": null,
   "metadata": {},
   "outputs": [],
   "source": [
    "# 1.9 필터\n",
    "# 하나씩 시도해보세요\n",
    "# sales[sales[\"product\"] == \"범핑\"]\n",
    "# sales[sales[\"price\"] > 100]\n",
    "# sales[sales[\"price\"] > 100].reset_index(drop=True)"
   ]
  },
  {
   "cell_type": "code",
   "execution_count": null,
   "metadata": {},
   "outputs": [],
   "source": [
    "# [TASK] 1.10 필터\n",
    "# \"WLP\" 제품만 남기려면?\n",
    "sales[sales[\"product\"] == \"WLP\"]\n",
    "# $100k 이하 제품만 남기려면?\n",
    "sales[sales[\"price\"] <= 100]\n",
    "# $100k 초과이면서 판매수량이 50 초과인 행만 남기려면? 양식: 데이터[(조건문1) & (조건문2)]\n",
    "sales[(sales[\"price\"] > 100) & (sales[\"quantity\"] > 50)]"
   ]
  },
  {
   "cell_type": "code",
   "execution_count": null,
   "metadata": {},
   "outputs": [],
   "source": [
    "# 1.11 [TASK] 새로운 열 총 매출(revenue) 만들기\n",
    "sales[\"revenue\"] = sales[\"price\"] * sales[\"quantity\"]\n",
    "sales"
   ]
  },
  {
   "cell_type": "code",
   "execution_count": null,
   "metadata": {},
   "outputs": [],
   "source": [
    "# 1.12 데이터 요약하기\n",
    "sales[\"quantity\"].sum()"
   ]
  },
  {
   "cell_type": "code",
   "execution_count": null,
   "metadata": {},
   "outputs": [],
   "source": [
    "# 1.13 그룹별로 요약하기\n",
    "sales.groupby(\"customer\")[\"quantity\"].sum()"
   ]
  },
  {
   "cell_type": "code",
   "execution_count": null,
   "metadata": {},
   "outputs": [],
   "source": [
    "# 1.14 [TASK] product 별로 요약하기\n",
    "sales.groupby(\"product\")[\"quantity\"].sum()"
   ]
  },
  {
   "cell_type": "code",
   "execution_count": null,
   "metadata": {},
   "outputs": [],
   "source": [
    "# 1.15 여러 열을 이용해 요약하기\n",
    "sales.groupby([\"customer\", \"product\"])[\"quantity\"].sum()"
   ]
  },
  {
   "cell_type": "code",
   "execution_count": 6,
   "metadata": {},
   "outputs": [
    {
     "ename": "NameError",
     "evalue": "name 'x' is not defined",
     "output_type": "error",
     "traceback": [
      "\u001b[1;31m---------------------------------------------------------------------------\u001b[0m",
      "\u001b[1;31mNameError\u001b[0m                                 Traceback (most recent call last)",
      "Cell \u001b[1;32mIn[6], line 4\u001b[0m\n\u001b[0;32m      2\u001b[0m     \u001b[38;5;28;01mreturn\u001b[39;00m x \u001b[38;5;241m+\u001b[39m \u001b[38;5;241m1\u001b[39m\n\u001b[0;32m      3\u001b[0m plus_one(x \u001b[38;5;241m=\u001b[39m \u001b[38;5;241m1\u001b[39m)\n\u001b[1;32m----> 4\u001b[0m \u001b[38;5;28mprint\u001b[39m(x)\n",
      "\u001b[1;31mNameError\u001b[0m: name 'x' is not defined"
     ]
    }
   ],
   "source": [
    "def plus_one(x):\n",
    "    return x + 1\n",
    "plus_one(x = 1)\n",
    "print(x)"
   ]
  },
  {
   "cell_type": "code",
   "execution_count": null,
   "metadata": {},
   "outputs": [],
   "source": [
    "# 1.16 사용자 정의 함수\n",
    "def group_sum(x, columns):\n",
    "    summary = x.groupby(columns).sum(numeric_only=True)\n",
    "    return summary"
   ]
  },
  {
   "cell_type": "markdown",
   "metadata": {},
   "source": [
    "## `class` 사용하기 (객체 지향형 프로그래밍, Object Oriented Programing)\n",
    "\n",
    "왜 `head(data)`가 아니라 `data.head()`일까?"
   ]
  },
  {
   "cell_type": "code",
   "execution_count": null,
   "metadata": {},
   "outputs": [],
   "source": [
    "# 개체 지향형: function-oriented vs object-oriented\n",
    "import pandas as pd\n",
    "\n",
    "sales = pd.read_excel(\"sales.xlsx\")  # 함수(function)\n",
    "pd.to_excel(sales, \"sales.xlsx\")\n",
    "\n",
    "sales.to_excel(\"sales2.xlsx\")        # 메소드(method)\n",
    "sales.columns                        # 속성(attributes)"
   ]
  },
  {
   "cell_type": "code",
   "execution_count": 7,
   "metadata": {},
   "outputs": [],
   "source": [
    "# 클래스(class) 간단 체험\n",
    "class OvenFactory():\n",
    "    is_door_open = False\n",
    "    temperature = 100\n",
    "    \n",
    "    def open_door(self):\n",
    "        self.is_door_open = True\n",
    "    def close_door(self):\n",
    "        self.is_door_open = False\n",
    "        \n",
    "    def set_temperature(self, temperature):\n",
    "        self.temperature = temperature"
   ]
  },
  {
   "cell_type": "code",
   "execution_count": 8,
   "metadata": {},
   "outputs": [],
   "source": [
    "# 개체 생성\n",
    "new_oven = OvenFactory()"
   ]
  },
  {
   "cell_type": "code",
   "execution_count": 9,
   "metadata": {},
   "outputs": [
    {
     "data": {
      "text/plain": [
       "True"
      ]
     },
     "execution_count": 9,
     "metadata": {},
     "output_type": "execute_result"
    }
   ],
   "source": [
    "# 메소드 & 속성\n",
    "new_oven.open_door()\n",
    "new_oven.is_door_open"
   ]
  },
  {
   "cell_type": "code",
   "execution_count": 10,
   "metadata": {},
   "outputs": [
    {
     "data": {
      "text/plain": [
       "250"
      ]
     },
     "execution_count": 10,
     "metadata": {},
     "output_type": "execute_result"
    }
   ],
   "source": [
    "# 메소드 & 속성\n",
    "new_oven.set_temperature(temperature=250)\n",
    "new_oven.temperature"
   ]
  },
  {
   "cell_type": "code",
   "execution_count": null,
   "metadata": {},
   "outputs": [],
   "source": [
    "model.fit()"
   ]
  },
  {
   "cell_type": "code",
   "execution_count": null,
   "metadata": {},
   "outputs": [],
   "source": []
  },
  {
   "cell_type": "markdown",
   "metadata": {},
   "source": [
    "Q1. 제품을 나타내는 'Product' 클래스를 정의해보세요. 이 클래스는 다음 속성과 메서드를 포함해야 합니다:\n",
    " - 속성: name (제품명), quality_score (품질 점수, 0-100), production_cost (생산 비용)\n",
    " - 메소드:\n",
    "   - improve_quality(): 품질 관리를 통해 품질 점수를 5점 증가시키는 메서드 (단, 100점을 초과할 수 없음)\n",
    "   - reduce_cost(amount): 생산 비용을 줄이는 메서드\n",
    "   - get_info(): 현재 제품의 정보(제품명, 품질 점수, 생산 비용)를 반환하는 메서드"
   ]
  },
  {
   "cell_type": "code",
   "execution_count": 14,
   "metadata": {},
   "outputs": [],
   "source": [
    "# 여기에 Q1 내용을 작성하세요\n",
    "class Product:\n",
    "    name = \"스마트폰\"\n",
    "    quality_score = 50\n",
    "    production_cost = 100\n",
    "\n",
    "    def improve_quality(self):\n",
    "        if (self.quality_score + 5) > 100:\n",
    "            print(\"100점을 넘어갈 수 없습니다\")\n",
    "        else:\n",
    "            self.quality_score = self.quality_score + 5    \n",
    "    def reduce_cost(self, amount):\n",
    "        if (self.production_cost - amount) < 0:\n",
    "            print(\"0점 아래로 갈 수 없습니다\")\n",
    "        else:\n",
    "            self.production_cost = self.production_cost - amount    \n",
    "    def get_info(self):\n",
    "        return f\"제품명: {self.name}, 품질 점수: {self.quality_score}, 생산 비용: {self.production_cost}\"\n"
   ]
  },
  {
   "cell_type": "markdown",
   "metadata": {},
   "source": [
    "Q2. 'Product' 클래스를 사용하여 새로운 제품 객체를 생성하세요. 이 객체로 다음 작업을 수행해보세요:\n",
    "- 제품 정보 출력\n",
    "- 품질 개선 작업 2회 실행\n",
    "- 생산 비용 10% 절감\n",
    "- 변경된 제품 정보 다시 출력"
   ]
  },
  {
   "cell_type": "code",
   "execution_count": 15,
   "metadata": {},
   "outputs": [],
   "source": [
    "new_product = Product()"
   ]
  },
  {
   "cell_type": "code",
   "execution_count": 16,
   "metadata": {},
   "outputs": [
    {
     "name": "stdout",
     "output_type": "stream",
     "text": [
      "초기 제품 정보:\n",
      "제품명: 스마트폰, 품질 점수: 50, 생산 비용: 100\n",
      "\n",
      "변경된 제품 정보:\n",
      "제품명: 스마트폰, 품질 점수: 60, 생산 비용: 90.0\n"
     ]
    }
   ],
   "source": [
    "# 초기 제품 정보 출력\n",
    "print(\"초기 제품 정보:\")\n",
    "print(new_product.get_info())\n",
    "\n",
    "# 품질 개선 작업 2회 실행\n",
    "new_product.improve_quality()\n",
    "new_product.improve_quality()\n",
    "\n",
    "# 생산 비용 10% 절감\n",
    "cost_reduction = new_product.production_cost * 0.1\n",
    "new_product.reduce_cost(cost_reduction)\n",
    "\n",
    "# 변경된 제품 정보 다시 출력\n",
    "print(\"\\n변경된 제품 정보:\")\n",
    "print(new_product.get_info())"
   ]
  }
 ],
 "metadata": {
  "kernelspec": {
   "display_name": "Python 3",
   "language": "python",
   "name": "python3"
  },
  "language_info": {
   "codemirror_mode": {
    "name": "ipython",
    "version": 3
   },
   "file_extension": ".py",
   "mimetype": "text/x-python",
   "name": "python",
   "nbconvert_exporter": "python",
   "pygments_lexer": "ipython3",
   "version": "3.11.7"
  },
  "orig_nbformat": 4
 },
 "nbformat": 4,
 "nbformat_minor": 2
}
