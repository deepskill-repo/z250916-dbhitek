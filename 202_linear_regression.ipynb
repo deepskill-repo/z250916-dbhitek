{
  "cells": [
    {
      "cell_type": "markdown",
      "metadata": {
        "id": "wFMn_3rZhXmX"
      },
      "source": [
        "# Linear Regression"
      ]
    },
    {
      "cell_type": "markdown",
      "metadata": {
        "id": "LrLaybJFhXmY"
      },
      "source": [
        "### 🏡 Case Study : Predicting House Price\n",
        "\n",
        "- Kaggle의 주택 판매 가격 데이터를 통해 회귀 문제를 풀어보도록 하겠습니다.\n",
        "- 이번 노트에서 사용하는 변수는 다음과 같습니다.\n",
        "    - `SalePrice`: 우리가 예측해야 하는 타겟값으로 주택판매가격(달러) 입니다.\n",
        "    - `OverallQual`: 전반적인 퀄리티\n",
        "    - `GrLivArea`: 지상 생활면적(square feet)\n",
        "<br></br>\n",
        "\n",
        "데이터에 대한 더 구체적인 설명은 링크를 참고해주세요.\n",
        "[\"House Prices: Advanced Regression Techniques\"](https://www.kaggle.com/c/house-prices-advanced-regression-techniques/overview)"
      ]
    },
    {
      "cell_type": "code",
      "execution_count": null,
      "metadata": {
        "id": "SV404taLWulq"
      },
      "outputs": [],
      "source": [
        "import pandas as pd\n",
        "import warnings\n",
        "warnings.filterwarnings(action='ignore')\n",
        "\n",
        "# 주어진 url 주소를 이용해 house prices 데이터를 가져옵니다.\n",
        "df = pd.read_csv('https://ds-lecture-data.s3.ap-northeast-2.amazonaws.com/house-prices/house_prices_train.csv')\n",
        "df_t = pd.read_csv('https://ds-lecture-data.s3.ap-northeast-2.amazonaws.com/house-prices/house_prices_test.csv')"
      ]
    },
    {
      "cell_type": "code",
      "execution_count": null,
      "metadata": {
        "colab": {
          "base_uri": "https://localhost:8080/",
          "height": 317
        },
        "id": "eJDrgyKfhXmc",
        "outputId": "4cf72fcf-8136-47ea-deec-66c456afdef3"
      },
      "outputs": [],
      "source": [
        "# shape과 head()로 데이터를 살펴봅니다.\n",
        "print(df.shape)\n",
        "df.head()"
      ]
    },
    {
      "cell_type": "code",
      "execution_count": null,
      "metadata": {
        "colab": {
          "base_uri": "https://localhost:8080/",
          "height": 317
        },
        "id": "Z9uICURehXmd",
        "outputId": "ef08cf31-f081-4131-debe-73e9ab5baa1d"
      },
      "outputs": [],
      "source": [
        "print(df_t.shape)\n",
        "df_t.head()"
      ]
    },
    {
      "cell_type": "markdown",
      "metadata": {
        "id": "QmHdbv25vKdD"
      },
      "source": [
        "df_t의 컬럼이 df의 컬럼보다 하나 적습니다. 왜 그럴까요?"
      ]
    },
    {
      "cell_type": "code",
      "execution_count": null,
      "metadata": {
        "id": "_ozc4AuvhXmd"
      },
      "outputs": [],
      "source": [
        "## 여러 특성 중 'GrLivArea', 'OverallQual', 'SalePrice'를 사용합니다.\n",
        "\n",
        "df = df[['GrLivArea', 'OverallQual', 'SalePrice']]\n",
        "df_t = df_t[['GrLivArea', 'OverallQual']]"
      ]
    },
    {
      "cell_type": "markdown",
      "metadata": {
        "id": "5ezXj1joWulo"
      },
      "source": [
        "#### 지상생활면적(GrLivArea)을 통해 주택 판매 가격(SalesPrice)을 예측해보기로 합시다.  "
      ]
    },
    {
      "cell_type": "markdown",
      "metadata": {
        "id": "OW5AwD1YWdBw"
      },
      "source": [
        "##### 1. 기존 경험을 통해 예측\n",
        "- 마침 우리가 살고 있는 집의 크기가 1750sqft이고 주택 판매 가격이 124,000달러라고 해봅시다. 그렇다면 대충 집의 크기가 1700sqft 수준이라면 주택 판매 가격이 120,000달러 대일 것이라고 예측할 수 있을 것입니다.\n",
        "- 기존 경험을 통한 예측은 간단하지만 오류가 생길 수 있습니다."
      ]
    },
    {
      "cell_type": "code",
      "execution_count": null,
      "metadata": {
        "colab": {
          "base_uri": "https://localhost:8080/"
        },
        "id": "QwGt9uUcvKdE",
        "outputId": "ac740fc8-08f8-4809-8ca6-29d0a3c6743e"
      },
      "outputs": [],
      "source": [
        "con = (df['GrLivArea']>=1700) & (df['GrLivArea']< 1800)\n",
        "\n",
        "print('최저 주택 판매 가격:', df.loc[con, 'SalePrice'].min())\n",
        "print('최고 주택 판매 가격:', df.loc[con, 'SalePrice'].max())"
      ]
    },
    {
      "cell_type": "markdown",
      "metadata": {
        "id": "ZsMVBjQsvKdE"
      },
      "source": [
        "집의 크기가 1700에서 1800 사이인 주택 판매 가격을 확인해봤을 때 기존 경험과 달리 주택 가격의 범위가 굉장히 넓은 것을 알 수 있습니다."
      ]
    },
    {
      "cell_type": "markdown",
      "metadata": {
        "id": "CIK7pbEpWulp"
      },
      "source": [
        "##### 2. 통계 정보 활용\n",
        "- 통계 정보를 활용하여 집의 가격을 예측할 수 있습니다.\n",
        "- 집의 크기가 1700에서 1800 사이인 주택의 `SalePrice`의 통계 정보를 확인해 보겠습니다."
      ]
    },
    {
      "cell_type": "code",
      "execution_count": null,
      "metadata": {
        "colab": {
          "base_uri": "https://localhost:8080/"
        },
        "id": "q9Np6K5avKdF",
        "outputId": "af14e422-d2b7-4074-82ce-a6f6ee080220"
      },
      "outputs": [],
      "source": [
        "# pandas 포멧팅을 사용하면, 판다스 객체들의 결과에서 쉼표를 넣고 소수점 아래는 생략하도록 설정할 수 있습니다.\n",
        "# float 형식 소수점 1자리, 쉼표 포함\n",
        "pd.set_option('display.float_format', '{:,.1f}'.format)\n",
        "\n",
        "# 기본 세팅으로 돌아오기 위해서는 아래 코드를 실행하면 됩니다.\n",
        "# pd.set_option('display.float_format', None)\n",
        "\n",
        "con = (df['GrLivArea']>=1700) & (df['GrLivArea']< 1800)\n",
        "df.loc[con, 'SalePrice'].describe()"
      ]
    },
    {
      "cell_type": "markdown",
      "metadata": {
        "id": "NxP9FBVqvKdG"
      },
      "source": [
        "집의 크기가 1700에서 1800 사이인 주택의 SalePrice는 평균적으로 201,988.8 달러임을 알 수 있습니다.  \n",
        "전체 주택 판매 가격의 통계 정보도 확인해보겠습니다."
      ]
    },
    {
      "cell_type": "code",
      "execution_count": null,
      "metadata": {
        "colab": {
          "base_uri": "https://localhost:8080/"
        },
        "id": "9JgAuYMOvKdG",
        "outputId": "f6407abe-1895-45b9-e789-da59cb7d9fa8"
      },
      "outputs": [],
      "source": [
        "df['SalePrice'].describe()"
      ]
    },
    {
      "cell_type": "code",
      "execution_count": null,
      "metadata": {
        "colab": {
          "base_uri": "https://localhost:8080/",
          "height": 369
        },
        "id": "aYbtyY2BhXmg",
        "outputId": "d3822844-b7ed-4b2d-db0a-15cac36397e9"
      },
      "outputs": [],
      "source": [
        "import matplotlib.pyplot as plt\n",
        "import seaborn as sns\n",
        "\n",
        "## SalePrice의 확률밀도함수를 그려보겠습니다\n",
        "sns.displot(df['SalePrice'], kde=True)\n",
        "\n",
        "## 평균과, 중앙값으로 수직선을 그려보겠습니다.\n",
        "plt.axvline(df['SalePrice'].mean(), color='blue')\n",
        "plt.axvline(df['SalePrice'].median(), color='red');"
      ]
    },
    {
      "cell_type": "markdown",
      "metadata": {
        "id": "0gXgAYRVhXmg"
      },
      "source": [
        "- 통계적 방법으로 특정값을 예측하는 것은 일상적으로도 많이 사용되는 방법입니다.\n",
        "- 중간값이나 평균은 가장 간단하고 직관적인 방법으로 주택 판매 가격을 예측하기 위한 시작점으로 삼기에 좋습니다."
      ]
    },
    {
      "cell_type": "markdown",
      "metadata": {
        "id": "13VZy9VJvKdG"
      },
      "source": [
        "##### 3. 예측 모델 활용\n",
        "- 주택 판매 가격을 예측하기 위해 머신러닝 알고리즘을 활용하여 예측모델을 만드는 방법이 있습니다.\n",
        "- 회귀예측 알고리즘 중 가장 단순하고 대표적인 선형회귀에 대해 알아보겠습니다."
      ]
    },
    {
      "cell_type": "markdown",
      "metadata": {
        "id": "A205_gP2vKdG"
      },
      "source": [
        "**기준모델**\n",
        "- 예측 모델을 만들기에 앞서 가장 간단하면서도 직관적이며 최소한의 성능을 나타내는 `기준`이 되는 모델이 필요합니다.\n",
        "    - 앞으로 우리가 만들 예측 모델이 정말 의미있는 모델인지 판단하기 위해서는 하한선이 되는 기준이 있어야합니다.\n",
        "<br></br>\n",
        "\n",
        "- 기준모델은 설정하기 쉽고 적절한 결과를 제공할 수 있으며 예측 모델과 비교할 수 있는 기준이 되는 알고리즘이어야합니다.\n",
        "    - 간단하게는 통계값을 사용한 기준모델을 사용할 수 있습니다.\n",
        "        - 회귀문제: 타겟의 평균값 (평균 기준모델)\n",
        "        - 분류문제: 타겟의 최빈 클래스 (최빈값 기준모델)\n",
        "        - 시계열회귀문제: 이전 타임스탬프의 값\n",
        "    - 그 외 앞으로 배우게 될 간단한 예측 모델도 기준모델이 될 수 있습니다.\n",
        "        - 선형 회귀, 로지스틱 회귀 등\n",
        "<br></br>\n",
        "\n",
        "- 아래 그래프는 집의 크기와 주택 판매 가격의 관계를 나타낸 산점도입니다.\n",
        "- 이 그래프를 가장 잘 나타내는 하나의 직선을 단순선형회귀 모델이라고 부릅니다.\n"
      ]
    },
    {
      "cell_type": "code",
      "execution_count": null,
      "metadata": {
        "colab": {
          "base_uri": "https://localhost:8080/",
          "height": 388
        },
        "id": "H4lJ-gK6vKdG",
        "outputId": "70aa3989-f152-493a-e6f8-808c5f690fd1"
      },
      "outputs": [],
      "source": [
        "plt.figure(figsize=(8,6))\n",
        "sns.scatterplot(x=df['GrLivArea'], y = df['SalePrice'])\n",
        "plt.show()"
      ]
    },
    {
      "cell_type": "markdown",
      "metadata": {
        "id": "Rt7hPRPkvKdG"
      },
      "source": [
        "산점도 위에 기준모델을 그려보겠습니다."
      ]
    },
    {
      "cell_type": "code",
      "execution_count": null,
      "metadata": {
        "colab": {
          "base_uri": "https://localhost:8080/",
          "height": 388
        },
        "id": "OLGGTKQBvKdG",
        "outputId": "6bd1f468-2e31-4a5f-dc8d-c9760098da16"
      },
      "outputs": [],
      "source": [
        "# predict: 평균 기준모델\n",
        "plt.figure(figsize=(8,6))\n",
        "predict = df['SalePrice'].mean()\n",
        "sns.lineplot(x=df['GrLivArea'], y=predict, color='red')\n",
        "\n",
        "sns.scatterplot(x=df['GrLivArea'], y = df['SalePrice'])\n",
        "plt.show()"
      ]
    },
    {
      "cell_type": "markdown",
      "metadata": {
        "id": "4J9gjbNFvKdH"
      },
      "source": [
        "그래프 상으로 봤을 때 평균 기준모델은 그래프에 가장 잘 맞는 직선으로 보이지는 않습니다.  \n",
        "그렇다면 가장 잘 맞는 직선은 어떻게 찾을 수 있을까요?"
      ]
    },
    {
      "cell_type": "markdown",
      "metadata": {
        "id": "UFqztI8LvKdH"
      },
      "source": [
        "## 2.1 선형회귀모델\n",
        "\n",
        "- 산점도(scatterplot)에 가장 잘 맞는(best fit) 직선을 그려주면 그것이 회귀 예측 모델이 됩니다.\n",
        "- 가장 잘 맞는 회귀선을 어떻게 구할 수 있을까요?"
      ]
    },
    {
      "cell_type": "markdown",
      "metadata": {
        "id": "cjnUq3advKdH"
      },
      "source": [
        "단순하게 생각해봅시다.  \n",
        "- 모델의 예측값과 실제값의 차이가 0이라면 모델은 실제값을 정확하게 예측하는 최고의 모델일 것입니다.\n",
        "- `(실제값) - (모델의 예측값)`을 **잔차(residual)**라고 하며 잔차를 최소로 하는 선을 찾으면 됩니다.  \n",
        "    - 실제값 : $ y $\n",
        "    - 단순선형회귀모델(예측값) : ${\\hat y} = \\hat{\\alpha}x + \\hat{\\beta} $\n",
        "    - 잔차 : $ y - (\\hat{\\alpha}x + \\hat{\\beta}) $  \n",
        "    cf) 오차(error)는 모집단에서의 예측값과 실제값의 차이를 말합니다. 하지만 통상적으로는 같은 의미로 사용됩니다.\n",
        "    \n",
        "\n",
        "<br></br>\n",
        "\n",
        "최적의 선형회귀선은 잔차 제곱들의 합인 RSS(residual sum of squares)를 최소로 하는 직선입니다.\n",
        "\n",
        "$$ RSS = \\sum_{i=1}^{N} {\\hat{e_i}}^2 =  \\sum_{i=1}^{N} {(y_i - (\\hat{\\alpha}x_i + \\hat{\\beta}))}^2 $$\n",
        "\n",
        "RSS는 선형회귀모델의 **비용함수**입니다. 모델을 학습한다는 것은 이 비용함수를 최소로 하도록 하는 파라미터 $\\alpha$와 $\\beta$를 찾는 것입니다.  \n",
        "$\\alpha$, $\\beta$는 비용함수를 미분하여 나온 아래와 같은 식을 통해 구할 수 있습니다. 아래 식을 도출하는 과정은 참고문서를 참조해주세요.\n",
        "\n",
        "$ \\hat{\\alpha} = \\frac{S_{xy}}{S_{xx}} $  \n",
        "\n",
        "$ \\hat{\\beta} = \\bar{y} - \\hat{\\alpha}\\bar{x}$\n",
        "\n",
        "\n",
        "$ S_{xy}= {\\sum_{i=1}^{N}(x_i-\\bar{x})(y_i-\\bar{y})}$\n",
        "\n",
        "$ S_{xx} = {\\sum_{i=1}^{N}(x_i-\\bar{x})^2}$\n",
        "\n",
        "\n",
        "이런 식으로 잔차 제곱의 합을 최대한 작게, 즉 **최소**로 만들어 주는 방법을 **최소제곱법**, 영어로는 **Ordinary Least Square**, 줄여서 **OLS**라고 부릅니다.  \n",
        "\n",
        "<img src=https://imgur.com/4ETZhWe.png width=50%>  \n",
        "\n",
        "[Ordinary Least-Squares Regression](https://datajobs.com/data-science-repo/OLS-Regression-[GD-Hutcheson].pdf)\n",
        "<br></br>"
      ]
    },
    {
      "cell_type": "code",
      "execution_count": null,
      "metadata": {
        "colab": {
          "base_uri": "https://localhost:8080/",
          "height": 388
        },
        "id": "Nhb0q-liWul0",
        "outputId": "91f45e06-bc2c-4198-be53-798a509d0b56"
      },
      "outputs": [],
      "source": [
        "## Seaborn regplot으로 회귀선을 그릴 수 있습니다.\n",
        "plt.figure(figsize=(8,6))\n",
        "sns.regplot(x=df['GrLivArea'], y=df['SalePrice']);"
      ]
    },
    {
      "cell_type": "markdown",
      "metadata": {
        "id": "o5EF-gQqvKdH"
      },
      "source": [
        "선형회귀 직선은 독립변수(independent variable, x)가 변화함에 따라 종속변수(dependent variable, y)가 어떻게 변화하는지 두 변수 간의 관계를 요약해줍니다.\n",
        "\n",
        "- **종속변수는 반응(Response)변수, 레이블(Label), 타겟(Target)등으로 불립니다.**\n",
        "- **독립변수는 예측(Predictor)변수, 설명(Explanatory)변수, 특성(feature) 등으로 불립니다.**"
      ]
    },
    {
      "cell_type": "markdown",
      "metadata": {
        "id": "gcCoydrpWul3"
      },
      "source": [
        "---\n",
        "### scikit-learn을 사용해서 선형회귀모델을 만들어 보겠습니다.\n",
        "- scikit-learn은 머신러닝 모델을 만드는 데 가장 많이 사용하는 라이브러리로 이번 섹션에서 계속 활용됩니다."
      ]
    },
    {
      "cell_type": "markdown",
      "metadata": {
        "id": "r1e85ZhUWul5"
      },
      "source": [
        "- scikit-learn을 활용해 모델을 만들고 데이터를 분석하기 위해서는 다음과 같은 데이터 구조를 사용해야 합니다:\n",
        "\n",
        "    - 특성 데이터와 타겟 데이터를 나누어 줍니다.\n",
        "    - 특성 행렬은 주로 `X` 로 표현하고 보통 2-차원 행렬입니다(`[n_samples, n_features]`). 주로 NumPy 행렬이나 Pandas 데이터프레임으로 표현합니다.\n",
        "    - 타겟 배열은 주로 y로 표현하고 보통 1차원 형태(`n_samples`) 입니다. 주로 Numpy 배열이나 Pandas Series로 표현합니다.\n"
      ]
    },
    {
      "cell_type": "markdown",
      "metadata": {
        "id": "gRsl-6mP5Uci"
      },
      "source": [
        "- scikit-learn에는 수많은 머신러닝 모델이 구현되어 있는데 모두 유사한 프로세스를 통해서 사용할 수 있습니다.\n",
        "\n",
        "    - 우선 여러분께서 풀어야 하는 문제를 풀기에 적합한 모델을 선택하여 클래스를 찾아본 후 관련 속성이나 하이퍼파라미터를 확인해 봅니다.\n",
        "    - 문제에 따라서 약간 차이가 있겠지만 위에서 살펴본 것과 같이 데이터를 준비합니다.\n",
        "    - `fit()` 메소드를 사용하여 모델을 학습합니다.\n",
        "    - `predict()` 메소드를 사용하여 새로운 데이터를 예측합니다.\n",
        "\n",
        "이런 프로세스는 앞으로도 계속 연습할 것이기 때문에 잘 알아 두시기 바랍니다.\n",
        "- [Basics of the API](https://jakevdp.github.io/PythonDataScienceHandbook/05.02-introducing-scikit-learn.html#Basics-of-the-API)"
      ]
    },
    {
      "cell_type": "markdown",
      "metadata": {
        "id": "IX4f2I4EvKdH"
      },
      "source": [
        "### 단순선형회귀 (Simple Linear Regression)\n",
        "- 단순선형회귀는 하나의 독립변수로 종속변수를 설명하는 선형회귀입니다.\n",
        "- 아래와 같은 식으로 표현할 수 있습니다.\n",
        "\n",
        "  $ y = {\\alpha}x + \\beta $"
      ]
    },
    {
      "cell_type": "code",
      "execution_count": null,
      "metadata": {
        "colab": {
          "base_uri": "https://localhost:8080/"
        },
        "id": "2e2iVOrhvKdH",
        "outputId": "c8e70d1c-f8cb-48ea-d3c2-269a7f0229d3"
      },
      "outputs": [],
      "source": [
        "# scikit-learn에서 Linear Rergression을 가져옵니다.\n",
        "from sklearn.linear_model import LinearRegression\n",
        "\n",
        "# 특성과 타겟값을 변수에 저장하고 X 행렬과 y 벡터를 만듭니다.\n",
        "feature = ['GrLivArea']\n",
        "target = 'SalePrice'\n",
        "\n",
        "X = df[feature]\n",
        "y = df[target]\n",
        "\n",
        "print(X.shape)\n",
        "print(y.shape)\n",
        "\n"
      ]
    },
    {
      "cell_type": "code",
      "execution_count": null,
      "metadata": {
        "colab": {
          "base_uri": "https://localhost:8080/",
          "height": 75
        },
        "id": "DZFm1S3KvKdH",
        "outputId": "91b6b73d-716d-4ebe-9cf9-31dd18c0ab21"
      },
      "outputs": [],
      "source": [
        "# 모델을 학습합니다.\n",
        "simple_ols = LinearRegression()\n",
        "simple_ols.fit(X, y)"
      ]
    },
    {
      "cell_type": "markdown",
      "metadata": {
        "id": "3eU5veGIvKdI"
      },
      "source": [
        "새로운 데이터를 예측하는 방법은 두 가지가 있습니다.\n",
        "1. 보간(interpolate) : 모델이 학습한 데이터 구간 안에 있는 값을 예측하는 방법입니다.\n",
        "    - `GrLivArea` = 4000인 값을 예측하는 경우입니다.\n",
        "2. 외삽(extrapolate) : 모델이 학습한 데이터 구간 바깥에 있는 값을 예측하는 방법입니다.\n",
        "    - `GrLivArea` = 6000인 값을 예측하는 경우입니다.\n",
        "<br></br>\n",
        "\n",
        "> 외삽을 했을 때의 문제점은 무엇이 있을까요?"
      ]
    },
    {
      "cell_type": "code",
      "execution_count": null,
      "metadata": {
        "colab": {
          "base_uri": "https://localhost:8080/",
          "height": 238
        },
        "id": "JmOCeDWgvKdI",
        "outputId": "2e4733b8-da08-4b38-c2e8-1c57385e37d2"
      },
      "outputs": [],
      "source": [
        "# GrLivArea가 3500 이상인 데이터를 보겠습니다.\n",
        "df[df['GrLivArea'] >= 3500 ]"
      ]
    },
    {
      "cell_type": "code",
      "execution_count": null,
      "metadata": {
        "colab": {
          "base_uri": "https://localhost:8080/"
        },
        "id": "Inb_rNv1vKdI",
        "outputId": "e7a7f6e2-4420-4445-d1a0-536341139b99"
      },
      "outputs": [],
      "source": [
        "# 보간\n",
        "interpolate_x = [[4000]]\n",
        "interpolate_y = simple_ols.predict(interpolate_x)[0]\n",
        "\n",
        "# 외삽\n",
        "extrapolate_x = [[6000]]\n",
        "extrapolate_y = simple_ols.predict(extrapolate_x)[0]\n",
        "\n",
        "print(f'GrLivArea가 4000인 경우 예측값은 ${round(interpolate_y,2)}입니다.')\n",
        "print(f'GrLivArea가 6000인 경우 예측값은 ${round(extrapolate_y,2)}입니다.')"
      ]
    },
    {
      "cell_type": "code",
      "execution_count": null,
      "metadata": {
        "colab": {
          "base_uri": "https://localhost:8080/",
          "height": 388
        },
        "id": "GLKkLaKJvKdI",
        "outputId": "408a978b-449e-476f-fdef-0758907744b5"
      },
      "outputs": [],
      "source": [
        "plt.figure(figsize=(8,6))\n",
        "sns.scatterplot(x=df['GrLivArea'], y=df['SalePrice'], alpha=0.6)\n",
        "\n",
        "plt.scatter(interpolate_x, interpolate_y, color='red')\n",
        "plt.scatter(extrapolate_x, extrapolate_y, color='green')\n",
        "\n",
        "plt.text(4000, interpolate_y, 'interpolate value\\n of 4000')\n",
        "plt.text(6000, extrapolate_y, 'extrapolate value\\n of 6000')\n",
        "\n",
        "plt.show()"
      ]
    },
    {
      "cell_type": "markdown",
      "metadata": {
        "id": "ppaNMTBqvKdI"
      },
      "source": [
        "### 다중선형회귀(Multiple Linear Regression)\n",
        "- 다중선형회귀는 두 개 이상의 독립변수로 종속변수를 설명하는 선형회귀입니다.\n",
        "- 아래와 같은 식으로 표현할 수 있습니다.\n",
        "\n",
        "  $ y = {\\alpha_{1}}x_1 + {\\alpha_{2}}x_2 + ... + {\\alpha_{n}}x_n + \\beta $"
      ]
    },
    {
      "cell_type": "code",
      "execution_count": null,
      "metadata": {
        "colab": {
          "base_uri": "https://localhost:8080/"
        },
        "id": "llR0wNmTvKdI",
        "outputId": "3d668c44-d89c-4a14-df2a-07ce13f8334b"
      },
      "outputs": [],
      "source": [
        "# 2개의 특성을 이용하여 다중선형회귀를 만들어보겠습니다.\n",
        "features = ['GrLivArea', 'OverallQual']\n",
        "target = 'SalePrice'\n",
        "\n",
        "X = df[features]\n",
        "y = df[target]\n",
        "\n",
        "print(X.shape)\n",
        "print(y.shape)\n"
      ]
    },
    {
      "cell_type": "code",
      "execution_count": null,
      "metadata": {
        "colab": {
          "base_uri": "https://localhost:8080/",
          "height": 408
        },
        "id": "pJSZdi7ovKdI",
        "outputId": "4f484206-bda1-4852-b0f5-416b0c2cf726"
      },
      "outputs": [],
      "source": [
        "# 3차원 그래프\n",
        "import numpy as np\n",
        "\n",
        "fig = plt.figure(figsize=(6,6))\n",
        "# for 3d plot\n",
        "ax = fig.add_subplot(111, projection='3d')\n",
        "\n",
        "ax.scatter(df['GrLivArea'], df['OverallQual'], df['SalePrice'], alpha=0.6)\n",
        "ax.set_xlabel('GrLivArea', labelpad=12)\n",
        "ax.set_ylabel('OverallQual', labelpad=10)\n",
        "ax.set_zlabel('SalePrice', labelpad=20)\n",
        "plt.suptitle('Housing Prices', fontsize=15)\n",
        "plt.show()"
      ]
    },
    {
      "cell_type": "code",
      "execution_count": null,
      "metadata": {
        "colab": {
          "base_uri": "https://localhost:8080/",
          "height": 388
        },
        "id": "1UuV--AwvKdI",
        "outputId": "1c26cc14-b891-462e-b9b3-e49fd8f126e4"
      },
      "outputs": [],
      "source": [
        "# 변수가 3개인 그래프는 hue와 size를 이용해 2차원으로 나타낼 수 있습니다.\n",
        "plt.figure(figsize=(8,6))\n",
        "sns.scatterplot(x=df['GrLivArea'], y=df['SalePrice'], hue=df['OverallQual'], size=df['OverallQual'], alpha=0.6)\n",
        "plt.show()\n"
      ]
    },
    {
      "cell_type": "code",
      "execution_count": null,
      "metadata": {
        "colab": {
          "base_uri": "https://localhost:8080/",
          "height": 75
        },
        "id": "ashs3eykvKdI",
        "outputId": "4f4971aa-7117-48ac-e9ef-399c91721df8"
      },
      "outputs": [],
      "source": [
        "# 모델을 학습합니다.\n",
        "multiple_ols = LinearRegression()\n",
        "multiple_ols.fit(X, y)"
      ]
    },
    {
      "cell_type": "code",
      "execution_count": null,
      "metadata": {
        "colab": {
          "base_uri": "https://localhost:8080/"
        },
        "id": "XbD1hsGivKdI",
        "outputId": "f766db8f-693c-4da7-8a65-bd8563121423"
      },
      "outputs": [],
      "source": [
        "# 보간\n",
        "interpolate_x_m = [[4000, 5]]\n",
        "interpolate_y_m = multiple_ols.predict(interpolate_x_m)[0]\n",
        "\n",
        "# 외삽\n",
        "extrapolate_x_m = [[6000, 10]]\n",
        "extrapolate_y_m = multiple_ols.predict(extrapolate_x_m)[0]\n",
        "\n",
        "print(f'GrLivArea가 4000이고 OverallQual이 5 경우 예측값은 ${round(interpolate_y_m,2)}입니다.')\n",
        "print(f'GrLivArea가 6000이고 OverallQual이 10 경우 예측값은 ${round(extrapolate_y_m,2)}입니다.')"
      ]
    },
    {
      "cell_type": "code",
      "execution_count": null,
      "metadata": {
        "colab": {
          "base_uri": "https://localhost:8080/",
          "height": 388
        },
        "id": "4ezPSbncvKdJ",
        "outputId": "c5605fa1-79d8-4880-e76a-f4dc08a75379"
      },
      "outputs": [],
      "source": [
        "plt.figure(figsize=(8,6))\n",
        "sns.scatterplot(x=df['GrLivArea'], y=df['SalePrice'], hue=df['OverallQual'], size=df['OverallQual'], alpha=0.6)\n",
        "sns.scatterplot(x = [4000, 6000], y=[interpolate_y_m, extrapolate_y_m], color='red')\n",
        "\n",
        "\n",
        "plt.text(4000, interpolate_y_m, 'interpolate value\\n of 4000 & 5')\n",
        "plt.text(6000, extrapolate_y_m, 'extrapolate value\\n of 6000 & 10')\n",
        "\n",
        "plt.show()"
      ]
    },
    {
      "cell_type": "markdown",
      "metadata": {
        "id": "F9yU0-NfvKdJ"
      },
      "source": [
        "### 다항선형회귀(Polynomial Linear Reregrssion)\n",
        "- 다항선형회귀는 2차항 이상의 독립변수로 종속변수를 설명하는 선형회귀입니다.\n",
        "- 독립변수가 2개인 다항선형회귀는 아래와 같은 식으로 나타낼 수 있습니다.(degree=2)\n",
        "\n",
        "  $ y = {\\alpha_{1}}x_1 + {\\alpha_{2}}x_2 + {\\alpha_{1}}x_1^2 + {\\alpha_{2}}x_2^2 + {\\alpha_{1}}{x_1}{x_2} + \\beta $\n",
        "<br></br>\n",
        "\n",
        "> 다항선형회귀도 역시 선형회귀입니다. 왜일까요? 선형회귀에서 말하는 `선형성`이란 무엇일까요?"
      ]
    },
    {
      "cell_type": "code",
      "execution_count": null,
      "metadata": {
        "colab": {
          "base_uri": "https://localhost:8080/",
          "height": 126
        },
        "id": "1fzGx59NvKdJ",
        "outputId": "754470af-8fa2-43cb-ae0f-911ce5ce30be"
      },
      "outputs": [],
      "source": [
        "from sklearn.pipeline import make_pipeline\n",
        "from sklearn.preprocessing import PolynomialFeatures\n",
        "\n",
        "# PolynomialFeatures를 사용하면 다항회귀를 만들 수 있습니다.\n",
        "\n",
        "def PolynomialRegression(degree=2, **kwargs):\n",
        "    return make_pipeline(PolynomialFeatures(degree),\n",
        "                         LinearRegression(**kwargs))\n",
        "\n",
        "\n",
        "features = ['GrLivArea', 'OverallQual']\n",
        "target = 'SalePrice'\n",
        "\n",
        "X = df[features]\n",
        "y = df[target]\n",
        "\n",
        "# 2차항의 다항선형회귀를 만들어보겠습니다.\n",
        "\n",
        "poly_ols = PolynomialRegression(degree=2)\n",
        "poly_ols.fit(X, y)"
      ]
    },
    {
      "cell_type": "code",
      "execution_count": null,
      "metadata": {
        "colab": {
          "base_uri": "https://localhost:8080/"
        },
        "id": "sgnDaXS7vKdJ",
        "outputId": "53777291-c6e2-4bdc-e55c-c590b02d45c8"
      },
      "outputs": [],
      "source": [
        "# 보간\n",
        "interpolate_x_p = [[4000, 5]]\n",
        "interpolate_y_p = poly_ols.predict(interpolate_x_p)[0]\n",
        "\n",
        "# 외삽\n",
        "extrapolate_x_p = [[6000, 10]]\n",
        "extrapolate_y_p = poly_ols.predict(extrapolate_x_p)[0]\n",
        "\n",
        "print(f'GrLivArea가 4000이고 OverallQual이 5 경우 예측값은 ${round(interpolate_y_p,2)}입니다.')\n",
        "print(f'GrLivArea가 6000이고 OverallQual이 10 경우 예측값은 ${round(extrapolate_y_p,2)}입니다.')"
      ]
    },
    {
      "cell_type": "code",
      "execution_count": null,
      "metadata": {
        "colab": {
          "base_uri": "https://localhost:8080/",
          "height": 388
        },
        "id": "EZaTkmU3vKdJ",
        "outputId": "9d46d3d2-e929-44da-8201-88aad78fb18a"
      },
      "outputs": [],
      "source": [
        "plt.figure(figsize=(8,6))\n",
        "sns.scatterplot(x=df['GrLivArea'], y=df['SalePrice'], hue=df['OverallQual'], size=df['OverallQual'], alpha=0.6)\n",
        "sns.scatterplot(x = [4000, 6000], y=[interpolate_y_p, extrapolate_y_p], color='red')\n",
        "\n",
        "\n",
        "plt.text(4000, interpolate_y_p, 'interpolate value\\n of 4000 & 5')\n",
        "plt.text(6000, extrapolate_y_p, 'extrapolate value\\n of 6000 & 10')\n",
        "\n",
        "plt.show()"
      ]
    },
    {
      "cell_type": "markdown",
      "metadata": {
        "id": "gr_JDa5LvKdJ"
      },
      "source": [
        "## 2.2 회귀 평가지표\n",
        "- 위에서 기준모델까지 포함하여 총 4가지 회귀모델을 만들어보았습니다.\n",
        "- 어떤 모델이 가장 예측을 잘 하는 모델일까요?"
      ]
    },
    {
      "cell_type": "code",
      "execution_count": null,
      "metadata": {
        "colab": {
          "base_uri": "https://localhost:8080/",
          "height": 112
        },
        "id": "a7lmaS-mvKdJ",
        "outputId": "e758e1a5-3abb-4e9d-d377-9a2e1f30941d"
      },
      "outputs": [],
      "source": [
        "comparison = pd.DataFrame(index=[4000, 6000], columns=['Base','Simple', 'Multiple', 'Polynomial'])\n",
        "comparison['Base'] = [predict, predict]\n",
        "comparison['Simple'] = [interpolate_y, extrapolate_y]\n",
        "comparison['Multiple'] = [interpolate_y_m, extrapolate_y_m]\n",
        "comparison['Polynomial'] = [interpolate_y_p, extrapolate_y_p]\n",
        "comparison"
      ]
    },
    {
      "cell_type": "markdown",
      "metadata": {
        "id": "F1kbGoAMvKdJ"
      },
      "source": [
        "예측값을 표로 비교해봤을 때는 어떤 모델이 가장 좋은 모델인지 알 수 없습니다.  \n",
        "모델의 성능을 평가하고 비교할 때는 평가지표를 활용할 수 있습니다.\n",
        "<br></br>\n",
        "\n",
        "대표적인 회귀 평가지표는 다음과 같습니다.\n",
        "* `MSE (Mean Squared Error)` = $\\frac{1}{n}\\sum_{i=1}^{n}(y_{i} - \\hat{y_{i}})^{2}$\n",
        "    - MSE는 제곱오차의 평균입니다.\n",
        "    - MSE는 미분이 가능하여 비용 함수로 가장 흔하게 사용됩니다.\n",
        "    - 하지만 제곱을 취하여 이상치에 민감합니다.\n",
        "<br></br>\n",
        "\n",
        "* `RMSE (Root Mean Squared Error)` = $\\sqrt{MSE}$\n",
        "    - RMSE는 MSE에 루트를 씌워 상대적으로 덜 민감하게 됩니다.\n",
        "    - 값의 크기가 실제값과 비슷해지기 때문에 MSE에 비해 이해하기 쉽습니다.\n",
        "<br></br>\n",
        "\n",
        "* `MAE (Mean absolute error)` = $\\frac{1}{n}\\sum_{i=1}^{n}\\left | y_{i} - \\hat{y_{i}} \\right |$\n",
        "    - MAE는 절대오차의 평균으로 직관적으로 이해하기 쉽습니다.\n",
        "    - 오차의 절대값이기 때문에 이상치에 민감하지 않습니다.\n",
        "<br></br>\n",
        "\n",
        "* `R-squared (Coefficient of determination)` = $1 - \\frac{\\sum_{i=1}^{n}(y_{i} - \\hat{y_{i}})^{2}}{\\sum_{i=1}^{n}(y_{i} - \\bar{y_{i}})^{2}} = 1 - \\frac{SSE}{SST} = \\frac {SSR}{SST}$\n",
        "    - $R^2$ (결정계수)는 모델의 설명력을 나타냅니다.\n",
        "    - 값이 1에 가까울수록 설명력이 높으며 0에 가까울수록 설명력이 낮습니다.\n",
        "<br></br>\n",
        "\n",
        "- 참고\n",
        "    - SSE(Sum of Squares `Error`, 관측치와 예측치 차이): $\\sum_{i=1}^{n}(y_{i} - \\hat{y_{i}})^{2}$\n",
        "    - SSR(Sum of Squares due to `Regression`, 예측치와 평균 차이): $\\sum_{i=1}^{n}(\\hat{y_{i}} - \\bar{y_{i}})^{2}$\n",
        "    - SST(Sum of Squares `Total`, 관측치와 평균 차이): $\\sum_{i=1}^{n}(y_{i} - \\bar{y_{i}})^{2}$ , SSE + SSR\n",
        "<br></br>\n",
        "\n",
        "> **언제 어떤 평가지표를 활용하는 것이 좋을까요?**\n",
        "\n",
        "❗️ 회귀 평가지표와 분류 평가지표는 다릅니다. 어떤 문제를 풀고 있는지에 따라 정확한 평가지표를 사용해야합니다!"
      ]
    },
    {
      "cell_type": "code",
      "execution_count": null,
      "metadata": {
        "id": "Qc6TYnZDvKdJ"
      },
      "outputs": [],
      "source": [
        "# scikit-learn을 통해 손쉽게 평가지표를 사용할 수 있습니다.\n",
        "# 4가지 모델의 성능을 평가해보겠습니다.\n",
        "\n",
        "from sklearn.metrics import r2_score, mean_absolute_error, mean_squared_error"
      ]
    },
    {
      "cell_type": "code",
      "execution_count": null,
      "metadata": {
        "id": "dsAsN52evKdJ"
      },
      "outputs": [],
      "source": [
        "# 실제값\n",
        "y_real = df['SalePrice']\n",
        "\n",
        "# 기준 모델\n",
        "y_base = [predict]*len(df)\n",
        "\n",
        "# 단순선형회귀\n",
        "feature = ['GrLivArea']\n",
        "X_simple = df[feature]\n",
        "y_simple = simple_ols.predict(X_simple)\n",
        "\n",
        "# 다중선형회귀\n",
        "features = ['GrLivArea', 'OverallQual']\n",
        "X_multiple = df[features]\n",
        "y_multiple = multiple_ols.predict(X_multiple)\n",
        "\n",
        "# 다항선형회귀\n",
        "y_poly = poly_ols.predict(X_multiple)"
      ]
    },
    {
      "cell_type": "code",
      "execution_count": null,
      "metadata": {
        "id": "h8X9bMc-vKdK"
      },
      "outputs": [],
      "source": [
        "# mse, rmse, mae, r2를 출력하는 함수입니다.\n",
        "\n",
        "def eval_models(y_pred, y_real=y_real) :\n",
        "    mse = mean_squared_error(y_real, y_pred)\n",
        "    rmse = np.sqrt(mse)\n",
        "    mae = mean_absolute_error(y_real, y_pred)\n",
        "    r2 = r2_score(y_real, y_pred)\n",
        "\n",
        "    return mse, rmse, mae, r2"
      ]
    },
    {
      "cell_type": "code",
      "execution_count": null,
      "metadata": {
        "id": "c4SPJSuvvKdK"
      },
      "outputs": [],
      "source": [
        "base_mse, base_rmse, base_mae, base_r2 = eval_models(y_base)\n",
        "simple_mse, simple_rmse, simple_mae, simple_r2 = eval_models(y_simple)\n",
        "multiple_mse, multiple_rmse, multiple_mae, multiple_r2 = eval_models(y_multiple)\n",
        "poly_mse, poly_rmse, poly_mae, poly_r2 = eval_models(y_poly)"
      ]
    },
    {
      "cell_type": "code",
      "execution_count": null,
      "metadata": {
        "colab": {
          "base_uri": "https://localhost:8080/",
          "height": 175
        },
        "id": "DLuaDw5lvKdK",
        "outputId": "0b7020f7-0de8-4225-b909-abcdf4985200"
      },
      "outputs": [],
      "source": [
        "comparison_metrics = pd.DataFrame(index=['mse', 'rmse', 'mae', 'r2'], columns=['Base','Simple', 'Multiple', 'Polynomial'])\n",
        "comparison_metrics['Base'] = [base_mse, base_rmse, base_mae, base_r2 ]\n",
        "comparison_metrics['Simple'] = [simple_mse, simple_rmse, simple_mae, simple_r2]\n",
        "comparison_metrics['Multiple'] = [multiple_mse, multiple_rmse, multiple_mae, multiple_r2]\n",
        "comparison_metrics['Polynomial'] = [poly_mse, poly_rmse, poly_mae, poly_r2]\n",
        "comparison_metrics"
      ]
    },
    {
      "cell_type": "markdown",
      "metadata": {
        "id": "6wm2Nu5FvKdK"
      },
      "source": [
        "평가지표로 4가지 모델을 비교해본 결과\n",
        "- 기준모델(Base)의 에러가 가장 크며 결정계수가 0인 것을 봤을 때 전혀 학습이 되지 않은 모델이라고 할 수 있습니다.\n",
        "- 다항회귀모델(2차항)은 다른 모델에 비해 에러가 가장 작고 결정계수가 0.8로 가장 크므로 가장 좋은 모델이라고 할 수 있습니다.\n",
        "- 다중선형회귀모델은 다항선형회귀모델에 비해서는 에러가 조금 나지만 단순선형회귀모델과 비교했을 때는 많이 개선된 모델이라고 할 수 있습니다.\n",
        "<br></br>\n",
        "\n",
        "이처럼 평가지표를 사용해 모델을 비교하고 개선할 수 있습니다."
      ]
    },
    {
      "cell_type": "markdown",
      "metadata": {
        "id": "-26MCaeBWumM"
      },
      "source": [
        "## 2.3 선형회귀모델의 계수(Coefficients)"
      ]
    },
    {
      "cell_type": "markdown",
      "metadata": {
        "id": "7QpkRN0PWumP"
      },
      "source": [
        "- 선형회귀모델의 가장 큰 장점은 직관적으로 모델을 해석할 수 있다는 것입니다.\n",
        "- 위에서 만든 모델은 독립변수와 종속변수(주택 판매 가격) 사이에 어떤 규칙을 학습했을까요?\n",
        "- 이 질문에 대한 답을 하기 위해 `LinearRegression` 객체의 `coef_`, `intercept_` 속성을 확인해 보겠습니다.\n",
        "    - [sckit-learn.LinearRegression](https://scikit-learn.org/stable/modules/generated/sklearn.linear_model.LinearRegression.html)\n"
      ]
    },
    {
      "cell_type": "code",
      "execution_count": null,
      "metadata": {
        "colab": {
          "base_uri": "https://localhost:8080/"
        },
        "id": "DLvncqJ0WumQ",
        "outputId": "d77a158f-ca86-4f09-e701-11d6d95bc2a8"
      },
      "outputs": [],
      "source": [
        "# 다중선형회귀를 예시로 들어보겠습니다.\n",
        "# 회귀계수\n",
        "print('coefficient : ', multiple_ols.coef_)\n",
        "\n",
        "## 절편(intercept)\n",
        "print('Intercept : ', multiple_ols.intercept_)"
      ]
    },
    {
      "cell_type": "code",
      "execution_count": null,
      "metadata": {
        "colab": {
          "base_uri": "https://localhost:8080/"
        },
        "id": "wi6B91jVhXml",
        "outputId": "008eee05-179a-4d29-b11b-993e4a40e911"
      },
      "outputs": [],
      "source": [
        "# 위의 결과를 활용해 다중선형회귀식을 구할 수 있습니다.\n",
        "print(f'다중선형회귀식 : y = GrLivArea * {multiple_ols.coef_[0]:.3f} + OverallQual * {multiple_ols.coef_[1]:.3f} {multiple_ols.intercept_:.3f}')"
      ]
    },
    {
      "cell_type": "markdown",
      "metadata": {
        "id": "uLDwsglXvKdK"
      },
      "source": [
        "회귀계수는 어떻게 해석해야할까요?\n",
        "- GrLivArea가 1sqft 증가할 때마다 주택 판매 가격은 약 55.86 달러 증가합니다.\n",
        "- OverallQual이 1단계 증가할 때마다 주택 판매 가격은 약 32849.04 달러 증가합니다.\n",
        "- 절편은 해석하지 않습니다.\n",
        "<br></br>\n",
        "\n",
        "> OverallQual의 회귀계수가 GrLivArea보다 현저히 큽니다. 이 경우 OverallQual의 영향력이 GrLivArea보다 크다고 말할 수 있을까요?"
      ]
    },
    {
      "cell_type": "markdown",
      "metadata": {
        "id": "mT5jM1M3WumW"
      },
      "source": [
        "#### 단순선형회귀모델로 예측함수를 만들어 새로운 데이터를 반복해서 예측하고 coefficient의 영향을 설명해 봅시다:"
      ]
    },
    {
      "cell_type": "code",
      "execution_count": null,
      "metadata": {
        "id": "b2CEqLuxWumW"
      },
      "outputs": [],
      "source": [
        "def explain_prediction(sqft):\n",
        "    y_pred =simple_ols.predict([[sqft]])\n",
        "    pred = f\"{int(sqft)} sqft 주택 가격 예측: ${int(y_pred[0])} (1 sqft당 추가금: ${int(simple_ols.coef_[0])})\"\n",
        "\n",
        "    return pred"
      ]
    },
    {
      "cell_type": "code",
      "execution_count": null,
      "metadata": {
        "colab": {
          "base_uri": "https://localhost:8080/"
        },
        "id": "YFUjoc0MhXml",
        "outputId": "a9a51e69-e9f7-47c2-8383-cb51d08459ea"
      },
      "outputs": [],
      "source": [
        "## square_feet = 4000 인 테스트 데이터로 예측\n",
        "print(explain_prediction(4000))"
      ]
    },
    {
      "cell_type": "markdown",
      "metadata": {
        "id": "__3Rq01KhXml"
      },
      "source": [
        "#### ipywidgets를 사용해서 sqft를 바꾸어 가며 예측해 보겠습니다."
      ]
    },
    {
      "cell_type": "code",
      "execution_count": null,
      "metadata": {
        "colab": {
          "base_uri": "https://localhost:8080/",
          "height": 68,
          "referenced_widgets": [
            "3d2a7ba8bf6a4a408e49365695b6e36c",
            "5dd5c66467c44b6393fc8c7950edf64a",
            "bf026c389f3c463d8b04809e279ab35e",
            "22825d2e9ecd4c7ebc5d403b955ea317",
            "f53ac37c50dd464783f6c40529026ac2",
            "bfb27080a4654360acc9ea7d6f0ab539",
            "ee607c49e9374539b6c957f961ce78a0"
          ]
        },
        "id": "TM0Om2_NhXml",
        "outputId": "2fc9fcfd-e08c-40f0-afbd-cfd195800217"
      },
      "outputs": [],
      "source": [
        "from ipywidgets import interact\n",
        "\n",
        "# 데코레이터 interact를 추가합니다.\n",
        "@interact\n",
        "def explain_prediction(sqft=(500,10000)):\n",
        "    y_pred = simple_ols.predict([[sqft]])\n",
        "    pred = f\"{int(sqft)} sqft 주택 가격 예측: ${int(y_pred[0])} (1 sqft당 추가금: ${int(simple_ols.coef_[0])})\"\n",
        "\n",
        "    return pred"
      ]
    },
    {
      "cell_type": "markdown",
      "metadata": {
        "id": "Vz8oqh_8Wumw"
      },
      "source": [
        "## 참고자료\n",
        "\n",
        "#### 머신러닝\n",
        "\n",
        "- [Introduction to Machine Learning](https://developers.google.com/machine-learning/intro-to-ml/what-is-ml)\n",
        "- [Deep Learning with Python](https://livebook.manning.com/book/deep-learning-with-python/chapter-1/16)\n",
        "\n",
        "#### 지도학습 vs 비지도학습\n",
        "- [Supervised vs. Unsupervised Machine Learning: What's the Difference?](https://youtu.be/rHeaoaiBM6Y)\n",
        "\n",
        "#### Scikit-Learn\n",
        "- [Python Data Science Handbook, Chapter 5.2: Introducing Scikit-Learn](https://jakevdp.github.io/PythonDataScienceHandbook/05.02-introducing-scikit-learn.html#Basics-of-the-API)\n",
        "- [2.4.2.2. Supervised Learning](https://ogrisel.github.io/scikit-learn.org/sklearn-tutorial/tutorial/text_analytics/general_concepts.html#supervised-learning-model-fit-x-y)\n",
        "- [sklearn.linear_model.LinearRegression](https://scikit-learn.org/stable/modules/generated/sklearn.linear_model.LinearRegression.html)\n",
        "- [sklearn.metrics.mean_absolute_error](https://scikit-learn.org/stable/modules/generated/sklearn.metrics.mean_absolute_error.html)\n",
        "\n",
        "\n",
        "#### 최소제곱법\n",
        "- [Ordinary Least-Squares Regression](https://datajobs.com/data-science-repo/OLS-Regression-[GD-Hutcheson].pdf)\n",
        "- [수학산책-최소제곱법](https://terms.naver.com/entry.nhn?cid=58944&docId=3569970&categoryId=58970)\n",
        "\n",
        "#### (참고) 더 세련된 시각화툴: Plotly\n",
        "- [Plotly Express](https://plot.ly/python/plotly-express/)\n",
        "- [plotly_express.scatter](https://www.plotly.express/plotly_express/#plotly_express.scatter)\n",
        "\n",
        "#### ipywidgets interact\n",
        "- [Using Interact](https://ipywidgets.readthedocs.io/en/stable/examples/Using%20Interact.html#Using-Interact)"
      ]
    }
  ],
  "metadata": {
    "colab": {
      "provenance": [],
      "toc_visible": true
    },
    "interpreter": {
      "hash": "31f2aee4e71d21fbe5cf8b01ff0e069b9275f58929596ceb00d14d90e3e16cd6"
    },
    "jupytext": {
      "main_language": "python"
    },
    "kernelspec": {
      "display_name": "codestates_ds",
      "language": "python",
      "name": "python3"
    },
    "language_info": {
      "codemirror_mode": {
        "name": "ipython",
        "version": 3
      },
      "file_extension": ".py",
      "mimetype": "text/x-python",
      "name": "python",
      "nbconvert_exporter": "python",
      "pygments_lexer": "ipython3",
      "version": "3.11.7"
    },
    "toc-autonumbering": false,
    "toc-showcode": false,
    "toc-showmarkdowntxt": false,
    "toc-showtags": false,
    "widgets": {
      "application/vnd.jupyter.widget-state+json": {
        "22825d2e9ecd4c7ebc5d403b955ea317": {
          "model_module": "@jupyter-widgets/base",
          "model_module_version": "1.2.0",
          "model_name": "LayoutModel",
          "state": {
            "_model_module": "@jupyter-widgets/base",
            "_model_module_version": "1.2.0",
            "_model_name": "LayoutModel",
            "_view_count": null,
            "_view_module": "@jupyter-widgets/base",
            "_view_module_version": "1.2.0",
            "_view_name": "LayoutView",
            "align_content": null,
            "align_items": null,
            "align_self": null,
            "border": null,
            "bottom": null,
            "display": null,
            "flex": null,
            "flex_flow": null,
            "grid_area": null,
            "grid_auto_columns": null,
            "grid_auto_flow": null,
            "grid_auto_rows": null,
            "grid_column": null,
            "grid_gap": null,
            "grid_row": null,
            "grid_template_areas": null,
            "grid_template_columns": null,
            "grid_template_rows": null,
            "height": null,
            "justify_content": null,
            "justify_items": null,
            "left": null,
            "margin": null,
            "max_height": null,
            "max_width": null,
            "min_height": null,
            "min_width": null,
            "object_fit": null,
            "object_position": null,
            "order": null,
            "overflow": null,
            "overflow_x": null,
            "overflow_y": null,
            "padding": null,
            "right": null,
            "top": null,
            "visibility": null,
            "width": null
          }
        },
        "3d2a7ba8bf6a4a408e49365695b6e36c": {
          "model_module": "@jupyter-widgets/controls",
          "model_module_version": "1.5.0",
          "model_name": "VBoxModel",
          "state": {
            "_dom_classes": [
              "widget-interact"
            ],
            "_model_module": "@jupyter-widgets/controls",
            "_model_module_version": "1.5.0",
            "_model_name": "VBoxModel",
            "_view_count": null,
            "_view_module": "@jupyter-widgets/controls",
            "_view_module_version": "1.5.0",
            "_view_name": "VBoxView",
            "box_style": "",
            "children": [
              "IPY_MODEL_5dd5c66467c44b6393fc8c7950edf64a",
              "IPY_MODEL_bf026c389f3c463d8b04809e279ab35e"
            ],
            "layout": "IPY_MODEL_22825d2e9ecd4c7ebc5d403b955ea317"
          }
        },
        "5dd5c66467c44b6393fc8c7950edf64a": {
          "model_module": "@jupyter-widgets/controls",
          "model_module_version": "1.5.0",
          "model_name": "IntSliderModel",
          "state": {
            "_dom_classes": [],
            "_model_module": "@jupyter-widgets/controls",
            "_model_module_version": "1.5.0",
            "_model_name": "IntSliderModel",
            "_view_count": null,
            "_view_module": "@jupyter-widgets/controls",
            "_view_module_version": "1.5.0",
            "_view_name": "IntSliderView",
            "continuous_update": true,
            "description": "sqft",
            "description_tooltip": null,
            "disabled": false,
            "layout": "IPY_MODEL_f53ac37c50dd464783f6c40529026ac2",
            "max": 10000,
            "min": 500,
            "orientation": "horizontal",
            "readout": true,
            "readout_format": "d",
            "step": 1,
            "style": "IPY_MODEL_bfb27080a4654360acc9ea7d6f0ab539",
            "value": 5250
          }
        },
        "bf026c389f3c463d8b04809e279ab35e": {
          "model_module": "@jupyter-widgets/output",
          "model_module_version": "1.0.0",
          "model_name": "OutputModel",
          "state": {
            "_dom_classes": [],
            "_model_module": "@jupyter-widgets/output",
            "_model_module_version": "1.0.0",
            "_model_name": "OutputModel",
            "_view_count": null,
            "_view_module": "@jupyter-widgets/output",
            "_view_module_version": "1.0.0",
            "_view_name": "OutputView",
            "layout": "IPY_MODEL_ee607c49e9374539b6c957f961ce78a0",
            "msg_id": "",
            "outputs": [
              {
                "data": {
                  "application/vnd.google.colaboratory.intrinsic+json": {
                    "type": "string"
                  },
                  "text/plain": "'5250 sqft 주택 가격 예측: $581003 (1 sqft당 추가금: $107)'"
                },
                "metadata": {},
                "output_type": "display_data"
              }
            ]
          }
        },
        "bfb27080a4654360acc9ea7d6f0ab539": {
          "model_module": "@jupyter-widgets/controls",
          "model_module_version": "1.5.0",
          "model_name": "SliderStyleModel",
          "state": {
            "_model_module": "@jupyter-widgets/controls",
            "_model_module_version": "1.5.0",
            "_model_name": "SliderStyleModel",
            "_view_count": null,
            "_view_module": "@jupyter-widgets/base",
            "_view_module_version": "1.2.0",
            "_view_name": "StyleView",
            "description_width": "",
            "handle_color": null
          }
        },
        "ee607c49e9374539b6c957f961ce78a0": {
          "model_module": "@jupyter-widgets/base",
          "model_module_version": "1.2.0",
          "model_name": "LayoutModel",
          "state": {
            "_model_module": "@jupyter-widgets/base",
            "_model_module_version": "1.2.0",
            "_model_name": "LayoutModel",
            "_view_count": null,
            "_view_module": "@jupyter-widgets/base",
            "_view_module_version": "1.2.0",
            "_view_name": "LayoutView",
            "align_content": null,
            "align_items": null,
            "align_self": null,
            "border": null,
            "bottom": null,
            "display": null,
            "flex": null,
            "flex_flow": null,
            "grid_area": null,
            "grid_auto_columns": null,
            "grid_auto_flow": null,
            "grid_auto_rows": null,
            "grid_column": null,
            "grid_gap": null,
            "grid_row": null,
            "grid_template_areas": null,
            "grid_template_columns": null,
            "grid_template_rows": null,
            "height": null,
            "justify_content": null,
            "justify_items": null,
            "left": null,
            "margin": null,
            "max_height": null,
            "max_width": null,
            "min_height": null,
            "min_width": null,
            "object_fit": null,
            "object_position": null,
            "order": null,
            "overflow": null,
            "overflow_x": null,
            "overflow_y": null,
            "padding": null,
            "right": null,
            "top": null,
            "visibility": null,
            "width": null
          }
        },
        "f53ac37c50dd464783f6c40529026ac2": {
          "model_module": "@jupyter-widgets/base",
          "model_module_version": "1.2.0",
          "model_name": "LayoutModel",
          "state": {
            "_model_module": "@jupyter-widgets/base",
            "_model_module_version": "1.2.0",
            "_model_name": "LayoutModel",
            "_view_count": null,
            "_view_module": "@jupyter-widgets/base",
            "_view_module_version": "1.2.0",
            "_view_name": "LayoutView",
            "align_content": null,
            "align_items": null,
            "align_self": null,
            "border": null,
            "bottom": null,
            "display": null,
            "flex": null,
            "flex_flow": null,
            "grid_area": null,
            "grid_auto_columns": null,
            "grid_auto_flow": null,
            "grid_auto_rows": null,
            "grid_column": null,
            "grid_gap": null,
            "grid_row": null,
            "grid_template_areas": null,
            "grid_template_columns": null,
            "grid_template_rows": null,
            "height": null,
            "justify_content": null,
            "justify_items": null,
            "left": null,
            "margin": null,
            "max_height": null,
            "max_width": null,
            "min_height": null,
            "min_width": null,
            "object_fit": null,
            "object_position": null,
            "order": null,
            "overflow": null,
            "overflow_x": null,
            "overflow_y": null,
            "padding": null,
            "right": null,
            "top": null,
            "visibility": null,
            "width": null
          }
        }
      }
    }
  },
  "nbformat": 4,
  "nbformat_minor": 0
}
