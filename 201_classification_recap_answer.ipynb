{
 "cells": [
  {
   "cell_type": "markdown",
   "metadata": {},
   "source": [
    "# 분류 모델 복습: Titanic 생존자 예측\n",
    "\n",
    "Titanic 데이터셋은 1912년 침몰한 타이타닉 호의 승객 정보를 담고 있습니다. 이 데이터를 사용하여 승객의 생존 여부를 예측하는 분류 모델을 만들어 보겠습니다."
   ]
  },
  {
   "cell_type": "markdown",
   "metadata": {},
   "source": [
    "#### 데이터 로드"
   ]
  },
  {
   "cell_type": "code",
   "execution_count": 4,
   "metadata": {},
   "outputs": [
    {
     "data": {
      "text/html": [
       "<div>\n",
       "<style scoped>\n",
       "    .dataframe tbody tr th:only-of-type {\n",
       "        vertical-align: middle;\n",
       "    }\n",
       "\n",
       "    .dataframe tbody tr th {\n",
       "        vertical-align: top;\n",
       "    }\n",
       "\n",
       "    .dataframe thead th {\n",
       "        text-align: right;\n",
       "    }\n",
       "</style>\n",
       "<table border=\"1\" class=\"dataframe\">\n",
       "  <thead>\n",
       "    <tr style=\"text-align: right;\">\n",
       "      <th></th>\n",
       "      <th>survived</th>\n",
       "      <th>pclass</th>\n",
       "      <th>sex</th>\n",
       "      <th>age</th>\n",
       "      <th>sibsp</th>\n",
       "      <th>parch</th>\n",
       "      <th>fare</th>\n",
       "      <th>embarked</th>\n",
       "      <th>class</th>\n",
       "      <th>adult_male</th>\n",
       "      <th>alone</th>\n",
       "    </tr>\n",
       "  </thead>\n",
       "  <tbody>\n",
       "    <tr>\n",
       "      <th>0</th>\n",
       "      <td>0</td>\n",
       "      <td>3</td>\n",
       "      <td>male</td>\n",
       "      <td>22.0</td>\n",
       "      <td>1</td>\n",
       "      <td>0</td>\n",
       "      <td>7.2500</td>\n",
       "      <td>S</td>\n",
       "      <td>Third</td>\n",
       "      <td>True</td>\n",
       "      <td>False</td>\n",
       "    </tr>\n",
       "    <tr>\n",
       "      <th>1</th>\n",
       "      <td>1</td>\n",
       "      <td>1</td>\n",
       "      <td>female</td>\n",
       "      <td>38.0</td>\n",
       "      <td>1</td>\n",
       "      <td>0</td>\n",
       "      <td>71.2833</td>\n",
       "      <td>C</td>\n",
       "      <td>First</td>\n",
       "      <td>False</td>\n",
       "      <td>False</td>\n",
       "    </tr>\n",
       "    <tr>\n",
       "      <th>2</th>\n",
       "      <td>1</td>\n",
       "      <td>3</td>\n",
       "      <td>female</td>\n",
       "      <td>26.0</td>\n",
       "      <td>0</td>\n",
       "      <td>0</td>\n",
       "      <td>7.9250</td>\n",
       "      <td>S</td>\n",
       "      <td>Third</td>\n",
       "      <td>False</td>\n",
       "      <td>True</td>\n",
       "    </tr>\n",
       "    <tr>\n",
       "      <th>3</th>\n",
       "      <td>1</td>\n",
       "      <td>1</td>\n",
       "      <td>female</td>\n",
       "      <td>35.0</td>\n",
       "      <td>1</td>\n",
       "      <td>0</td>\n",
       "      <td>53.1000</td>\n",
       "      <td>S</td>\n",
       "      <td>First</td>\n",
       "      <td>False</td>\n",
       "      <td>False</td>\n",
       "    </tr>\n",
       "    <tr>\n",
       "      <th>4</th>\n",
       "      <td>0</td>\n",
       "      <td>3</td>\n",
       "      <td>male</td>\n",
       "      <td>35.0</td>\n",
       "      <td>0</td>\n",
       "      <td>0</td>\n",
       "      <td>8.0500</td>\n",
       "      <td>S</td>\n",
       "      <td>Third</td>\n",
       "      <td>True</td>\n",
       "      <td>True</td>\n",
       "    </tr>\n",
       "  </tbody>\n",
       "</table>\n",
       "</div>"
      ],
      "text/plain": [
       "   survived  pclass     sex   age  sibsp  parch     fare embarked  class  \\\n",
       "0         0       3    male  22.0      1      0   7.2500        S  Third   \n",
       "1         1       1  female  38.0      1      0  71.2833        C  First   \n",
       "2         1       3  female  26.0      0      0   7.9250        S  Third   \n",
       "3         1       1  female  35.0      1      0  53.1000        S  First   \n",
       "4         0       3    male  35.0      0      0   8.0500        S  Third   \n",
       "\n",
       "   adult_male  alone  \n",
       "0        True  False  \n",
       "1       False  False  \n",
       "2       False   True  \n",
       "3       False  False  \n",
       "4        True   True  "
      ]
     },
     "execution_count": 4,
     "metadata": {},
     "output_type": "execute_result"
    }
   ],
   "source": [
    "import seaborn as sns\n",
    "df = sns.load_dataset('titanic')\n",
    "# 사용하지 않을 열을 제거합니다.\n",
    "df = df.drop(['deck', 'embark_town', 'alive', 'who'], axis=1)\n",
    "# 결측치를 처리합니다. 'age'는 중앙값으로, 'embarked'는 최빈값으로 채웁니다.\n",
    "df['age'].fillna(df['age'].median(), inplace=True)\n",
    "df['embarked'].fillna(df['embarked'].mode()[0], inplace=True)\n",
    "\n",
    "df.head()"
   ]
  },
  {
   "cell_type": "markdown",
   "metadata": {},
   "source": [
    "#### Q1. 범주형 변수를 One-hot encoding(`pd.get_dummies`)하세요\n",
    "\n",
    "'sex', 'embarked', 'class' 열에 대해 One-hot encoding을 적용하세요."
   ]
  },
  {
   "cell_type": "code",
   "execution_count": 5,
   "metadata": {},
   "outputs": [],
   "source": [
    "import pandas as pd\n",
    "df2 = pd.get_dummies(df, columns=['sex', 'embarked', 'class'], drop_first=True)\n"
   ]
  },
  {
   "cell_type": "markdown",
   "metadata": {},
   "source": [
    "#### Q2. 모델링을 위해 데이터에서 X와 y(\"survived\")를 분리합니다"
   ]
  },
  {
   "cell_type": "code",
   "execution_count": 6,
   "metadata": {},
   "outputs": [],
   "source": [
    "X = df2.drop('survived', axis=1)\n",
    "y = df2['survived']"
   ]
  },
  {
   "cell_type": "markdown",
   "metadata": {},
   "source": [
    "#### Q3. StandardScaler를 사용하여 X값을 스케일링하세요."
   ]
  },
  {
   "cell_type": "code",
   "execution_count": 7,
   "metadata": {},
   "outputs": [],
   "source": [
    "from sklearn.preprocessing import StandardScaler\n",
    "scaler = StandardScaler()\n",
    "X_scaled = scaler.fit_transform(X)"
   ]
  },
  {
   "cell_type": "markdown",
   "metadata": {},
   "source": [
    "#### Q4. Train/test 데이터를 분리합니다"
   ]
  },
  {
   "cell_type": "code",
   "execution_count": 8,
   "metadata": {},
   "outputs": [],
   "source": [
    "from sklearn.model_selection import train_test_split\n",
    "\n",
    "X_train, X_test, y_train, y_test = train_test_split(\n",
    "    X_scaled, y, test_size=0.2, random_state=42)"
   ]
  },
  {
   "cell_type": "markdown",
   "metadata": {},
   "source": [
    "#### Q5. 랜덤 포레스트 모델을 학습시키세요"
   ]
  },
  {
   "cell_type": "code",
   "execution_count": 9,
   "metadata": {},
   "outputs": [],
   "source": [
    "from sklearn.ensemble import RandomForestClassifier\n",
    "\n",
    "rf_model = RandomForestClassifier()\n",
    "rf_model.fit(X_train, y_train)\n",
    "rf_y_pred = rf_model.predict(X_test)"
   ]
  },
  {
   "cell_type": "markdown",
   "metadata": {},
   "source": [
    "#### Q6. 모델 성능을 평가합니다"
   ]
  },
  {
   "cell_type": "code",
   "execution_count": null,
   "metadata": {},
   "outputs": [
    {
     "data": {
      "image/png": "[encoded data removed]",
      "text/plain": [
       "<Figure size 640x480 with 2 Axes>"
      ]
     },
     "metadata": {},
     "output_type": "display_data"
    },
    {
     "name": "stdout",
     "output_type": "stream",
     "text": [
      "정확도: 0.8156, 정밀도: 0.7808. 회수율: 0.7703\n"
     ]
    }
   ],
   "source": [
    "from sklearn.metrics import confusion_matrix, accuracy_score, precision_score, recall_score\n",
    "\n",
    "import matplotlib.pyplot as plt\n",
    "\n",
    "confusion_matrix_rf = confusion_matrix(y_test, rf_y_pred)\n",
    "confusion_matrix_rf\n",
    "\n",
    "sns.heatmap(confusion_matrix_rf, annot=True, cmap=\"Blues\", fmt=\"d\")\n",
    "plt.xlabel(\"Predicted\")\n",
    "plt.ylabel(\"Actual\")\n",
    "plt.title(\"Confusion Matrix\")\n",
    "plt.show()\n",
    "\n",
    "accuracy_rf = accuracy_score(y_test, rf_y_pred)\n",
    "precision_rf = precision_score(y_test, rf_y_pred)\n",
    "recall_rf = recall_score(y_test, rf_y_pred)\n",
    "\n",
    "print(f\"정확도: {round(accuracy_rf, 4)}, 정밀도: {round(precision_rf, 4)}. 회수율: {round(recall_rf, 4)}\")\n"
   ]
  },
  {
   "cell_type": "markdown",
   "metadata": {},
   "source": [
    "#### Q7. Feature Importance를 확인합니다"
   ]
  },
  {
   "cell_type": "code",
   "execution_count": null,
   "metadata": {},
   "outputs": [
    {
     "data": {
      "image/png": "[encoded data removed]",
      "text/plain": [
       "<Figure size 640x480 with 1 Axes>"
      ]
     },
     "metadata": {},
     "output_type": "display_data"
    }
   ],
   "source": [
    "import seaborn as sns\n",
    "\n",
    "import matplotlib.pyplot as plt\n",
    "\n",
    "importances = rf_model.feature_importances_\n",
    "sns.barplot(x=importances, y=X.columns)\n",
    "plt.xlabel(\"Importance\")\n",
    "plt.ylabel(\"Features\")\n",
    "plt.title(\"Feature Importances\")\n",
    "plt.show()"
   ]
  },
  {
   "cell_type": "code",
   "execution_count": 13,
   "metadata": {},
   "outputs": [
    {
     "data": {
      "text/plain": [
       "array([0, 0, 0, 1, 0, 1, 1, 0, 1, 1, 0, 0, 0, 0, 0, 1, 0, 1, 0, 0, 0, 1,\n",
       "       0, 0, 0, 0, 0, 0, 0, 1, 0, 1, 1, 1, 0, 0, 1, 1, 1, 0, 0, 0, 0, 0,\n",
       "       0, 0, 0, 0, 0, 0, 1, 1, 0, 1, 0, 1, 0, 1, 1, 0, 0, 1, 1, 0, 0, 1,\n",
       "       0, 0, 0, 1, 1, 1, 1, 1, 0, 0, 1, 1, 1, 1, 0, 1, 1, 0, 1, 0, 1, 1,\n",
       "       0, 0, 1, 0, 0, 0, 0, 0, 0, 0, 1, 0, 0, 0, 1, 0, 0, 1, 1, 0, 0, 1,\n",
       "       1, 0, 1, 1, 0, 0, 0, 0, 1, 0, 0, 1, 1, 1, 0, 0, 1, 0, 0, 0, 1, 0,\n",
       "       0, 1, 1, 0, 1, 0, 0, 0, 0, 1, 1, 0, 0, 1, 0, 1, 1, 0, 0, 0, 0, 1,\n",
       "       0, 0, 0, 1, 1, 1, 0, 1, 0, 1, 0, 0, 0, 1, 0, 0, 0, 1, 1, 1, 0, 0,\n",
       "       0, 1, 1], dtype=int64)"
      ]
     },
     "execution_count": 13,
     "metadata": {},
     "output_type": "execute_result"
    }
   ],
   "source": [
    "rf_y_pred = rf_model.predict(X_test)\n",
    "rf_y_pred"
   ]
  },
  {
   "cell_type": "code",
   "execution_count": 14,
   "metadata": {},
   "outputs": [
    {
     "data": {
      "text/plain": [
       "array([[0.8       , 0.2       ],\n",
       "       [0.98      , 0.02      ],\n",
       "       [0.9525    , 0.0475    ],\n",
       "       [0.        , 1.        ],\n",
       "       [0.64      , 0.36      ],\n",
       "       [0.04      , 0.96      ],\n",
       "       [0.16887854, 0.83112146],\n",
       "       [0.94333333, 0.05666667],\n",
       "       [0.28333333, 0.71666667],\n",
       "       [0.05      , 0.95      ],\n",
       "       [0.51      , 0.49      ],\n",
       "       [0.94      , 0.06      ],\n",
       "       [0.99      , 0.01      ],\n",
       "       [0.93      , 0.07      ],\n",
       "       [0.78453571, 0.21546429],\n",
       "       [0.05      , 0.95      ],\n",
       "       [0.74      , 0.26      ],\n",
       "       [0.03658333, 0.96341667],\n",
       "       [0.84      , 0.16      ],\n",
       "       [0.95      , 0.05      ],\n",
       "       [0.97      , 0.03      ],\n",
       "       [0.49183333, 0.50816667],\n",
       "       [0.81      , 0.19      ],\n",
       "       [1.        , 0.        ],\n",
       "       [1.        , 0.        ],\n",
       "       [0.95      , 0.05      ],\n",
       "       [0.8       , 0.2       ],\n",
       "       [0.96166667, 0.03833333],\n",
       "       [0.82      , 0.18      ],\n",
       "       [0.43      , 0.57      ],\n",
       "       [0.97333333, 0.02666667],\n",
       "       [0.35      , 0.65      ],\n",
       "       [0.19      , 0.81      ],\n",
       "       [0.33      , 0.67      ],\n",
       "       [0.6875    , 0.3125    ],\n",
       "       [0.86      , 0.14      ],\n",
       "       [0.38      , 0.62      ],\n",
       "       [0.16887854, 0.83112146],\n",
       "       [0.12      , 0.88      ],\n",
       "       [1.        , 0.        ],\n",
       "       [0.97      , 0.03      ],\n",
       "       [0.86      , 0.14      ],\n",
       "       [1.        , 0.        ],\n",
       "       [0.88332628, 0.11667372],\n",
       "       [0.71      , 0.29      ],\n",
       "       [0.89      , 0.11      ],\n",
       "       [0.5282381 , 0.4717619 ],\n",
       "       [1.        , 0.        ],\n",
       "       [0.67      , 0.33      ],\n",
       "       [0.66      , 0.34      ],\n",
       "       [0.14      , 0.86      ],\n",
       "       [0.01      , 0.99      ],\n",
       "       [0.99      , 0.01      ],\n",
       "       [0.13      , 0.87      ],\n",
       "       [0.99      , 0.01      ],\n",
       "       [0.04      , 0.96      ],\n",
       "       [0.941     , 0.059     ],\n",
       "       [0.03      , 0.97      ],\n",
       "       [0.04      , 0.96      ],\n",
       "       [0.54      , 0.46      ],\n",
       "       [0.72333333, 0.27666667],\n",
       "       [0.05      , 0.95      ],\n",
       "       [0.01      , 0.99      ],\n",
       "       [0.885     , 0.115     ],\n",
       "       [0.88332628, 0.11667372],\n",
       "       [0.02      , 0.98      ],\n",
       "       [0.959     , 0.041     ],\n",
       "       [0.92      , 0.08      ],\n",
       "       [0.67      , 0.33      ],\n",
       "       [0.        , 1.        ],\n",
       "       [0.1       , 0.9       ],\n",
       "       [0.05      , 0.95      ],\n",
       "       [0.15      , 0.85      ],\n",
       "       [0.        , 1.        ],\n",
       "       [0.99      , 0.01      ],\n",
       "       [0.99      , 0.01      ],\n",
       "       [0.20866425, 0.79133575],\n",
       "       [0.04      , 0.96      ],\n",
       "       [0.        , 1.        ],\n",
       "       [0.47      , 0.53      ],\n",
       "       [0.96      , 0.04      ],\n",
       "       [0.        , 1.        ],\n",
       "       [0.        , 1.        ],\n",
       "       [0.97725505, 0.02274495],\n",
       "       [0.43      , 0.57      ],\n",
       "       [0.79      , 0.21      ],\n",
       "       [0.        , 1.        ],\n",
       "       [0.01      , 0.99      ],\n",
       "       [1.        , 0.        ],\n",
       "       [1.        , 0.        ],\n",
       "       [0.36      , 0.64      ],\n",
       "       [0.97      , 0.03      ],\n",
       "       [0.95      , 0.05      ],\n",
       "       [0.99207468, 0.00792532],\n",
       "       [1.        , 0.        ],\n",
       "       [0.84      , 0.16      ],\n",
       "       [0.88      , 0.12      ],\n",
       "       [0.96      , 0.04      ],\n",
       "       [0.        , 1.        ],\n",
       "       [0.59      , 0.41      ],\n",
       "       [0.89      , 0.11      ],\n",
       "       [0.99      , 0.01      ],\n",
       "       [0.        , 1.        ],\n",
       "       [0.97166667, 0.02833333],\n",
       "       [0.99      , 0.01      ],\n",
       "       [0.32      , 0.68      ],\n",
       "       [0.        , 1.        ],\n",
       "       [0.87      , 0.13      ],\n",
       "       [0.55      , 0.45      ],\n",
       "       [0.46      , 0.54      ],\n",
       "       [0.03      , 0.97      ],\n",
       "       [0.89      , 0.11      ],\n",
       "       [0.        , 1.        ],\n",
       "       [0.1625    , 0.8375    ],\n",
       "       [0.83583333, 0.16416667],\n",
       "       [1.        , 0.        ],\n",
       "       [0.5       , 0.5       ],\n",
       "       [0.60130952, 0.39869048],\n",
       "       [0.01      , 0.99      ],\n",
       "       [0.92      , 0.08      ],\n",
       "       [0.94      , 0.06      ],\n",
       "       [0.        , 1.        ],\n",
       "       [0.01      , 0.99      ],\n",
       "       [0.04      , 0.96      ],\n",
       "       [0.95      , 0.05      ],\n",
       "       [0.695     , 0.305     ],\n",
       "       [0.1       , 0.9       ],\n",
       "       [0.57      , 0.43      ],\n",
       "       [0.8       , 0.2       ],\n",
       "       [0.99      , 0.01      ],\n",
       "       [0.05458333, 0.94541667],\n",
       "       [0.8       , 0.2       ],\n",
       "       [1.        , 0.        ],\n",
       "       [0.36      , 0.64      ],\n",
       "       [0.34      , 0.66      ],\n",
       "       [0.86      , 0.14      ],\n",
       "       [0.01      , 0.99      ],\n",
       "       [0.55833333, 0.44166667],\n",
       "       [0.9975    , 0.0025    ],\n",
       "       [0.82      , 0.18      ],\n",
       "       [0.99      , 0.01      ],\n",
       "       [0.        , 1.        ],\n",
       "       [0.37      , 0.63      ],\n",
       "       [0.86      , 0.14      ],\n",
       "       [0.73      , 0.27      ],\n",
       "       [0.        , 1.        ],\n",
       "       [0.96      , 0.04      ],\n",
       "       [0.38      , 0.62      ],\n",
       "       [0.14      , 0.86      ],\n",
       "       [0.96      , 0.04      ],\n",
       "       [0.93525325, 0.06474675],\n",
       "       [0.91      , 0.09      ],\n",
       "       [0.74333333, 0.25666667],\n",
       "       [0.34      , 0.66      ],\n",
       "       [1.        , 0.        ],\n",
       "       [0.92      , 0.08      ],\n",
       "       [0.65094444, 0.34905556],\n",
       "       [0.1732833 , 0.8267167 ],\n",
       "       [0.        , 1.        ],\n",
       "       [0.2       , 0.8       ],\n",
       "       [0.75592186, 0.24407814],\n",
       "       [0.49961905, 0.50038095],\n",
       "       [0.85814286, 0.14185714],\n",
       "       [0.        , 1.        ],\n",
       "       [0.95408333, 0.04591667],\n",
       "       [0.8       , 0.2       ],\n",
       "       [0.931     , 0.069     ],\n",
       "       [0.03      , 0.97      ],\n",
       "       [0.99      , 0.01      ],\n",
       "       [0.98      , 0.02      ],\n",
       "       [0.72      , 0.28      ],\n",
       "       [0.06228571, 0.93771429],\n",
       "       [0.1625    , 0.8375    ],\n",
       "       [0.36      , 0.64      ],\n",
       "       [0.915     , 0.085     ],\n",
       "       [1.        , 0.        ],\n",
       "       [0.98      , 0.02      ],\n",
       "       [0.04095238, 0.95904762],\n",
       "       [0.31      , 0.69      ]])"
      ]
     },
     "execution_count": 14,
     "metadata": {},
     "output_type": "execute_result"
    }
   ],
   "source": [
    "rf_y_pred_proba = rf_model.predict_proba(X_test)\n",
    "rf_y_pred_proba"
   ]
  },
  {
   "cell_type": "markdown",
   "metadata": {},
   "source": [
    "<추가 설명>\n",
    "\n",
    "추가로 참고할 수 있는 성능 지표들은 아래를 참고하세요.\n",
    "\n",
    "#### F1 Score\n",
    "\n",
    "F1 Score는 Precision(정밀도)과 Recall(재현율)의 조화평균입니다. 이 두 지표를 균형있게 고려하여 모델의 성능을 평가합니다.\n",
    "\n",
    "F1 = 2 * (Precision * Recall) / (Precision + Recall)\n",
    "\n",
    "```python\n",
    "from sklearn.metrics import f1_score\n",
    "f1 = f1_score(y_true, y_pred)\n",
    "```\n",
    "\n",
    "#### AUC/ROC (Area Under the Curve / Receiver Operating Characteristic)\n",
    "\n",
    "[참고](https://mlu-explain.github.io/roc-auc/)\n",
    "\n",
    "방금까지의 예측 값은 예측 확률을 0.5를 기준으로 0/1을 구분했습니다. 하지만 이는 바뀔 수 있죠. 이 임계값(threshold)을 변경해가며 모델의 성능 변화를 종합적으로 평가합니다.\n",
    "\n",
    "**ROC 곡선**: \n",
    "- X축: False Positive Rate (1 - Specificity)\n",
    "- Y축: True Positive Rate (Sensitivity 또는 Recall)\n",
    "- 임계값을 변경해가며 이 두 값의 변화를 그래프로 나타냅니다.\n",
    "\n",
    "```python\n",
    "from sklearn.metrics import roc_auc_score, roc_curve\n",
    "auc = roc_auc_score(y_true, y_pred_proba)\n",
    "fpr, tpr, thresholds = roc_curve(y_true, y_pred_proba)\n",
    "```"
   ]
  }
 ],
 "metadata": {
  "kernelspec": {
   "display_name": "base",
   "language": "python",
   "name": "python3"
  },
  "language_info": {
   "codemirror_mode": {
    "name": "ipython",
    "version": 3
   },
   "file_extension": ".py",
   "mimetype": "text/x-python",
   "name": "python",
   "nbconvert_exporter": "python",
   "pygments_lexer": "ipython3",
   "version": "3.11.7"
  }
 },
 "nbformat": 4,
 "nbformat_minor": 2
}
