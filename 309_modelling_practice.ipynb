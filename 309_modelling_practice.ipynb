{
 "cells": [
  {
   "cell_type": "markdown",
   "metadata": {},
   "source": [
    "# 분석 프로젝트\n",
    "\n",
    "생산설비의 관리에 있어 다양한 기계 부품의 상태와 성능을 유지 관리하기 위해 데이터 분석과 인공지능 기술의 활용이 점점 더 중요해지고 있습니다. 특히, 기계의 윤활 상태와 부품의 마모 상태를 실시간으로 모니터링하는 것은 기계의 수명을 연장하고 유지보수 비용을 절감하는 데 중요한 역할을 합니다.\n",
    "\n",
    "이번 프로젝트는 생산설비 분야의 데이터를 분석하고 이를 활용하여 작동오일의 상태를 실시간으로 모니터링할 수 있는 모델을 개발하는 것을 목표로 합니다. 이를 통해 생산설비 관리의 지능화와 인공지능 기술의 발전을 도모하고자 합니다.\n",
    "\n",
    "### 데이터 탐색 및 전처리\n",
    "- 데이터셋의 기본 구조와 각 변수의 특성을 파악합니다.\n",
    "- 데이터의 기초 통계 분석을 통해 각 변수의 분포와 특성을 이해합니다.\n",
    "\n",
    "### 신경망 모델 구축\n",
    "- 건설장비에서 작동오일의 상태를 '정상'과 '이상'으로 분류하는 이진분류 모델을 구축합니다.\n",
    "- 모델의 성능을 평가하고, 필요 시 하이퍼파라미터 튜닝을 통해 모델 성능을 향상시킵니다.\n",
    "\n",
    "### 결과 해석\n",
    "- 모델의 예측 근거를 살펴 봅니다.\n",
    "\n",
    "### 데이터 명세서\n",
    "- **COMPONENT_ARBITRARY**: 샘플 오일 관련 부품 (Component 4종, 비식별화)\n",
    "- **ANONYMOUS_1**: 무명 Feature 1. 수치형 데이터\n",
    "- **YEAR**: 오일 샘플 및 진단 해 (Year)\n",
    "- **SAMPLE_TRANSFER_DAY**: 오일 샘플링 후 진단 기관으로 이동한 기간 (Days)\n",
    "- **ANONYMOUS_2**: 무명 Feature 2. 수치형 데이터\n",
    "- **AG**: 원소기호 AG - Silver 함유량\n",
    "- **AL**: 원소기호 AL - Aluminium 함유량\n",
    "- **B**: 원소기호 B - Boron 함유량\n",
    "- **BA**: 원소기호 BA - Barium 함유량\n",
    "- **BE**: 원소기호 BE - Beryllium 함유량\n",
    "- **CA**: 원소기호 CA - Calcium 함유량\n",
    "- **CO**: 원소기호 CO - Cobalt 함유량\n",
    "- **CR**: 원소기호 CR - Chromium 함유량\n",
    "- **CU**: 원소기호 CU - Copper 함유량\n",
    "- **FE**: 원소기호 FE - Iron 함유량\n",
    "- **H2O**: Water 함유량\n",
    "- **LI**: 원소기호 LI - Lithium 함유량\n",
    "- **MG**: 원소기호 MG - Magnesium 함유량\n",
    "- **MN**: 원소기호 MN - Manganese 함유량\n",
    "- **MO**: 원소기호 MO - Molybdenum 함유량\n",
    "- **NA**: 원소기호 NA - Sodium 함유량\n",
    "- **NI**: 원소기호 NI - Nickel 함유량\n",
    "- **P**: 원소기호 P - Phosphorus 함유량\n",
    "- **PB**: 원소기호 PB - Lead 함유량\n",
    "- **PQINDEX**: Particle Quantifier Index\n",
    "- **S**: 원소기호 S - Sulphur 함유량\n",
    "- **SB**: 원소기호 SB - Antimony 함유량\n",
    "- **SI**: 원소기호 SI - Silicone 함유량\n",
    "- **SN**: 원소기호 SN - Tin 함유량\n",
    "- **TI**: 원소기호 TI - Titanium 함유량\n",
    "- **V**: 원소기호 V - Vanadium 함유량\n",
    "- **V40**: Viscosity @ 40 degrees\n",
    "- **ZN**: 원소기호 ZN - Zinc 함유량\n",
    "- **Y_LABEL**: 오일 정상 여부 (0: 정상, 1: 이상)\n"
   ]
  },
  {
   "cell_type": "code",
   "execution_count": null,
   "metadata": {},
   "outputs": [],
   "source": [
    "import pandas as pd\n",
    "facility_data = pd.read_csv('facility_data.csv')"
   ]
  },
  {
   "cell_type": "code",
   "execution_count": null,
   "metadata": {},
   "outputs": [],
   "source": []
  }
 ],
 "metadata": {
  "kernelspec": {
   "display_name": "base",
   "language": "python",
   "name": "python3"
  },
  "language_info": {
   "codemirror_mode": {
    "name": "ipython",
    "version": 3
   },
   "file_extension": ".py",
   "mimetype": "text/x-python",
   "name": "python",
   "nbconvert_exporter": "python",
   "pygments_lexer": "ipython3",
   "version": "3.11.7"
  }
 },
 "nbformat": 4,
 "nbformat_minor": 2
}
