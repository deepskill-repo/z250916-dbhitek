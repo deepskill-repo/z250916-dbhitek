{
 "cells": [
  {
   "cell_type": "markdown",
   "metadata": {},
   "source": [
    "# 파이썬 기본 recap"
   ]
  },
  {
   "cell_type": "code",
   "execution_count": null,
   "metadata": {},
   "outputs": [],
   "source": [
    "# 1.1 math 패키지 불러오기\n",
    "import math\n",
    "\n",
    "# 새로운 패키지 설치\n",
    "# !pip install <새로운 패키지>"
   ]
  },
  {
   "cell_type": "code",
   "execution_count": null,
   "metadata": {},
   "outputs": [],
   "source": [
    "# 1.2 [TASK] pandas 패키지 불러오기\n",
    "import ____"
   ]
  },
  {
   "cell_type": "code",
   "execution_count": null,
   "metadata": {},
   "outputs": [],
   "source": [
    "# 1.3 엑셀 파일 불러오기\n",
    "pandas.read_excel(\"sales.xlsx\")"
   ]
  },
  {
   "cell_type": "code",
   "execution_count": null,
   "metadata": {},
   "outputs": [],
   "source": [
    "# 1.4 패키지 이름 축약\n",
    "import pandas as pd\n",
    "pd.read_excel(\"sales.xlsx\")"
   ]
  },
  {
   "cell_type": "code",
   "execution_count": null,
   "metadata": {},
   "outputs": [],
   "source": [
    "# 1.5 변수로 저장\n",
    "import pandas as pd\n",
    "sales = pd.read_excel(\"sales.xlsx\")"
   ]
  },
  {
   "cell_type": "code",
   "execution_count": null,
   "metadata": {},
   "outputs": [],
   "source": [
    "# 1.6 출력 후 확인\n",
    "import pandas as pd\n",
    "sales = pd.read_excel(\"sales.xlsx\")\n",
    "sales.head()"
   ]
  },
  {
   "cell_type": "code",
   "execution_count": null,
   "metadata": {},
   "outputs": [],
   "source": [
    "# 1.7 데이터 확인\n",
    "# .head()\n",
    "# .info()\n",
    "# .describe()\n",
    "# 위 기능 등을 확인해보세요 예를 들어..\n",
    "sales.head()"
   ]
  },
  {
   "cell_type": "code",
   "execution_count": null,
   "metadata": {},
   "outputs": [],
   "source": [
    "# 1.8 열 선택\n",
    "sales[\"product\"]"
   ]
  },
  {
   "cell_type": "markdown",
   "metadata": {},
   "source": [
    "참고: 비교 연산자(comparison)\n",
    "\n",
    "* `==` (같음)\n",
    "* `!=` (같지 않음)\n",
    "* `<` (적음)\n",
    "* `>` (큼)\n",
    "* `<=` (적거나 같음)\n",
    "* `>=` (크거나 같음)"
   ]
  },
  {
   "cell_type": "code",
   "execution_count": null,
   "metadata": {},
   "outputs": [],
   "source": [
    "# 1.9 필터\n",
    "# 하나씩 시도해보세요\n",
    "# sales[sales[\"product\"] == \"범핑\"]\n",
    "# sales[sales[\"price\"] > 100]\n",
    "# sales[sales[\"price\"] > 100].reset_index(drop=True)"
   ]
  },
  {
   "cell_type": "code",
   "execution_count": null,
   "metadata": {},
   "outputs": [],
   "source": [
    "# [TASK] 1.10 필터\n",
    "# \"WLP\" 제품만 남기려면?\n",
    "\n",
    "# $100k 이하 제품만 남기려면?\n",
    "\n",
    "# $100k 초과이면서 판매수량이 50 초과인 행만 남기려면? 양식: 데이터[(조건문1) & (조건문2)]\n"
   ]
  },
  {
   "cell_type": "code",
   "execution_count": null,
   "metadata": {},
   "outputs": [],
   "source": [
    "# 1.11 [TASK] 새로운 열 총 매출(revenue) 만들기\n",
    "sales[\"____\"] = sales[\"____\"] * sales[\"____\"]\n",
    "sales"
   ]
  },
  {
   "cell_type": "code",
   "execution_count": null,
   "metadata": {},
   "outputs": [],
   "source": [
    "# 1.12 데이터 요약하기\n",
    "sales[\"quantity\"].sum()"
   ]
  },
  {
   "cell_type": "code",
   "execution_count": null,
   "metadata": {},
   "outputs": [],
   "source": [
    "# 1.13 그룹별로 요약하기\n",
    "sales.groupby(\"customer\")[\"quantity\"].sum()"
   ]
  },
  {
   "cell_type": "code",
   "execution_count": null,
   "metadata": {},
   "outputs": [],
   "source": [
    "# 1.14 [TASK] product 별로 요약하기\n"
   ]
  },
  {
   "cell_type": "code",
   "execution_count": null,
   "metadata": {},
   "outputs": [],
   "source": [
    "# 1.15 여러 열을 이용해 요약하기\n",
    "sales.groupby([\"customer\", \"product\"])[\"quantity\"].sum()"
   ]
  },
  {
   "cell_type": "code",
   "execution_count": null,
   "metadata": {},
   "outputs": [],
   "source": [
    "# 1.16 사용자 정의 함수\n",
    "def group_sum(x, columns):\n",
    "    summary = x.groupby(columns).sum(numeric_only=True)\n",
    "    return summary"
   ]
  },
  {
   "cell_type": "markdown",
   "metadata": {},
   "source": [
    "## `class` 사용하기 (객체 지향형 프로그래밍, Object Oriented Programing)\n",
    "\n",
    "왜 `head(data)`가 아니라 `data.head()`일까?"
   ]
  },
  {
   "cell_type": "code",
   "execution_count": null,
   "metadata": {},
   "outputs": [],
   "source": [
    "# 개체 지향형: function-oriented vs object-oriented\n",
    "import pandas as pd\n",
    "sales = pd.read_excel(\"sales.xlsx\")  # 함수(function)\n",
    "sales.to_csv(\"sales2.xlsx\")          # 메소드(method)\n",
    "sales.columns                        # 속성(attributes)"
   ]
  },
  {
   "cell_type": "code",
   "execution_count": null,
   "metadata": {},
   "outputs": [],
   "source": [
    "# 클래스(class) 간단 체험\n",
    "class OvenFactory():\n",
    "    is_door_open = False\n",
    "    temperature = 100\n",
    "    \n",
    "    def open_door(self):\n",
    "        self.is_door_open = True\n",
    "    def close_door(self):\n",
    "        self.is_door_open = False\n",
    "        \n",
    "    def set_temperature(self, temperature):\n",
    "        self.temperature = temperature"
   ]
  },
  {
   "cell_type": "code",
   "execution_count": null,
   "metadata": {},
   "outputs": [],
   "source": [
    "# 개체 생성\n",
    "new_oven = OvenFactory()"
   ]
  },
  {
   "cell_type": "code",
   "execution_count": null,
   "metadata": {},
   "outputs": [],
   "source": [
    "# 메소드 & 속성\n",
    "new_oven.open_door()\n",
    "new_oven.is_door_open"
   ]
  },
  {
   "cell_type": "code",
   "execution_count": null,
   "metadata": {},
   "outputs": [],
   "source": [
    "# 메소드 & 속성\n",
    "new_oven.set_temperature(temperature=250)\n",
    "new_oven.temperature"
   ]
  },
  {
   "cell_type": "markdown",
   "metadata": {},
   "source": [
    "Q1. 제품을 나타내는 'Product' 클래스를 정의해보세요. 이 클래스는 다음 속성과 메서드를 포함해야 합니다:\n",
    " - 속성: name (제품명), quality_score (품질 점수, 0-100), production_cost (생산 비용)\n",
    " - 메소드:\n",
    "   - improve_quality(): 품질 관리를 통해 품질 점수를 5점 증가시키는 메서드 (단, 100점을 초과할 수 없음)\n",
    "   - reduce_cost(amount): 생산 비용을 줄이는 메서드\n",
    "   - get_info(): 현재 제품의 정보(제품명, 품질 점수, 생산 비용)를 반환하는 메서드"
   ]
  },
  {
   "cell_type": "code",
   "execution_count": null,
   "metadata": {},
   "outputs": [],
   "source": [
    "# 여기에 Q1 내용을 작성하세요"
   ]
  },
  {
   "cell_type": "markdown",
   "metadata": {},
   "source": [
    "Q2. 'Product' 클래스를 사용하여 새로운 제품 객체를 생성하세요. 이 객체로 다음 작업을 수행해보세요:\n",
    "- 제품 정보 출력\n",
    "- 품질 개선 작업 2회 실행\n",
    "- 생산 비용 10% 절감\n",
    "- 변경된 제품 정보 다시 출력"
   ]
  },
  {
   "cell_type": "code",
   "execution_count": null,
   "metadata": {},
   "outputs": [],
   "source": [
    "# 여기에 Q2 내용을 작성하세요"
   ]
  }
 ],
 "metadata": {
  "kernelspec": {
   "display_name": "Python 3",
   "language": "python",
   "name": "python3"
  },
  "language_info": {
   "codemirror_mode": {
    "name": "ipython",
    "version": 3
   },
   "file_extension": ".py",
   "mimetype": "text/x-python",
   "name": "python",
   "nbconvert_exporter": "python",
   "pygments_lexer": "ipython3",
   "version": "3.11.7"
  },
  "orig_nbformat": 4
 },
 "nbformat": 4,
 "nbformat_minor": 2
}
